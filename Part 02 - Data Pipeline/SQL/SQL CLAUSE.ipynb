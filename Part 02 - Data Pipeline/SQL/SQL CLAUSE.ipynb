{
  "nbformat": 4,
  "nbformat_minor": 0,
  "metadata": {
    "colab": {
      "name": "SQL CLAUSE.ipynb",
      "provenance": []
    },
    "kernelspec": {
      "name": "python3",
      "display_name": "Python 3"
    },
    "language_info": {
      "name": "python"
    }
  },
  "cells": [
    {
      "cell_type": "markdown",
      "source": [
        "# **ORDER BY CLAUSE**\n",
        "\n",
        "The SQL **ORDER BY** clause sort the records in ascending or descending order, based on one or more columns. Some databases sort the query results in ascending order by default.\n",
        "\n",
        "Using the **ORDER BY** clause, we can sort the records in ascending or descending order as per our requirement. The records will get sorted in ascending order whenever the **ASC keyword** is used with ORDER by clause. **DESC keyword** will sort the records in descending order. If no keyword is specified after the column based on which we have to sort the records, in that case, the sorting will get done by default in the ascending order."
      ],
      "metadata": {
        "id": "8f58fQJPlSEs"
      }
    },
    {
      "cell_type": "code",
      "execution_count": null,
      "metadata": {
        "id": "iSVgOCP0iQCt"
      },
      "outputs": [],
      "source": [
        "\"\"\" The ORDER BY keyword sort the database records in ascending or descending order.\n",
        "    The ORDER BY keyword sorts the records in ascending order by default. To sort the records in descending order, use the DESC keyword. \"\"\"\n",
        "\n",
        "# ORDER BY Syntax:\n",
        "\n",
        "SELECT column1, column2, ...\n",
        "FROM table_name\n",
        "[WHERE condition(s)]\n",
        "[ORDER BY column1, column2, .. columnN] [ASC | DESC];\n",
        "\n",
        "# `ORDER BY` specifies the order in which the records will get displayed.\n",
        "# `ASC` orders the records in ascending order (By Default).\n",
        "# `DESC` orders the records in descending order."
      ]
    },
    {
      "cell_type": "markdown",
      "source": [
        "## **Example**\n",
        "\n",
        "Consider the CUSTOMERS table having the following records:\n",
        "\n",
        "`Table 1: CUSTOMERS`\n",
        "\n",
        "| ID | NAME     | AGE | ADDRESS   | SALARY   |\n",
        "|----|:---------|:----|:----------|:---------|\n",
        "|  1 | Ramesh   |  32 | Ahmedabad |  2000.00 |\n",
        "|  2 | Khilan   |  25 | Delhi     |  1500.00 |\n",
        "|  3 | kaushik  |  23 | Kota      |  2000.00 |\n",
        "|  4 | Chaitali |  25 | Mumbai    |  6500.00 |\n",
        "|  5 | Hardik   |  27 | Bhopal    |  8500.00 |\n",
        "|  6 | Komal    |  22 | MP        |  4500.00 |\n",
        "|  7 | Muffy    |  24 | Indore    | 10000.00 |\n",
        "\n",
        "### Solution 1:\n",
        "\n",
        "The following code block sorts the result in ascending order by the `NAME` and `SALARY`.\n",
        "\n",
        "> `SELECT * FROM CUSTOMERS ORDER BY NAME ASC, SALARY ASC;`\n",
        "\n",
        "| ID | NAME     | AGE | ADDRESS   | SALARY   |\n",
        "|----|:---------|:----|:----------|:---------|\n",
        "|  4 | Chaitali |  25 | Mumbai    |  6500.00 |\n",
        "|  5 | Hardik   |  27 | Bhopal    |  8500.00 |\n",
        "|  3 | kaushik  |  23 | Kota      |  2000.00 |\n",
        "|  2 | Khilan   |  25 | Delhi     |  1500.00 |\n",
        "|  6 | Komal    |  22 | MP        |  4500.00 |\n",
        "|  7 | Muffy    |  24 | Indore    | 10000.00 |\n",
        "|  1 | Ramesh   |  32 | Ahmedabad |  2000.00 |\n",
        "\n",
        "### Solution 2:\n",
        "\n",
        "The following code block sorts the result in descending order by `NAME`.\n",
        "\n",
        "> `SELECT * FROM CUSTOMERS ORDER BY NAME DESC;`\n",
        "\n",
        "| ID | NAME     | AGE | ADDRESS   | SALARY   |\n",
        "|----|:---------|:----|:----------|:---------|\n",
        "|  1 | Ramesh   |  32 | Ahmedabad |  2000.00 |\n",
        "|  7 | Muffy    |  24 | Indore    | 10000.00 |\n",
        "|  6 | Komal    |  22 | MP        |  4500.00 |\n",
        "|  2 | Khilan   |  25 | Delhi     |  1500.00 |\n",
        "|  3 | kaushik  |  23 | Kota      |  2000.00 |\n",
        "|  5 | Hardik   |  27 | Bhopal    |  8500.00 |\n",
        "|  4 | Chaitali |  25 | Mumbai    |  6500.00 |"
      ],
      "metadata": {
        "id": "i1Sc-DOGm4Jq"
      }
    },
    {
      "cell_type": "code",
      "source": [
        ""
      ],
      "metadata": {
        "id": "Rg8as6TupjOF"
      },
      "execution_count": null,
      "outputs": []
    },
    {
      "cell_type": "markdown",
      "source": [
        "# **GROUP BY CLAUSE**\n",
        "\n",
        "The SQL **GROUP BY** clause is used in collaboration with the **SELECT** statement to arrange identical data into groups. This **GROUP BY** clause follows the **WHERE** clause in a **SELECT** statement and precedes the **ORDER BY** clause.\n",
        "\n",
        "### **Explanation:**\n",
        "\n",
        "The **SELECT** statement containing a **GROUP BY** clause gets evaluated.\n",
        "\n",
        "*   The **SELECT** clause specifies the columns to be retrieved.\n",
        "*   The **FROM** clause specifies the tables that the database must access.\n",
        "*   The **WHERE** clause specifies the rows to be retrieved. If there is no **WHERE** clause, all rows will be retrieved by default.\n",
        "*   The **GROUP BY** clause specifies how the rows should get grouped."
      ],
      "metadata": {
        "id": "CXzGgh0NsADx"
      }
    },
    {
      "cell_type": "code",
      "source": [
        "\"\"\" The GROUP BY statement groups records that have the same values into summary rows.\n",
        "    The GROUP BY statement is often used with aggregate functions (COUNT(), MAX(), MIN(), SUM(), AVG()) to group the result-set by one or more columns. \"\"\"\n",
        "\n",
        "# GROUP BY Syntax:\n",
        "\n",
        "SELECT column1, column2, ...\n",
        "FROM table_name\n",
        "[WHERE condition(s)]\n",
        "[GROUP BY column1, column2, .. columnN]\n",
        "[ORDER BY column1, column2, .. columnN] [ASC | DESC];"
      ],
      "metadata": {
        "id": "i07A6KJLsIiy"
      },
      "execution_count": null,
      "outputs": []
    },
    {
      "cell_type": "markdown",
      "source": [
        "## **Example**\n",
        "\n",
        "Consider the CUSTOMERS table having the following records:\n",
        "\n",
        "`Table 1: CUSTOMERS`\n",
        "\n",
        "| ID | NAME     | AGE | ADDRESS   | SALARY   |\n",
        "|----|:---------|:----|:----------|:---------|\n",
        "|  1 | Ramesh   |  32 | Ahmedabad |  2000.00 |\n",
        "|  2 | Ramesh   |  25 | Delhi     |  1500.00 |\n",
        "|  3 | kaushik  |  23 | Kota      |  2000.00 |\n",
        "|  4 | kaushik  |  25 | Mumbai    |  6500.00 |\n",
        "|  5 | Hardik   |  27 | Bhopal    |  8500.00 |\n",
        "|  6 | Komal    |  22 | MP        |  4500.00 |\n",
        "|  7 | Muffy    |  24 | Indore    | 10000.00 |\n",
        "\n",
        "### Solution 1:\n",
        "\n",
        "The following code block groups the result to extract the total amount of salary for each customer.\n",
        "\n",
        "> `SELECT NAME, SUM(SALARY) FROM CUSTOMERS GROUP BY NAME;`\n",
        "\n",
        "| NAME    | SUM(SALARY) |\n",
        "|:--------|:------------|\n",
        "| Hardik  |     8500.00 |\n",
        "| kaushik |     8500.00 |\n",
        "| Komal   |     4500.00 |\n",
        "| Muffy   |    10000.00 |\n",
        "| Ramesh  |     3500.00 |"
      ],
      "metadata": {
        "id": "B-JlobVK5lMo"
      }
    },
    {
      "cell_type": "code",
      "source": [
        ""
      ],
      "metadata": {
        "id": "je8w_XwZ5GMY"
      },
      "execution_count": null,
      "outputs": []
    },
    {
      "cell_type": "markdown",
      "source": [
        "# **HAVING CLAUSE**\n",
        "\n",
        "The **HAVING** clause enables us to specify conditions that filter which group results appear in the results. The **WHERE** clause places conditions on the selected columns, whereas the **HAVING** clause places conditions on groups created by the **GROUP BY** clause.\n",
        "\n",
        "In the same way, we use the **WHERE** clause to restrict the rows that we select, we can use the **HAVING** clause to restrict groups. When we use the **HAVING** clause, the database restricts the groups as follows:\n",
        "\n",
        "*   Rows are grouped.\n",
        "*   The group function is applied.\n",
        "*   Groups matching the HAVING clause are displayed."
      ],
      "metadata": {
        "id": "rBU6zVbjv7hS"
      }
    },
    {
      "cell_type": "code",
      "source": [
        "\"\"\" The HAVING clause must follow the GROUP BY clause in a query and precede the ORDER BY clause (if used).\n",
        "    The following code block has the syntax of the SELECT statement, including the HAVING clause. \"\"\"\n",
        "\n",
        "# HAVING Syntax.\n",
        "\n",
        "SELECT column_name(s)\n",
        "FROM table_name\n",
        "WHERE [condition]\n",
        "GROUP BY column_name(s)\n",
        "HAVING [condition]\n",
        "ORDER BY column_name(s);"
      ],
      "metadata": {
        "id": "1kTp2MSKwBvi"
      },
      "execution_count": null,
      "outputs": []
    },
    {
      "cell_type": "markdown",
      "source": [
        "## **Example**\n",
        "\n",
        "Consider the CUSTOMERS table having the following records:\n",
        "\n",
        "`Table 1: CUSTOMERS`\n",
        "\n",
        "| ID | NAME     | AGE | ADDRESS   | SALARY   |\n",
        "|----|:---------|:----|:----------|:---------|\n",
        "|  1 | Ramesh   |  32 | Ahmedabad |  2000.00 |\n",
        "|  2 | Khilan   |  25 | Delhi     |  1500.00 |\n",
        "|  3 | kaushik  |  23 | Kota      |  2000.00 |\n",
        "|  4 | Chaitali |  25 | Mumbai    |  6500.00 |\n",
        "|  5 | Hardik   |  27 | Bhopal    |  8500.00 |\n",
        "|  6 | Komal    |  22 | MP        |  4500.00 |\n",
        "|  7 | Muffy    |  24 | Indore    | 10000.00 |\n",
        "\n",
        "### Solution 1:\n",
        "\n",
        "Following is an example that would display a record for a similar age count that would be more than or equal to 2.\n",
        "\n",
        "> `SELECT ID, NAME, AGE, ADDRESS, SALARY FROM CUSTOMERS GROUP BY age HAVING COUNT(age) >= 2;`\n",
        "\n",
        "| ID | NAME   | AGE | ADDRESS | SALARY  |\n",
        "|:---|:-------|:----|:--------|:--------|\n",
        "|  2 | Khilan |  25 | Delhi   | 1500.00 |\n",
        "\n",
        "\n",
        "## **Difference between WHERE and HAVING Clause.**\n",
        "\n",
        "The **WHERE** clause specifies a condition for filtering records before any groupings are made. On the contrary, the HAVING clause specifies a condition for filtering values from a group.\n",
        "\n",
        "The **HAVING** clause in SQL is used in conjunction with the **GROUP BY** clause that specifies conditions to filter which group set appears in the result. It returns only those values from the groups in the final result that fulfills certain conditions. We can also use the **WHERE** and **HAVING** clauses together during selection. In this case, the **WHERE** clause first filters the individual rows, then rows are grouped, performs aggregate calculations, and at last **HAVING** clause filters the groups."
      ],
      "metadata": {
        "id": "epsOttwA8gN-"
      }
    },
    {
      "cell_type": "code",
      "source": [
        ""
      ],
      "metadata": {
        "id": "whfwG0_OwB2X"
      },
      "execution_count": null,
      "outputs": []
    },
    {
      "cell_type": "markdown",
      "source": [
        "# **UNION CLAUSE**\n",
        "\n",
        "The SQL **UNION** clause is used to combine the results of two or more **SELECT** statements without returning any duplicate rows.\n",
        "\n",
        "To use the **UNION** clause, each SELECT statement must have:\n",
        "\n",
        "*   The same number of columns selected.\n",
        "*   The same number of column expressions.\n",
        "*   The same data type.\n",
        "*   Have them in the same order.\n",
        "*   But they need not have to be of the same length.\n",
        "\n",
        "## **Example**\n",
        "\n",
        "Consider the following two tables CUSTOMERS and ORDERS having the following records:\n",
        "\n",
        "`Table 1: CUSTOMERS`\n",
        "\n",
        "| ID | NAME     | AGE | ADDRESS   | SALARY   |\n",
        "|----|:---------|:----|:----------|:---------|\n",
        "|  1 | Ramesh   |  32 | Ahmedabad |  2000.00 |\n",
        "|  2 | Khilan   |  25 | Delhi     |  1500.00 |\n",
        "|  3 | kaushik  |  23 | Kota      |  2000.00 |\n",
        "|  4 | Chaitali |  25 | Mumbai    |  6500.00 |\n",
        "|  5 | Hardik   |  27 | Bhopal    |  8500.00 |\n",
        "|  6 | Komal    |  22 | MP        |  4500.00 |\n",
        "|  7 | Muffy    |  24 | Indore    | 10000.00 |\n",
        "\n",
        "`Table 2: ORDERS`\n",
        "\n",
        "|OID  | DATE                | CUSTOMER_ID | AMOUNT |\n",
        "|-----|:--------------------|:------------|:-------|\n",
        "| 102 | 2009-10-08 00:00:00 |           3 |   3000 |\n",
        "| 100 | 2009-10-08 00:00:00 |           3 |   1500 |\n",
        "| 101 | 2009-11-20 00:00:00 |           2 |   1560 |\n",
        "| 103 | 2008-05-20 00:00:00 |           4 |   2060 |\n",
        "\n",
        "### Solution 1:\n",
        "\n",
        "Now, let's join these two tables in our SELECT statement as follows:\n",
        "\n",
        "> `SELECT ID, NAME, AMOUNT, DATE FROM CUSTOMERS LEFT JOIN ORDERS ON CUSTOMERS.ID = ORDERS.CUSTOMER_ID`\n",
        "\n",
        "> `UNION`\n",
        "\n",
        "> `SELECT ID, NAME, AMOUNT, DATE FROM CUSTOMERS RIGHT JOIN ORDERS ON CUSTOMERS.ID = ORDERS.CUSTOMER_ID;`\n",
        "\n",
        "| ID   | NAME     | AMOUNT | DATE                |\n",
        "|:-----|:---------|:-------|:--------------------|\n",
        "|    1 | Ramesh   |   NULL | NULL                |\n",
        "|    2 | Khilan   |   1560 | 2009-11-20 00:00:00 |\n",
        "|    3 | kaushik  |   3000 | 2009-10-08 00:00:00 |\n",
        "|    3 | kaushik  |   1500 | 2009-10-08 00:00:00 |\n",
        "|    4 | Chaitali |   2060 | 2008-05-20 00:00:00 |\n",
        "|    5 | Hardik   |   NULL | NULL                |\n",
        "|    6 | Komal    |   NULL | NULL                |\n",
        "|    7 | Muffy    |   NULL | NULL                |"
      ],
      "metadata": {
        "id": "Rz_7ASOmXEGD"
      }
    },
    {
      "cell_type": "code",
      "source": [
        "\"\"\" \n",
        "The UNION operator is used to combine the result-set of two or more SELECT statements.\n",
        "\n",
        "    1. Every SELECT statement within UNION must have the same number of columns.\n",
        "    2. The columns must also have similar data types.\n",
        "    3. The columns in every SELECT statement must also be in the same order.\n",
        "\"\"\"\n",
        "\n",
        "# UNION Clause Syntax.\n",
        "\n",
        "SELECT column_name(s)\n",
        "FROM table1\n",
        "[WHERE condition]\n",
        "\n",
        "UNION\n",
        "\n",
        "SELECT column_name(s)\n",
        "FROM table2\n",
        "[WHERE condition]"
      ],
      "metadata": {
        "id": "I5deQDHIYvc4"
      },
      "execution_count": null,
      "outputs": []
    },
    {
      "cell_type": "code",
      "source": [
        ""
      ],
      "metadata": {
        "id": "-LJJRP-uwkgK"
      },
      "execution_count": null,
      "outputs": []
    },
    {
      "cell_type": "markdown",
      "source": [
        "# **UNION ALL CLAUSE**\n",
        "\n",
        "The SQL **UNION ALL** clause is used to combine the results of two **SELECT** statements, including duplicate rows. The rules apply to the **UNION** clause also applies to the **UNION ALL** clause.\n",
        "\n",
        "## **Example**\n",
        "\n",
        "Consider the following two tables CUSTOMERS and ORDERS having the following records:\n",
        "\n",
        "`Table 1: CUSTOMERS`\n",
        "\n",
        "| ID | NAME     | AGE | ADDRESS   | SALARY   |\n",
        "|----|:---------|:----|:----------|:---------|\n",
        "|  1 | Ramesh   |  32 | Ahmedabad |  2000.00 |\n",
        "|  2 | Khilan   |  25 | Delhi     |  1500.00 |\n",
        "|  3 | kaushik  |  23 | Kota      |  2000.00 |\n",
        "|  4 | Chaitali |  25 | Mumbai    |  6500.00 |\n",
        "|  5 | Hardik   |  27 | Bhopal    |  8500.00 |\n",
        "|  6 | Komal    |  22 | MP        |  4500.00 |\n",
        "|  7 | Muffy    |  24 | Indore    | 10000.00 |\n",
        "\n",
        "`Table 2: ORDERS`\n",
        "\n",
        "|OID  | DATE                | CUSTOMER_ID | AMOUNT |\n",
        "|-----|:--------------------|:------------|:-------|\n",
        "| 102 | 2009-10-08 00:00:00 |           3 |   3000 |\n",
        "| 100 | 2009-10-08 00:00:00 |           3 |   1500 |\n",
        "| 101 | 2009-11-20 00:00:00 |           2 |   1560 |\n",
        "| 103 | 2008-05-20 00:00:00 |           4 |   2060 |\n",
        "\n",
        "### Solution 1:\n",
        "\n",
        "Now, let's join these two tables in our SELECT statement as follows:\n",
        "\n",
        "> `SELECT ID, NAME, AMOUNT, DATE FROM CUSTOMERS LEFT JOIN ORDERS ON CUSTOMERS.ID = ORDERS.CUSTOMER_ID`\n",
        "\n",
        "> `UNION ALL`\n",
        "\n",
        "> `SELECT ID, NAME, AMOUNT, DATE FROM CUSTOMERS RIGHT JOIN ORDERS ON CUSTOMERS.ID = ORDERS.CUSTOMER_ID;`\n",
        "\n",
        "| ID   | NAME     | AMOUNT | DATE                |\n",
        "|:-----|:---------|:-------|:--------------------|\n",
        "|    1 | Ramesh   |   NULL | NULL                |\n",
        "|    2 | Khilan   |   1560 | 2009-11-20 00:00:00 |\n",
        "|    3 | kaushik  |   3000 | 2009-10-08 00:00:00 |\n",
        "|    3 | kaushik  |   1500 | 2009-10-08 00:00:00 |\n",
        "|    4 | Chaitali |   2060 | 2008-05-20 00:00:00 |\n",
        "|    5 | Hardik   |   NULL | NULL                |\n",
        "|    6 | Komal    |   NULL | NULL                |\n",
        "|    7 | Muffy    |   NULL | NULL                |\n",
        "|    3 | kaushik  |   3000 | 2009-10-08 00:00:00 |\n",
        "|    3 | kaushik  |   1500 | 2009-10-08 00:00:00 |\n",
        "|    2 | Khilan   |   1560 | 2009-11-20 00:00:00 |\n",
        "|    4 | Chaitali |   2060 | 2008-05-20 00:00:00 |"
      ],
      "metadata": {
        "id": "7Iow677NidA7"
      }
    },
    {
      "cell_type": "code",
      "source": [
        "\"\"\" The UNION operator selects only distinct values by default. To allow duplicate values, we use UNION ALL. \"\"\"\n",
        "\n",
        "# UNION ALL Clause Syntax.\n",
        "\n",
        "SELECT column_name(s)\n",
        "FROM table1\n",
        "[WHERE condition]\n",
        "\n",
        "UNION ALL\n",
        "\n",
        "SELECT column_name(s)\n",
        "FROM table2\n",
        "[WHERE condition]"
      ],
      "metadata": {
        "id": "SeUCUIw1ieoR"
      },
      "execution_count": null,
      "outputs": []
    },
    {
      "cell_type": "code",
      "source": [
        ""
      ],
      "metadata": {
        "id": "c79-bl7Swtd-"
      },
      "execution_count": null,
      "outputs": []
    },
    {
      "cell_type": "markdown",
      "source": [
        "# **SQL INTERSECT CLAUSE**\n",
        "\n",
        "SQL **INTERSECT** clause is used to combine two **SELECT** statements but returns rows only from the first **SELECT** statement that are identical to a row in the second **SELECT** statement.\n",
        "\n",
        "# **SQL EXCEPT CLAUSE**\n",
        "\n",
        "SQL **EXCEPT** clause combines two **SELECT** statements and returns rows from the first **SELECT** statement that are not returned by the second **SELECT** statement."
      ],
      "metadata": {
        "id": "mHs0zMqqn8kn"
      }
    },
    {
      "cell_type": "code",
      "source": [
        ""
      ],
      "metadata": {
        "id": "gVSiOi0Rxbet"
      },
      "execution_count": null,
      "outputs": []
    },
    {
      "cell_type": "markdown",
      "source": [
        "# **REFERENCES**\n",
        "\n",
        "> [SQL Tutorialspoint](https://www.tutorialspoint.com/sql/)\n",
        "\n",
        "> [SQL W3Schools](https://www.w3schools.com/sql/default.asp)\n",
        "\n",
        "> [SQL JavaTpoint](https://www.javatpoint.com/sql-tutorial)\n",
        "\n"
      ],
      "metadata": {
        "id": "GsRM_GxzzL1e"
      }
    }
  ]
}