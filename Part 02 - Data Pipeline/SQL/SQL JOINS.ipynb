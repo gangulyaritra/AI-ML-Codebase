{
  "nbformat": 4,
  "nbformat_minor": 0,
  "metadata": {
    "colab": {
      "name": "SQL JOINS.ipynb",
      "provenance": []
    },
    "kernelspec": {
      "name": "python3",
      "display_name": "Python 3"
    },
    "language_info": {
      "name": "python"
    }
  },
  "cells": [
    {
      "cell_type": "markdown",
      "source": [
        "# **SQL JOINS**\n",
        "\n",
        "A SQL JOIN [[Wikipedia]](https://en.wikipedia.org/wiki/Join_(SQL) statement is used to combine data or rows from two or more tables based on a common or related field between them.\n",
        "\n",
        "## **Different types of JOINS in SQL**\n",
        "\n",
        "***JOIN is an SQL clause used to query and access data from multiple tables based on logical relationships between those tables.***\n",
        "\n",
        "![sqljoin.png](https://www.devart.com/dbforge/sql/sqlcomplete/images/joins-types.png)\n",
        "\n",
        "*   **INNER JOIN** - *Returns rows when there is a match in both tables.*\n",
        "*   **LEFT OUTER JOIN** - *Returns all rows from the left table, even if there are no matches in the right table.*\n",
        "*   **RIGHT OUTER JOIN** - *Returns all rows from the right table, even if there are no matches in the left table.*\n",
        "*   **FULL OUTER JOIN** - *Returns rows when there is a match in one of the tables.*\n",
        "*   **CROSS JOIN** - *Returns the Cartesian product of the sets of records from the two or more joined tables.*\n",
        "*   **SELF JOIN** - *It is used to join a table to itself as if the table were two tables, temporarily renaming at least one table in the SQL statement.*"
      ],
      "metadata": {
        "id": "QaefUG88B_OF"
      }
    },
    {
      "cell_type": "code",
      "execution_count": null,
      "metadata": {
        "id": "ZUdNAEMlAQ4S"
      },
      "outputs": [],
      "source": [
        ""
      ]
    },
    {
      "cell_type": "markdown",
      "source": [
        "# **INNER JOIN**\n",
        "\n",
        "INNER JOIN statement returns only the matching records or rows in both tables and is used to retrieve data that appears in both tables.\n",
        "\n",
        "The INNER JOIN keyword selects all records from both tables as long as the condition is satisfied. This keyword will create the result-set by combining all rows from both the tables where the condition satisfies, i.e., the value of the common field will be the same.\n",
        "\n",
        "![inner-join.png](https://static.javatpoint.com/sqlpages/images/types-of-sql-join.png)\n",
        "\n",
        "## **Example**\n",
        "\n",
        "`Table 1: Students`\n",
        "\n",
        "| Student_ID | Student_Name      | Subject              | Teacher_ID |\n",
        "|------------|:------------------|:---------------------|:-----------|\n",
        "| 101        |  Aritra           |  Data Science        |  T201      |\n",
        "| 102        |  Ashoke           |  Computer Science    |  T202      |\n",
        "| 103        |  Trina            |  IT                  |  T201      |\n",
        "| 104        |  Dimpu            |  AI & ML             |  T203      |\n",
        "| 105        |  Anjali           |  Electronics         |  T204      |\n",
        "| 106        |  Anil             |  Electrical          |  T205      |\n",
        "| 107        |  Nandita          |  Mechanical          |  T206      |\n",
        "\n",
        "`Table 2: Teachers`\n",
        "\n",
        "| Teacher_ID  | Teacher_Name      | Teacher_Email        |\n",
        "|-------------|:------------------|:---------------------|\n",
        "| T201        |  Mr. Davis        |  davis@essex.ac.uk   |\n",
        "| T202        |  Mrs. Jonas       |  jonas@essex.ac.uk   |\n",
        "| T204        |  Mrs. Lopez       |  lopez@essex.ac.uk   |\n",
        "| T207        |  Mrs. Wiley       |  wiley@essex.ac.uk   |\n",
        "| T209        |  Mr. Bean         |  bean@essex.ac.uk    |\n",
        "| T208        |  Mr. Lausen       |  lausen@essex.ac.uk  |\n",
        "| T203        |  Dr. Ganguly      |  ganguly@essex.ac.uk |\n",
        "\n",
        "We have two tables, i.e., **Students** and **Teachers**. Let's write the SQL Queries to join the table using the **INNER JOIN** as follows:\n",
        "\n",
        "> `Select Student_ID, StudentName, TeacherName, TeacherEmail FROM Students s INNER JOIN Teachers t ON s.TeacherID = t.TeacherID`\n",
        "\n",
        "| Student_ID | Student_Name | Teacher_Name   | Teacher_Email            |\n",
        "|------------|:-------------|:---------------|:-------------------------|\n",
        "| 101        |  Aritra      |  Mr. Davis     |  davis@essex.ac.uk                        |\n",
        "| 102        |  Ashoke      |  Mrs. Jonas    |  jonas@essex.ac.uk                    |\n",
        "| 103        |  Trina       |  Mr. Davis     |  davis@essex.ac.uk                        |\n",
        "| 104        |  Dimpu       |  Dr. Ganguly   |  ganguly@essex.ac.uk                    |\n",
        "| 105        |  Anjali      |  Mrs. Lopez    |  lopez@essex.ac.uk                    |"
      ],
      "metadata": {
        "id": "7rFI2IOXIZ50"
      }
    },
    {
      "cell_type": "code",
      "source": [
        "\"\"\" The INNER JOIN keyword selects records that have matching values in both tables. \"\"\"\n",
        "\n",
        "# INNER JOIN Syntax.\n",
        "\n",
        "SELECT column_name(s)\n",
        "FROM table1\n",
        "INNER JOIN table2\n",
        "ON table1.column_name = table2.column_name;\n",
        "\n",
        "\"\"\"\n",
        "---------------------\n",
        "JOIN Three Tables (Orders, Customers, Shippers)\n",
        "---------------------\n",
        "\n",
        "The following SQL statement selects all orders with customer and shipper information:\n",
        "\"\"\"\n",
        "\n",
        "SELECT Orders.OrderID, Customers.CustomerName, Shippers.ShipperName\n",
        "FROM ((Orders INNER JOIN Customers ON Orders.CustomerID = Customers.CustomerID) INNER JOIN Shippers ON Orders.ShipperID = Shippers.ShipperID);"
      ],
      "metadata": {
        "id": "xl2fdkEHJGpi"
      },
      "execution_count": null,
      "outputs": []
    },
    {
      "cell_type": "code",
      "source": [
        ""
      ],
      "metadata": {
        "id": "QCSNdtkOGm61"
      },
      "execution_count": null,
      "outputs": []
    },
    {
      "cell_type": "markdown",
      "source": [
        "# **OUTER JOIN**\n",
        "\n",
        "> Left Outer Join\n",
        "\n",
        "> Right Outer Join\n",
        "\n",
        "> Full Outer Join\n",
        "\n"
      ],
      "metadata": {
        "id": "EN_izoOISpDw"
      }
    },
    {
      "cell_type": "markdown",
      "source": [
        "# **LEFT OUTER JOIN**\n",
        "\n",
        "The **LEFT JOIN** keyword returns all records from the left table (table1), and the matching records from the right table (table2). If both the tables do not contain any matched records, it returns the NULL value.\n",
        "\n",
        "![left-join.png](https://static.javatpoint.com/sqlpages/images/types-of-sql-join4.png)\n",
        "\n",
        "\n",
        "## **Example**\n",
        "\n",
        "`Table 1: Students`\n",
        "\n",
        "| Student_ID | Student_Name      | Subject              | Teacher_ID |\n",
        "|------------|:------------------|:---------------------|:-----------|\n",
        "| 101        |  Aritra           |  Data Science        |  T201      |\n",
        "| 102        |  Ashoke           |  Computer Science    |  T202      |\n",
        "| 103        |  Trina            |  IT                  |  T201      |\n",
        "| 104        |  Dimpu            |  AI & ML             |  T203      |\n",
        "| 105        |  Anjali           |  Electronics         |  T204      |\n",
        "| 106        |  Anil             |  Electrical          |  T205      |\n",
        "| 107        |  Nandita          |  Mechanical          |  T206      |\n",
        "\n",
        "`Table 2: Teachers`\n",
        "\n",
        "| Teacher_ID  | Teacher_Name      | Teacher_Email        |\n",
        "|-------------|:------------------|:---------------------|\n",
        "| T201        |  Mr. Davis        |  davis@essex.ac.uk   |\n",
        "| T202        |  Mrs. Jonas       |  jonas@essex.ac.uk   |\n",
        "| T204        |  Mrs. Lopez       |  lopez@essex.ac.uk   |\n",
        "| T207        |  Mrs. Wiley       |  wiley@essex.ac.uk   |\n",
        "| T209        |  Mr. Bean         |  bean@essex.ac.uk    |\n",
        "| T208        |  Mr. Lausen       |  lausen@essex.ac.uk  |\n",
        "| T203        |  Dr. Ganguly      |  ganguly@essex.ac.uk |\n",
        "\n",
        "We have two tables, i.e., **Students** and **Teachers**. Let's write the SQL Queries to join the table using the **LEFT JOIN** as follows:\n",
        "\n",
        "> `Select Student_ID, StudentName, TeacherName, TeacherEmail FROM Students s LEFT JOIN Teachers t ON s.TeacherID = t.TeacherID`\n",
        "\n",
        "| Student_ID | Student_Name | Teacher_Name   | Teacher_Email            |\n",
        "|------------|:-------------|:---------------|:-------------------------|\n",
        "| 101        |  Aritra      |  Mr. Davis     |  davis@essex.ac.uk                        |\n",
        "| 102        |  Ashoke      |  Mrs. Jonas    |  jonas@essex.ac.uk                    |\n",
        "| 103        |  Trina       |  Mr. Davis     |  davis@essex.ac.uk                        |\n",
        "| 104        |  Dimpu       |  Dr. Ganguly   |  ganguly@essex.ac.uk                    |\n",
        "| 105        |  Anjali      |  Mrs. Lopez    |  lopez@essex.ac.uk                    |\n",
        "| 106        |  Anil      |  NULL    |  NULL    |\n",
        "| 107        |  Nandita   |  NULL    |  NULL    |"
      ],
      "metadata": {
        "id": "29pSrNrISpI9"
      }
    },
    {
      "cell_type": "code",
      "source": [
        "\"\"\" The LEFT OUTER JOIN retrieves the output of the matching row between both the tables.\n",
        "    If no records match from the left table, it shows those records with NULL values. \"\"\"\n",
        "\n",
        "# LEFT JOIN Syntax.\n",
        "\n",
        "SELECT column_name(s)\n",
        "FROM table1\n",
        "LEFT JOIN table2\n",
        "ON table1.column_name = table2.column_name;"
      ],
      "metadata": {
        "id": "He9EW5SXSpV2"
      },
      "execution_count": null,
      "outputs": []
    },
    {
      "cell_type": "code",
      "source": [
        ""
      ],
      "metadata": {
        "id": "q0fLZxUAizvW"
      },
      "execution_count": null,
      "outputs": []
    },
    {
      "cell_type": "markdown",
      "source": [
        "# **RIGHT OUTER JOIN**\n",
        "\n",
        "The **RIGHT JOIN** keyword returns all records from the right table (table2), and the matching records from the left table (table1). If both the tables do not contain any matched records, it returns the NULL value.\n",
        "\n",
        "![right-join.png](https://static.javatpoint.com/sqlpages/images/types-of-sql-join6.png)\n",
        "\n",
        "## **Example**\n",
        "\n",
        "`Table 1: Students`\n",
        "\n",
        "| Student_ID | Student_Name      | Subject              | Teacher_ID |\n",
        "|------------|:------------------|:---------------------|:-----------|\n",
        "| 101        |  Aritra           |  Data Science        |  T201      |\n",
        "| 102        |  Ashoke           |  Computer Science    |  T202      |\n",
        "| 103        |  Trina            |  IT                  |  T201      |\n",
        "| 104        |  Dimpu            |  AI & ML             |  T203      |\n",
        "| 105        |  Anjali           |  Electronics         |  T204      |\n",
        "| 106        |  Anil             |  Electrical          |  T205      |\n",
        "| 107        |  Nandita          |  Mechanical          |  T206      |\n",
        "\n",
        "`Table 2: Teachers`\n",
        "\n",
        "| Teacher_ID  | Teacher_Name      | Teacher_Email        |\n",
        "|-------------|:------------------|:---------------------|\n",
        "| T201        |  Mr. Davis        |  davis@essex.ac.uk   |\n",
        "| T202        |  Mrs. Jonas       |  jonas@essex.ac.uk   |\n",
        "| T204        |  Mrs. Lopez       |  lopez@essex.ac.uk   |\n",
        "| T207        |  Mrs. Wiley       |  wiley@essex.ac.uk   |\n",
        "| T209        |  Mr. Bean         |  bean@essex.ac.uk    |\n",
        "| T208        |  Mr. Lausen       |  lausen@essex.ac.uk  |\n",
        "| T203        |  Dr. Ganguly      |  ganguly@essex.ac.uk |\n",
        "\n",
        "We have two tables, i.e., **Students** and **Teachers**. Let's write the SQL Queries to join the table using the **RIGHT JOIN** as follows:\n",
        "\n",
        "> `Select Student_ID, StudentName, TeacherName, TeacherEmail FROM Students s RIGHT JOIN Teachers t ON s.TeacherID = t.TeacherID`\n",
        "\n",
        "| Student_ID | Student_Name | Teacher_Name   | Teacher_Email            |\n",
        "|------------|:-------------|:---------------|:-------------------------|\n",
        "| 101        |  Aritra      |  Mr. Davis     |  davis@essex.ac.uk                        |\n",
        "| 102        |  Ashoke      |  Mrs. Jonas    |  jonas@essex.ac.uk                    |\n",
        "| 103        |  Trina       |  Mr. Davis     |  davis@essex.ac.uk                        |\n",
        "| 104        |  Dimpu       |  Dr. Ganguly   |  ganguly@essex.ac.uk                    |\n",
        "| 105        |  Anjali      |  Mrs. Lopez    |  lopez@essex.ac.uk                    |\n",
        "| NULL        |  NULL      |  Mrs. Wiley    |  wiley@essex.ac.uk    |\n",
        "| NULL        |  NULL   |  Mr. Bean    |  bean@essex.ac.uk    |\n",
        "| NULL        |  NULL   |  Mr. Lausen   |  lausen@essex.ac.uk    |"
      ],
      "metadata": {
        "id": "o9b17CRngbsQ"
      }
    },
    {
      "cell_type": "code",
      "source": [
        "\"\"\" The RIGHT OUTER JOIN retrieves the output of the matching row between both the tables.\n",
        "    If no records match from the right table, it shows those records with NULL values. \"\"\"\n",
        "\n",
        "# RIGHT JOIN Syntax.\n",
        "\n",
        "SELECT column_name(s)\n",
        "FROM table1\n",
        "RIGHT JOIN table2\n",
        "ON table1.column_name = table2.column_name;"
      ],
      "metadata": {
        "id": "qBhancpraXcg"
      },
      "execution_count": null,
      "outputs": []
    },
    {
      "cell_type": "code",
      "source": [
        ""
      ],
      "metadata": {
        "id": "IrO3sH3Si0-P"
      },
      "execution_count": null,
      "outputs": []
    },
    {
      "cell_type": "markdown",
      "source": [
        "# **FULL OUTER JOIN**\n",
        "\n",
        "The FULL OUTER JOIN keyword returns all records when there is a match in the left (table1) or right (table2) table records. It is a combination result set of both LEFT JOIN and RIGHT JOIN. The joined tables return all records from both the tables and if no matches are found in the table, it places NULL values.\n",
        "\n",
        "![full-join.png](https://static.javatpoint.com/sqlpages/images/types-of-sql-join8.png)\n",
        "\n",
        "\n",
        "## **Example**\n",
        "\n",
        "`Table 1: Students`\n",
        "\n",
        "| Student_ID | Student_Name      | Subject              | Teacher_ID |\n",
        "|------------|:------------------|:---------------------|:-----------|\n",
        "| 101        |  Aritra           |  Data Science        |  T201      |\n",
        "| 102        |  Ashoke           |  Computer Science    |  T202      |\n",
        "| 103        |  Trina            |  IT                  |  T201      |\n",
        "| 104        |  Dimpu            |  AI & ML             |  T203      |\n",
        "| 105        |  Anjali           |  Electronics         |  T204      |\n",
        "| 106        |  Anil             |  Electrical          |  T205      |\n",
        "| 107        |  Nandita          |  Mechanical          |  T206      |\n",
        "\n",
        "`Table 2: Teachers`\n",
        "\n",
        "| Teacher_ID  | Teacher_Name      | Teacher_Email        |\n",
        "|-------------|:------------------|:---------------------|\n",
        "| T201        |  Mr. Davis        |  davis@essex.ac.uk   |\n",
        "| T202        |  Mrs. Jonas       |  jonas@essex.ac.uk   |\n",
        "| T204        |  Mrs. Lopez       |  lopez@essex.ac.uk   |\n",
        "| T207        |  Mrs. Wiley       |  wiley@essex.ac.uk   |\n",
        "| T209        |  Mr. Bean         |  bean@essex.ac.uk    |\n",
        "| T208        |  Mr. Lausen       |  lausen@essex.ac.uk  |\n",
        "| T203        |  Dr. Ganguly      |  ganguly@essex.ac.uk |\n",
        "\n",
        "We have two tables, i.e., **Students** and **Teachers**. Let's write the SQL Queries to join the table using the **FULL JOIN** as follows:\n",
        "\n",
        "> `Select Student_ID, StudentName, TeacherName, TeacherEmail FROM Students s FULL JOIN Teachers t ON s.TeacherID = t.TeacherID`\n",
        "\n",
        "| Student_ID | Student_Name | Teacher_Name   | Teacher_Email            |\n",
        "|------------|:-------------|:---------------|:-------------------------|\n",
        "| 101        |  Aritra      |  Mr. Davis     |  davis@essex.ac.uk           |\n",
        "| 102        |  Ashoke      |  Mrs. Jonas    |  jonas@essex.ac.uk           |\n",
        "| 103        |  Trina       |  Mr. Davis     |  davis@essex.ac.uk           |\n",
        "| 104        |  Dimpu       |  Dr. Ganguly   |  ganguly@essex.ac.uk           |\n",
        "| 105        |  Anjali      |  Mrs. Lopez    |  lopez@essex.ac.uk           |\n",
        "| 106        |  Anil        |  NULL   |  NULL     |\n",
        "| 107        |  Nandita     |  NULL   |  NULL     |\n",
        "| NULL       |  NULL        |  Mrs. Wiley   |  wiley@essex.ac.uk    |\n",
        "| NULL       |  NULL        |  Mr. Bean     |  bean@essex.ac.uk     |\n",
        "| NULL       |  NULL        |  Dr. Ganguly  |  lausen@essex.ac.uk   |     "
      ],
      "metadata": {
        "id": "MyobnDDIgktD"
      }
    },
    {
      "cell_type": "code",
      "source": [
        "\"\"\" The FULL OUTER JOIN keyword returns all records when there is a match in the left or the right table records. \"\"\"\n",
        "\n",
        "# FULL JOIN Syntax.\n",
        "\n",
        "SELECT column_name(s)\n",
        "FROM table1\n",
        "FULL JOIN table2\n",
        "ON table1.column_name = table2.column_name;"
      ],
      "metadata": {
        "id": "d5sSAmH0aXes"
      },
      "execution_count": null,
      "outputs": []
    },
    {
      "cell_type": "code",
      "source": [
        ""
      ],
      "metadata": {
        "id": "d8O1m7NYi1rb"
      },
      "execution_count": null,
      "outputs": []
    },
    {
      "cell_type": "markdown",
      "source": [
        "# **CROSS JOIN**\n",
        "\n",
        "The CROSS JOIN command in SQL, also known as a cartesian join, returns all combinations of rows from each table. In other words, the CARTESIAN JOIN returns the Cartesian product of two or more joined tables.\n",
        "\n",
        "The CROSS JOIN produces a table that merges each row from the first table with each second table row. It is not required to include any condition in CROSS JOIN.\n",
        "\n",
        "![cross-join.png](https://static.javatpoint.com/mysql/images/mysql-cross-join.png)\n",
        "\n",
        "#### **Syntax:**\n",
        "\n",
        "> `Select * from table_1 cross join table_2;`\n",
        "\n",
        "**OR**\n",
        "\n",
        "> `Select column1, column2, column3 FROM table_1, table_2;`\n",
        "\n",
        "#### **Example:**\n",
        "\n",
        "![cross-join-example.png](https://s33046.pcdn.co/wp-content/uploads/2020/02/sql-cross-join-working-principle.png)"
      ],
      "metadata": {
        "id": "KVcBE5WUAhiZ"
      }
    },
    {
      "cell_type": "code",
      "source": [
        ""
      ],
      "metadata": {
        "id": "vmmCEqpZBTEZ"
      },
      "execution_count": null,
      "outputs": []
    },
    {
      "cell_type": "markdown",
      "source": [
        "# **REFERENCES**\n",
        "\n",
        "> [SQL Tutorialspoint](https://www.tutorialspoint.com/sql/)\n",
        "\n",
        "> [SQL W3Schools](https://www.w3schools.com/sql/default.asp)\n",
        "\n",
        "> [SQL JavaTpoint](https://www.javatpoint.com/sql-tutorial)"
      ],
      "metadata": {
        "id": "ad65xPBS5e4L"
      }
    }
  ]
}