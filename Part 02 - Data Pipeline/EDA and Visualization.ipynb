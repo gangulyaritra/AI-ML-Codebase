{
  "nbformat": 4,
  "nbformat_minor": 0,
  "metadata": {
    "colab": {
      "name": "EDA.ipynb",
      "provenance": []
    },
    "kernelspec": {
      "name": "python3",
      "display_name": "Python 3"
    },
    "language_info": {
      "name": "python"
    }
  },
  "cells": [
    {
      "cell_type": "markdown",
      "source": [
        "# **AutoViz for Data Visualization.**\n",
        "\n",
        ">  [**AutoViz - PyPI**](https://pypi.org/project/autoviz/)\n",
        "\n",
        ">  [**AutoViz - Github**](https://github.com/AutoViML/AutoViz)"
      ],
      "metadata": {
        "id": "ezXQT4LBEQmS"
      }
    },
    {
      "cell_type": "code",
      "source": [
        "!pip install autoviz"
      ],
      "metadata": {
        "id": "Pbidb8nS_eee"
      },
      "execution_count": null,
      "outputs": []
    },
    {
      "cell_type": "code",
      "source": [
        "from autoviz.AutoViz_Class import AutoViz_Class\n",
        "\n",
        "AV = AutoViz_Class()\n",
        "\n",
        "%matplotlib inline"
      ],
      "metadata": {
        "id": "LzGPFQWn_e_0"
      },
      "execution_count": null,
      "outputs": []
    },
    {
      "cell_type": "code",
      "source": [
        "# Import Dataset.\n",
        "import pandas as pd\n",
        "\n",
        "dataset = pd.read_csv(\n",
        "    \"http://www.creditriskanalytics.net/uploads/1/9/5/1/19511601/hmeq.csv\"\n",
        ")\n",
        "dataset.head()"
      ],
      "metadata": {
        "id": "EwRz4yXy_ifk"
      },
      "execution_count": null,
      "outputs": []
    },
    {
      "cell_type": "code",
      "source": [
        "filename = \"http://www.creditriskanalytics.net/uploads/1/9/5/1/19511601/hmeq.csv\"\n",
        "sep = \",\"\n",
        "target = \"BAD\"\n",
        "\n",
        "dft = AV.AutoViz(\n",
        "    filename,\n",
        "    sep,\n",
        "    target,\n",
        "    dataset,\n",
        "    header=0,\n",
        "    verbose=0,\n",
        "    lowess=False,\n",
        "    chart_format=\"svg\",\n",
        "    max_rows_analyzed=150000,\n",
        "    max_cols_analyzed=30,\n",
        ")"
      ],
      "metadata": {
        "id": "vABfqzFO_jGO"
      },
      "execution_count": null,
      "outputs": []
    },
    {
      "cell_type": "markdown",
      "source": [
        "# **Powerful EDA using Sweetviz.**\n",
        "\n",
        ">  [**Sweetviz - PyPI**](https://pypi.org/project/sweetviz/)"
      ],
      "metadata": {
        "id": "agDNcFOCIQu8"
      }
    },
    {
      "cell_type": "code",
      "source": [
        "!pip install sweetviz"
      ],
      "metadata": {
        "id": "nqBIO7UFIngy"
      },
      "execution_count": null,
      "outputs": []
    },
    {
      "cell_type": "code",
      "source": [
        "# Import Library.\n",
        "import sweetviz\n",
        "import pandas as pd\n",
        "\n",
        "# Load Dataset.\n",
        "data = pd.read_csv(\n",
        "    \"http://www.creditriskanalytics.net/uploads/1/9/5/1/19511601/hmeq.csv\"\n",
        ")\n",
        "data.head()"
      ],
      "metadata": {
        "id": "XCXCsDFcIrWx"
      },
      "execution_count": null,
      "outputs": []
    },
    {
      "cell_type": "markdown",
      "source": [
        "### **Analyze a Single Dataframe.**"
      ],
      "metadata": {
        "id": "1KLs7hgUI7uM"
      }
    },
    {
      "cell_type": "code",
      "source": [
        "my_report = sweetviz.analyze([data, \"Dataset\"], target_feat=\"BAD\")"
      ],
      "metadata": {
        "id": "J4AiwLUlI565"
      },
      "execution_count": null,
      "outputs": []
    },
    {
      "cell_type": "code",
      "source": [
        "my_report.show_html(\"Report.html\")"
      ],
      "metadata": {
        "id": "aWcUOU5hJCJJ"
      },
      "execution_count": null,
      "outputs": []
    },
    {
      "cell_type": "markdown",
      "source": [
        "### **Compare two Dataframes (i.e., Test vs. Training sets).**"
      ],
      "metadata": {
        "id": "qOoEgDCbJE-x"
      }
    },
    {
      "cell_type": "code",
      "source": [
        "train = pd.read_csv(\n",
        "    \"https://archive.ics.uci.edu/ml/machine-learning-databases/wine/wine.data\",\n",
        "    header=None,\n",
        ")\n",
        "test = pd.read_csv(\n",
        "    \"http://www.creditriskanalytics.net/uploads/1/9/5/1/19511601/hmeq.csv\"\n",
        ")"
      ],
      "metadata": {
        "id": "PGyELkRbJNux"
      },
      "execution_count": null,
      "outputs": []
    },
    {
      "cell_type": "code",
      "source": [
        "compare_report = sweetviz.compare([train, \"Train\"], [test, \"Test\"])"
      ],
      "metadata": {
        "id": "RnU1GKF_JRcR"
      },
      "execution_count": null,
      "outputs": []
    },
    {
      "cell_type": "code",
      "source": [
        "compare_report.show_html(\"Compare_Report.html\")"
      ],
      "metadata": {
        "id": "qSojWxxGJTch"
      },
      "execution_count": null,
      "outputs": []
    },
    {
      "cell_type": "markdown",
      "source": [
        "# **Dataprep**\n",
        "\n",
        ">  [**Dataprep - PyPI**](https://pypi.org/project/dataprep/)\n",
        "\n",
        ">  [**Dataprep - Website**](https://dataprep.ai/)"
      ],
      "metadata": {
        "id": "VLNkzjoNFo6i"
      }
    },
    {
      "cell_type": "code",
      "source": [
        "!pip install dataprep"
      ],
      "metadata": {
        "id": "4b5dNaHZA47l"
      },
      "execution_count": null,
      "outputs": []
    },
    {
      "cell_type": "code",
      "source": [
        "import pandas as pd\n",
        "from dataprep.eda import create_report\n",
        "\n",
        "data = pd.read_csv(\n",
        "    \"http://www.creditriskanalytics.net/uploads/1/9/5/1/19511601/hmeq.csv\",\n",
        "    delimiter=\";\",\n",
        ")\n",
        "create_report(data)"
      ],
      "metadata": {
        "id": "yjBB8LuYA6sW"
      },
      "execution_count": null,
      "outputs": []
    }
  ]
}