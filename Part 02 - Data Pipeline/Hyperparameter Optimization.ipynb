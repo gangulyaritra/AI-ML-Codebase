{
  "nbformat": 4,
  "nbformat_minor": 0,
  "metadata": {
    "colab": {
      "name": "HyperparameterOptimization.ipynb",
      "provenance": [],
      "collapsed_sections": []
    },
    "kernelspec": {
      "name": "python3",
      "display_name": "Python 3"
    },
    "language_info": {
      "name": "python"
    },
    "widgets": {
      "application/vnd.jupyter.widget-state+json": {
        "2b838c4ea587420abd8abce6e20f9fce": {
          "model_module": "@jupyter-widgets/controls",
          "model_name": "HBoxModel",
          "model_module_version": "1.5.0",
          "state": {
            "_dom_classes": [],
            "_model_module": "@jupyter-widgets/controls",
            "_model_module_version": "1.5.0",
            "_model_name": "HBoxModel",
            "_view_count": null,
            "_view_module": "@jupyter-widgets/controls",
            "_view_module_version": "1.5.0",
            "_view_name": "HBoxView",
            "box_style": "",
            "children": [
              "IPY_MODEL_76e50d6b237e42b7b1ab56aaa547d12a",
              "IPY_MODEL_ca8df979d9b443ef8db399cb96a444a4",
              "IPY_MODEL_e4fd06c4f577480a996d832d9170a09a"
            ],
            "layout": "IPY_MODEL_5b536dcb38aa472880e6427f958e83ad"
          }
        },
        "76e50d6b237e42b7b1ab56aaa547d12a": {
          "model_module": "@jupyter-widgets/controls",
          "model_name": "HTMLModel",
          "model_module_version": "1.5.0",
          "state": {
            "_dom_classes": [],
            "_model_module": "@jupyter-widgets/controls",
            "_model_module_version": "1.5.0",
            "_model_name": "HTMLModel",
            "_view_count": null,
            "_view_module": "@jupyter-widgets/controls",
            "_view_module_version": "1.5.0",
            "_view_name": "HTMLView",
            "description": "",
            "description_tooltip": null,
            "layout": "IPY_MODEL_2eb37f118ae84e20b81a4db019fb5c7b",
            "placeholder": "​",
            "style": "IPY_MODEL_0c7d45afb38c44c89e21c19ff906817b",
            "value": "Optimization Progress: 100%"
          }
        },
        "ca8df979d9b443ef8db399cb96a444a4": {
          "model_module": "@jupyter-widgets/controls",
          "model_name": "FloatProgressModel",
          "model_module_version": "1.5.0",
          "state": {
            "_dom_classes": [],
            "_model_module": "@jupyter-widgets/controls",
            "_model_module_version": "1.5.0",
            "_model_name": "FloatProgressModel",
            "_view_count": null,
            "_view_module": "@jupyter-widgets/controls",
            "_view_module_version": "1.5.0",
            "_view_name": "ProgressView",
            "bar_style": "",
            "description": "",
            "description_tooltip": null,
            "layout": "IPY_MODEL_14717e0bcb9f47c0a4023c1b6903beaf",
            "max": 84,
            "min": 0,
            "orientation": "horizontal",
            "style": "IPY_MODEL_8ea51b288f0c41ecac7055c6b1a155a1",
            "value": 84
          }
        },
        "e4fd06c4f577480a996d832d9170a09a": {
          "model_module": "@jupyter-widgets/controls",
          "model_name": "HTMLModel",
          "model_module_version": "1.5.0",
          "state": {
            "_dom_classes": [],
            "_model_module": "@jupyter-widgets/controls",
            "_model_module_version": "1.5.0",
            "_model_name": "HTMLModel",
            "_view_count": null,
            "_view_module": "@jupyter-widgets/controls",
            "_view_module_version": "1.5.0",
            "_view_name": "HTMLView",
            "description": "",
            "description_tooltip": null,
            "layout": "IPY_MODEL_47d6f5fe60084fe1bf8070b44a87396a",
            "placeholder": "​",
            "style": "IPY_MODEL_7b6f04fdde624dfc966766246f9f5077",
            "value": " 84/84 [47:49&lt;00:00, 30.95s/pipeline]"
          }
        },
        "5b536dcb38aa472880e6427f958e83ad": {
          "model_module": "@jupyter-widgets/base",
          "model_name": "LayoutModel",
          "model_module_version": "1.2.0",
          "state": {
            "_model_module": "@jupyter-widgets/base",
            "_model_module_version": "1.2.0",
            "_model_name": "LayoutModel",
            "_view_count": null,
            "_view_module": "@jupyter-widgets/base",
            "_view_module_version": "1.2.0",
            "_view_name": "LayoutView",
            "align_content": null,
            "align_items": null,
            "align_self": null,
            "border": null,
            "bottom": null,
            "display": null,
            "flex": null,
            "flex_flow": null,
            "grid_area": null,
            "grid_auto_columns": null,
            "grid_auto_flow": null,
            "grid_auto_rows": null,
            "grid_column": null,
            "grid_gap": null,
            "grid_row": null,
            "grid_template_areas": null,
            "grid_template_columns": null,
            "grid_template_rows": null,
            "height": null,
            "justify_content": null,
            "justify_items": null,
            "left": null,
            "margin": null,
            "max_height": null,
            "max_width": null,
            "min_height": null,
            "min_width": null,
            "object_fit": null,
            "object_position": null,
            "order": null,
            "overflow": null,
            "overflow_x": null,
            "overflow_y": null,
            "padding": null,
            "right": null,
            "top": null,
            "visibility": null,
            "width": null
          }
        },
        "2eb37f118ae84e20b81a4db019fb5c7b": {
          "model_module": "@jupyter-widgets/base",
          "model_name": "LayoutModel",
          "model_module_version": "1.2.0",
          "state": {
            "_model_module": "@jupyter-widgets/base",
            "_model_module_version": "1.2.0",
            "_model_name": "LayoutModel",
            "_view_count": null,
            "_view_module": "@jupyter-widgets/base",
            "_view_module_version": "1.2.0",
            "_view_name": "LayoutView",
            "align_content": null,
            "align_items": null,
            "align_self": null,
            "border": null,
            "bottom": null,
            "display": null,
            "flex": null,
            "flex_flow": null,
            "grid_area": null,
            "grid_auto_columns": null,
            "grid_auto_flow": null,
            "grid_auto_rows": null,
            "grid_column": null,
            "grid_gap": null,
            "grid_row": null,
            "grid_template_areas": null,
            "grid_template_columns": null,
            "grid_template_rows": null,
            "height": null,
            "justify_content": null,
            "justify_items": null,
            "left": null,
            "margin": null,
            "max_height": null,
            "max_width": null,
            "min_height": null,
            "min_width": null,
            "object_fit": null,
            "object_position": null,
            "order": null,
            "overflow": null,
            "overflow_x": null,
            "overflow_y": null,
            "padding": null,
            "right": null,
            "top": null,
            "visibility": null,
            "width": null
          }
        },
        "0c7d45afb38c44c89e21c19ff906817b": {
          "model_module": "@jupyter-widgets/controls",
          "model_name": "DescriptionStyleModel",
          "model_module_version": "1.5.0",
          "state": {
            "_model_module": "@jupyter-widgets/controls",
            "_model_module_version": "1.5.0",
            "_model_name": "DescriptionStyleModel",
            "_view_count": null,
            "_view_module": "@jupyter-widgets/base",
            "_view_module_version": "1.2.0",
            "_view_name": "StyleView",
            "description_width": ""
          }
        },
        "14717e0bcb9f47c0a4023c1b6903beaf": {
          "model_module": "@jupyter-widgets/base",
          "model_name": "LayoutModel",
          "model_module_version": "1.2.0",
          "state": {
            "_model_module": "@jupyter-widgets/base",
            "_model_module_version": "1.2.0",
            "_model_name": "LayoutModel",
            "_view_count": null,
            "_view_module": "@jupyter-widgets/base",
            "_view_module_version": "1.2.0",
            "_view_name": "LayoutView",
            "align_content": null,
            "align_items": null,
            "align_self": null,
            "border": null,
            "bottom": null,
            "display": null,
            "flex": null,
            "flex_flow": null,
            "grid_area": null,
            "grid_auto_columns": null,
            "grid_auto_flow": null,
            "grid_auto_rows": null,
            "grid_column": null,
            "grid_gap": null,
            "grid_row": null,
            "grid_template_areas": null,
            "grid_template_columns": null,
            "grid_template_rows": null,
            "height": null,
            "justify_content": null,
            "justify_items": null,
            "left": null,
            "margin": null,
            "max_height": null,
            "max_width": null,
            "min_height": null,
            "min_width": null,
            "object_fit": null,
            "object_position": null,
            "order": null,
            "overflow": null,
            "overflow_x": null,
            "overflow_y": null,
            "padding": null,
            "right": null,
            "top": null,
            "visibility": null,
            "width": null
          }
        },
        "8ea51b288f0c41ecac7055c6b1a155a1": {
          "model_module": "@jupyter-widgets/controls",
          "model_name": "ProgressStyleModel",
          "model_module_version": "1.5.0",
          "state": {
            "_model_module": "@jupyter-widgets/controls",
            "_model_module_version": "1.5.0",
            "_model_name": "ProgressStyleModel",
            "_view_count": null,
            "_view_module": "@jupyter-widgets/base",
            "_view_module_version": "1.2.0",
            "_view_name": "StyleView",
            "bar_color": null,
            "description_width": ""
          }
        },
        "47d6f5fe60084fe1bf8070b44a87396a": {
          "model_module": "@jupyter-widgets/base",
          "model_name": "LayoutModel",
          "model_module_version": "1.2.0",
          "state": {
            "_model_module": "@jupyter-widgets/base",
            "_model_module_version": "1.2.0",
            "_model_name": "LayoutModel",
            "_view_count": null,
            "_view_module": "@jupyter-widgets/base",
            "_view_module_version": "1.2.0",
            "_view_name": "LayoutView",
            "align_content": null,
            "align_items": null,
            "align_self": null,
            "border": null,
            "bottom": null,
            "display": null,
            "flex": null,
            "flex_flow": null,
            "grid_area": null,
            "grid_auto_columns": null,
            "grid_auto_flow": null,
            "grid_auto_rows": null,
            "grid_column": null,
            "grid_gap": null,
            "grid_row": null,
            "grid_template_areas": null,
            "grid_template_columns": null,
            "grid_template_rows": null,
            "height": null,
            "justify_content": null,
            "justify_items": null,
            "left": null,
            "margin": null,
            "max_height": null,
            "max_width": null,
            "min_height": null,
            "min_width": null,
            "object_fit": null,
            "object_position": null,
            "order": null,
            "overflow": null,
            "overflow_x": null,
            "overflow_y": null,
            "padding": null,
            "right": null,
            "top": null,
            "visibility": null,
            "width": null
          }
        },
        "7b6f04fdde624dfc966766246f9f5077": {
          "model_module": "@jupyter-widgets/controls",
          "model_name": "DescriptionStyleModel",
          "model_module_version": "1.5.0",
          "state": {
            "_model_module": "@jupyter-widgets/controls",
            "_model_module_version": "1.5.0",
            "_model_name": "DescriptionStyleModel",
            "_view_count": null,
            "_view_module": "@jupyter-widgets/base",
            "_view_module_version": "1.2.0",
            "_view_name": "StyleView",
            "description_width": ""
          }
        }
      }
    }
  },
  "cells": [
    {
      "cell_type": "markdown",
      "metadata": {
        "id": "IZo1mGpqa-kX"
      },
      "source": [
        "# **Hyperparameter Optimization**\n",
        "\n",
        "In machine learning, hyperparameter optimization [[Wikipedia]](https://en.wikipedia.org/wiki/Hyperparameter_optimization) or tuning is the problem of choosing a set of optimal hyperparameters for a learning algorithm. A hyperparameter is a parameter whose value is used to control the learning process. By contrast, the values of other parameters (typically node weights) are learned.\n",
        "\n",
        "The same machine learning model can require different constraints, weights, or learning rates to generalize different data patterns. These measures are called hyperparameters and have to be tuned so that the model can optimally solve the machine learning problem. Hyperparameter optimization finds a tuple of hyperparameters that yields an optimal model which minimizes a predefined loss function on given independent data. The objective function takes a tuple of hyperparameters and returns the associated loss. Cross-validation is often used to estimate this generalization performance."
      ]
    },
    {
      "cell_type": "code",
      "metadata": {
        "id": "iGhXd7ypJydx"
      },
      "source": [
        "# Import Library.\n",
        "import pandas as pd\n",
        "import numpy as np\n",
        "import seaborn as sns\n",
        "import warnings\n",
        "\n",
        "warnings.filterwarnings(\"ignore\")"
      ],
      "execution_count": null,
      "outputs": []
    },
    {
      "cell_type": "markdown",
      "source": [
        "> [**Kaggle Dataset**](https://www.kaggle.com/mathchi/diabetes-data-set)"
      ],
      "metadata": {
        "id": "8sdC-TwALfKI"
      }
    },
    {
      "cell_type": "code",
      "metadata": {
        "colab": {
          "base_uri": "https://localhost:8080/",
          "height": 206
        },
        "id": "KwdniPYuKxDT",
        "outputId": "83d0d473-b8b4-4668-8940-7af790798411"
      },
      "source": [
        "# Load Dataset.\n",
        "data = pd.read_csv(\n",
        "    \"https://raw.githubusercontent.com/plotly/datasets/master/diabetes.csv\"\n",
        ")\n",
        "data.head()"
      ],
      "execution_count": null,
      "outputs": [
        {
          "output_type": "execute_result",
          "data": {
            "text/plain": [
              "   Pregnancies  Glucose  BloodPressure  SkinThickness  Insulin   BMI  \\\n",
              "0            6      148             72             35        0  33.6   \n",
              "1            1       85             66             29        0  26.6   \n",
              "2            8      183             64              0        0  23.3   \n",
              "3            1       89             66             23       94  28.1   \n",
              "4            0      137             40             35      168  43.1   \n",
              "\n",
              "   DiabetesPedigreeFunction  Age  Outcome  \n",
              "0                     0.627   50        1  \n",
              "1                     0.351   31        0  \n",
              "2                     0.672   32        1  \n",
              "3                     0.167   21        0  \n",
              "4                     2.288   33        1  "
            ],
            "text/html": [
              "\n",
              "  <div id=\"df-5fb2009a-24f8-46b3-a9c9-2f6977d8b027\">\n",
              "    <div class=\"colab-df-container\">\n",
              "      <div>\n",
              "<style scoped>\n",
              "    .dataframe tbody tr th:only-of-type {\n",
              "        vertical-align: middle;\n",
              "    }\n",
              "\n",
              "    .dataframe tbody tr th {\n",
              "        vertical-align: top;\n",
              "    }\n",
              "\n",
              "    .dataframe thead th {\n",
              "        text-align: right;\n",
              "    }\n",
              "</style>\n",
              "<table border=\"1\" class=\"dataframe\">\n",
              "  <thead>\n",
              "    <tr style=\"text-align: right;\">\n",
              "      <th></th>\n",
              "      <th>Pregnancies</th>\n",
              "      <th>Glucose</th>\n",
              "      <th>BloodPressure</th>\n",
              "      <th>SkinThickness</th>\n",
              "      <th>Insulin</th>\n",
              "      <th>BMI</th>\n",
              "      <th>DiabetesPedigreeFunction</th>\n",
              "      <th>Age</th>\n",
              "      <th>Outcome</th>\n",
              "    </tr>\n",
              "  </thead>\n",
              "  <tbody>\n",
              "    <tr>\n",
              "      <th>0</th>\n",
              "      <td>6</td>\n",
              "      <td>148</td>\n",
              "      <td>72</td>\n",
              "      <td>35</td>\n",
              "      <td>0</td>\n",
              "      <td>33.6</td>\n",
              "      <td>0.627</td>\n",
              "      <td>50</td>\n",
              "      <td>1</td>\n",
              "    </tr>\n",
              "    <tr>\n",
              "      <th>1</th>\n",
              "      <td>1</td>\n",
              "      <td>85</td>\n",
              "      <td>66</td>\n",
              "      <td>29</td>\n",
              "      <td>0</td>\n",
              "      <td>26.6</td>\n",
              "      <td>0.351</td>\n",
              "      <td>31</td>\n",
              "      <td>0</td>\n",
              "    </tr>\n",
              "    <tr>\n",
              "      <th>2</th>\n",
              "      <td>8</td>\n",
              "      <td>183</td>\n",
              "      <td>64</td>\n",
              "      <td>0</td>\n",
              "      <td>0</td>\n",
              "      <td>23.3</td>\n",
              "      <td>0.672</td>\n",
              "      <td>32</td>\n",
              "      <td>1</td>\n",
              "    </tr>\n",
              "    <tr>\n",
              "      <th>3</th>\n",
              "      <td>1</td>\n",
              "      <td>89</td>\n",
              "      <td>66</td>\n",
              "      <td>23</td>\n",
              "      <td>94</td>\n",
              "      <td>28.1</td>\n",
              "      <td>0.167</td>\n",
              "      <td>21</td>\n",
              "      <td>0</td>\n",
              "    </tr>\n",
              "    <tr>\n",
              "      <th>4</th>\n",
              "      <td>0</td>\n",
              "      <td>137</td>\n",
              "      <td>40</td>\n",
              "      <td>35</td>\n",
              "      <td>168</td>\n",
              "      <td>43.1</td>\n",
              "      <td>2.288</td>\n",
              "      <td>33</td>\n",
              "      <td>1</td>\n",
              "    </tr>\n",
              "  </tbody>\n",
              "</table>\n",
              "</div>\n",
              "      <button class=\"colab-df-convert\" onclick=\"convertToInteractive('df-5fb2009a-24f8-46b3-a9c9-2f6977d8b027')\"\n",
              "              title=\"Convert this dataframe to an interactive table.\"\n",
              "              style=\"display:none;\">\n",
              "        \n",
              "  <svg xmlns=\"http://www.w3.org/2000/svg\" height=\"24px\"viewBox=\"0 0 24 24\"\n",
              "       width=\"24px\">\n",
              "    <path d=\"M0 0h24v24H0V0z\" fill=\"none\"/>\n",
              "    <path d=\"M18.56 5.44l.94 2.06.94-2.06 2.06-.94-2.06-.94-.94-2.06-.94 2.06-2.06.94zm-11 1L8.5 8.5l.94-2.06 2.06-.94-2.06-.94L8.5 2.5l-.94 2.06-2.06.94zm10 10l.94 2.06.94-2.06 2.06-.94-2.06-.94-.94-2.06-.94 2.06-2.06.94z\"/><path d=\"M17.41 7.96l-1.37-1.37c-.4-.4-.92-.59-1.43-.59-.52 0-1.04.2-1.43.59L10.3 9.45l-7.72 7.72c-.78.78-.78 2.05 0 2.83L4 21.41c.39.39.9.59 1.41.59.51 0 1.02-.2 1.41-.59l7.78-7.78 2.81-2.81c.8-.78.8-2.07 0-2.86zM5.41 20L4 18.59l7.72-7.72 1.47 1.35L5.41 20z\"/>\n",
              "  </svg>\n",
              "      </button>\n",
              "      \n",
              "  <style>\n",
              "    .colab-df-container {\n",
              "      display:flex;\n",
              "      flex-wrap:wrap;\n",
              "      gap: 12px;\n",
              "    }\n",
              "\n",
              "    .colab-df-convert {\n",
              "      background-color: #E8F0FE;\n",
              "      border: none;\n",
              "      border-radius: 50%;\n",
              "      cursor: pointer;\n",
              "      display: none;\n",
              "      fill: #1967D2;\n",
              "      height: 32px;\n",
              "      padding: 0 0 0 0;\n",
              "      width: 32px;\n",
              "    }\n",
              "\n",
              "    .colab-df-convert:hover {\n",
              "      background-color: #E2EBFA;\n",
              "      box-shadow: 0px 1px 2px rgba(60, 64, 67, 0.3), 0px 1px 3px 1px rgba(60, 64, 67, 0.15);\n",
              "      fill: #174EA6;\n",
              "    }\n",
              "\n",
              "    [theme=dark] .colab-df-convert {\n",
              "      background-color: #3B4455;\n",
              "      fill: #D2E3FC;\n",
              "    }\n",
              "\n",
              "    [theme=dark] .colab-df-convert:hover {\n",
              "      background-color: #434B5C;\n",
              "      box-shadow: 0px 1px 3px 1px rgba(0, 0, 0, 0.15);\n",
              "      filter: drop-shadow(0px 1px 2px rgba(0, 0, 0, 0.3));\n",
              "      fill: #FFFFFF;\n",
              "    }\n",
              "  </style>\n",
              "\n",
              "      <script>\n",
              "        const buttonEl =\n",
              "          document.querySelector('#df-5fb2009a-24f8-46b3-a9c9-2f6977d8b027 button.colab-df-convert');\n",
              "        buttonEl.style.display =\n",
              "          google.colab.kernel.accessAllowed ? 'block' : 'none';\n",
              "\n",
              "        async function convertToInteractive(key) {\n",
              "          const element = document.querySelector('#df-5fb2009a-24f8-46b3-a9c9-2f6977d8b027');\n",
              "          const dataTable =\n",
              "            await google.colab.kernel.invokeFunction('convertToInteractive',\n",
              "                                                     [key], {});\n",
              "          if (!dataTable) return;\n",
              "\n",
              "          const docLinkHtml = 'Like what you see? Visit the ' +\n",
              "            '<a target=\"_blank\" href=https://colab.research.google.com/notebooks/data_table.ipynb>data table notebook</a>'\n",
              "            + ' to learn more about interactive tables.';\n",
              "          element.innerHTML = '';\n",
              "          dataTable['output_type'] = 'display_data';\n",
              "          await google.colab.output.renderOutput(dataTable, element);\n",
              "          const docLink = document.createElement('div');\n",
              "          docLink.innerHTML = docLinkHtml;\n",
              "          element.appendChild(docLink);\n",
              "        }\n",
              "      </script>\n",
              "    </div>\n",
              "  </div>\n",
              "  "
            ]
          },
          "metadata": {},
          "execution_count": 2
        }
      ]
    },
    {
      "cell_type": "code",
      "metadata": {
        "colab": {
          "base_uri": "https://localhost:8080/"
        },
        "id": "TWVGBjyeLIcs",
        "outputId": "0dd697d1-e963-42a1-a3a1-a4c723ee70fc"
      },
      "source": [
        "# Dataset Summary.\n",
        "data.info()"
      ],
      "execution_count": null,
      "outputs": [
        {
          "output_type": "stream",
          "name": "stdout",
          "text": [
            "<class 'pandas.core.frame.DataFrame'>\n",
            "RangeIndex: 768 entries, 0 to 767\n",
            "Data columns (total 9 columns):\n",
            " #   Column                    Non-Null Count  Dtype  \n",
            "---  ------                    --------------  -----  \n",
            " 0   Pregnancies               768 non-null    int64  \n",
            " 1   Glucose                   768 non-null    int64  \n",
            " 2   BloodPressure             768 non-null    int64  \n",
            " 3   SkinThickness             768 non-null    int64  \n",
            " 4   Insulin                   768 non-null    int64  \n",
            " 5   BMI                       768 non-null    float64\n",
            " 6   DiabetesPedigreeFunction  768 non-null    float64\n",
            " 7   Age                       768 non-null    int64  \n",
            " 8   Outcome                   768 non-null    int64  \n",
            "dtypes: float64(2), int64(7)\n",
            "memory usage: 54.1 KB\n"
          ]
        }
      ]
    },
    {
      "cell_type": "markdown",
      "metadata": {
        "id": "75UZA3IBVH5O"
      },
      "source": [
        "# **Exploratory Data Analysis.**"
      ]
    },
    {
      "cell_type": "code",
      "metadata": {
        "id": "QbEiVg2tNugh"
      },
      "source": [
        "sns.pairplot(data, hue=\"Outcome\")"
      ],
      "execution_count": null,
      "outputs": []
    },
    {
      "cell_type": "code",
      "metadata": {
        "id": "2tEnLlANN6ao"
      },
      "source": [
        "# Split the dataset into features and target values.\n",
        "X = data.iloc[:, :-1].values\n",
        "y = data.iloc[:, -1].values\n",
        "\n",
        "# Feature Scaling.\n",
        "from sklearn.preprocessing import StandardScaler\n",
        "\n",
        "sc = StandardScaler()\n",
        "X = sc.fit_transform(X)\n",
        "\n",
        "# Split the dataset into training and test set.\n",
        "from sklearn.model_selection import train_test_split\n",
        "\n",
        "X_train, X_test, y_train, y_test = train_test_split(\n",
        "    X, y, test_size=0.25, random_state=42\n",
        ")"
      ],
      "execution_count": null,
      "outputs": []
    },
    {
      "cell_type": "markdown",
      "metadata": {
        "id": "vi3b-q9kO-m6"
      },
      "source": [
        "# **Using Random Forest Classifier.**\n",
        "\n",
        "[**sklearn.ensemble.RandomForestClassifier**](https://scikit-learn.org/stable/modules/generated/sklearn.ensemble.RandomForestClassifier.html#sklearn.ensemble.RandomForestClassifier)\n",
        "\n",
        "\n",
        "The main parameters used by a Random Forest Classifier are:\n",
        "\n",
        "\n",
        "*   **criterion** = the function used to evaluate the quality of a split.\n",
        "*   **max_depth** = maximum number of levels allowed in each tree.\n",
        "*   **max_features** = maximum number of features considered when splitting a node.\n",
        "*   **min_samples_leaf** = minimum number of samples which can be stored in a tree leaf.\n",
        "*   **min_samples_split** = minimum number of samples necessary in a node to cause node splitting.\n",
        "*   **n_estimators** = number of trees in the ensamble."
      ]
    },
    {
      "cell_type": "code",
      "metadata": {
        "id": "nbj381QbPAcw"
      },
      "source": [
        "# Use Random Forest, with manual Hyperparameter Optimization.\n",
        "from sklearn.ensemble import RandomForestClassifier\n",
        "\n",
        "clf = RandomForestClassifier(\n",
        "    n_estimators=300,\n",
        "    criterion=\"entropy\",\n",
        "    max_features=\"sqrt\",\n",
        "    min_samples_leaf=10,\n",
        "    random_state=42,\n",
        ")\n",
        "clf = clf.fit(X_train, y_train)\n",
        "\n",
        "# Predict the test set results.\n",
        "y_pred = clf.predict(X_test)"
      ],
      "execution_count": null,
      "outputs": []
    },
    {
      "cell_type": "code",
      "metadata": {
        "colab": {
          "base_uri": "https://localhost:8080/"
        },
        "id": "IeZiOXbxXU7Z",
        "outputId": "d0988c4a-c724-4cd6-e99a-659dadc04fb0"
      },
      "source": [
        "from sklearn.metrics import confusion_matrix, accuracy_score, classification_report\n",
        "\n",
        "print(\"Accuracy Score is \", accuracy_score(y_test, y_pred))\n",
        "print(classification_report(y_test, y_pred))\n",
        "print(confusion_matrix(y_test, y_pred))"
      ],
      "execution_count": null,
      "outputs": [
        {
          "output_type": "stream",
          "name": "stdout",
          "text": [
            "Accuracy Score is  0.7552083333333334\n",
            "              precision    recall  f1-score   support\n",
            "\n",
            "           0       0.79      0.84      0.81       123\n",
            "           1       0.68      0.61      0.64        69\n",
            "\n",
            "    accuracy                           0.76       192\n",
            "   macro avg       0.73      0.72      0.73       192\n",
            "weighted avg       0.75      0.76      0.75       192\n",
            "\n",
            "[[103  20]\n",
            " [ 27  42]]\n"
          ]
        }
      ]
    },
    {
      "cell_type": "markdown",
      "metadata": {
        "id": "B9hB7WCgX2go"
      },
      "source": [
        "# **Grid Search**\n",
        "\n",
        "[**sklearn.model_selection.GridSearchCV**](https://scikit-learn.org/stable/modules/generated/sklearn.model_selection.GridSearchCV.html)\n",
        "\n",
        "The traditional way of performing hyperparameter optimization has been Grid Search which is simply an exhaustive searching through a manually specified subset of the hyperparameter space of a learning algorithm. A Grid Search algorithm must be guided by some performance metric, typically measured by cross-validation on the training set or evaluation on a held-out validation set. Since the parameter space of a machine learner may include real-valued or unbounded value spaces for certain parameters, manually set bounds and discretization may be necessary before applying grid search."
      ]
    },
    {
      "cell_type": "code",
      "metadata": {
        "colab": {
          "base_uri": "https://localhost:8080/"
        },
        "id": "4fEru-A1X5l-",
        "outputId": "69a4bcea-ff15-49c8-c611-2a5a81ccf8c2"
      },
      "source": [
        "\"\"\" Hyperparameter Optimization. \"\"\"\n",
        "\n",
        "parameters = {\n",
        "    \"n_estimators\": [100, 200, 300],\n",
        "    \"criterion\": [\"entropy\", \"gini\"],\n",
        "    \"max_depth\": [None, 1, 3, 5],\n",
        "    \"min_samples_split\": [2, 3, 5],\n",
        "    \"max_features\": [\"auto\", \"sqrt\", \"log2\"],\n",
        "    \"min_samples_leaf\": [1, 2, 4],\n",
        "}\n",
        "\n",
        "print(parameters)"
      ],
      "execution_count": null,
      "outputs": [
        {
          "output_type": "stream",
          "name": "stdout",
          "text": [
            "{'n_estimators': [100, 200, 300], 'criterion': ['entropy', 'gini'], 'max_depth': [None, 1, 3, 5], 'min_samples_split': [2, 3, 5], 'max_features': ['auto', 'sqrt', 'log2'], 'min_samples_leaf': [1, 2, 4]}\n"
          ]
        }
      ]
    },
    {
      "cell_type": "code",
      "metadata": {
        "id": "jj_8Ox3UchJQ",
        "colab": {
          "base_uri": "https://localhost:8080/"
        },
        "outputId": "aee334e2-b859-4238-8b19-f0970218cfac"
      },
      "source": [
        "from sklearn.model_selection import GridSearchCV\n",
        "\n",
        "clf = RandomForestClassifier()\n",
        "grid_search = GridSearchCV(\n",
        "    estimator=clf, param_grid=parameters, cv=10, n_jobs=-1, verbose=2\n",
        ")\n",
        "grid_search = grid_search.fit(X_train, y_train)"
      ],
      "execution_count": null,
      "outputs": [
        {
          "output_type": "stream",
          "name": "stdout",
          "text": [
            "Fitting 10 folds for each of 648 candidates, totalling 6480 fits\n"
          ]
        }
      ]
    },
    {
      "cell_type": "code",
      "metadata": {
        "id": "HDGPKpfldUuH",
        "colab": {
          "base_uri": "https://localhost:8080/"
        },
        "outputId": "54150146-05a8-4013-b0bb-7d2320c523c3"
      },
      "source": [
        "best_grid = grid_search.best_estimator_\n",
        "print(grid_search.best_estimator_)"
      ],
      "execution_count": null,
      "outputs": [
        {
          "output_type": "stream",
          "name": "stdout",
          "text": [
            "RandomForestClassifier(criterion='entropy', min_samples_split=3,\n",
            "                       n_estimators=300)\n"
          ]
        }
      ]
    },
    {
      "cell_type": "code",
      "metadata": {
        "id": "xbXbhKdadcyU"
      },
      "source": [
        "# Predict the test set results.\n",
        "y_pred = best_grid.predict(X_test)"
      ],
      "execution_count": null,
      "outputs": []
    },
    {
      "cell_type": "code",
      "metadata": {
        "id": "uCfnFqpoemLm",
        "colab": {
          "base_uri": "https://localhost:8080/"
        },
        "outputId": "f7335fc1-fe1a-4f23-98ba-82fbd3531a02"
      },
      "source": [
        "from sklearn.metrics import confusion_matrix, accuracy_score, classification_report\n",
        "\n",
        "print(\"Accuracy Score {}\".format(accuracy_score(y_test, y_pred)))\n",
        "print(classification_report(y_test, y_pred))\n",
        "print(confusion_matrix(y_test, y_pred))"
      ],
      "execution_count": null,
      "outputs": [
        {
          "output_type": "stream",
          "name": "stdout",
          "text": [
            "Accuracy Score 0.7395833333333334\n",
            "              precision    recall  f1-score   support\n",
            "\n",
            "           0       0.80      0.80      0.80       123\n",
            "           1       0.64      0.64      0.64        69\n",
            "\n",
            "    accuracy                           0.74       192\n",
            "   macro avg       0.72      0.72      0.72       192\n",
            "weighted avg       0.74      0.74      0.74       192\n",
            "\n",
            "[[98 25]\n",
            " [25 44]]\n"
          ]
        }
      ]
    },
    {
      "cell_type": "markdown",
      "metadata": {
        "id": "7fx4o1aFRp-5"
      },
      "source": [
        "# **Random Search**\n",
        "\n",
        "[**sklearn.model_selection.RandomizedSearchCV**](https://scikit-learn.org/stable/modules/generated/sklearn.model_selection.RandomizedSearchCV.html)\n",
        "\n",
        "\n",
        "Random Search replaces the exhaustive enumeration of all combinations by selecting them randomly. This can be simply applied to the discrete setting described above, but also generalizes to continuous and mixed spaces. It can outperform Grid Search, especially when only a small number of hyperparameters affects the final performance of the machine learning algorithm [[Paper]](https://jmlr.csail.mit.edu/papers/volume13/bergstra12a/bergstra12a.pdf). In this case, the optimization problem is said to have a low intrinsic dimensionality. Random Search is also embarrassingly parallel and additionally allows the inclusion of prior knowledge by specifying the distribution from which to sample."
      ]
    },
    {
      "cell_type": "code",
      "metadata": {
        "colab": {
          "base_uri": "https://localhost:8080/"
        },
        "id": "6hGXGQNxSr60",
        "outputId": "5096e3c0-b3ad-47c5-b7f3-b3aea597ac05"
      },
      "source": [
        "\"\"\" Hyperparameter Optimization. \"\"\"\n",
        "\n",
        "# Number of trees in Random Forest.\n",
        "n_estimators = [int(x) for x in np.linspace(start=100, stop=2000, num=10)]\n",
        "\n",
        "# Number of features to consider at every split.\n",
        "max_features = [\"auto\", \"sqrt\", \"log2\"]\n",
        "\n",
        "# Maximum number of levels in the tree.\n",
        "max_depth = [int(x) for x in np.linspace(10, 1000, 10)]\n",
        "\n",
        "# Minimum number of samples required to split a node.\n",
        "min_samples_split = [2, 3, 5, 7, 10, 14]\n",
        "\n",
        "# Minimum number of samples required at each leaf node.\n",
        "min_samples_leaf = [1, 2, 3, 4, 6, 7, 9]\n",
        "\n",
        "# Create the Random Grid.\n",
        "random_grid = {\n",
        "    \"n_estimators\": n_estimators,\n",
        "    \"max_features\": max_features,\n",
        "    \"max_depth\": max_depth,\n",
        "    \"min_samples_split\": min_samples_split,\n",
        "    \"min_samples_leaf\": min_samples_leaf,\n",
        "    \"criterion\": [\"entropy\", \"gini\"],\n",
        "}\n",
        "\n",
        "print(random_grid)"
      ],
      "execution_count": null,
      "outputs": [
        {
          "output_type": "stream",
          "name": "stdout",
          "text": [
            "{'n_estimators': [100, 311, 522, 733, 944, 1155, 1366, 1577, 1788, 2000], 'max_features': ['auto', 'sqrt', 'log2'], 'max_depth': [10, 120, 230, 340, 450, 560, 670, 780, 890, 1000], 'min_samples_split': [2, 3, 5, 7, 10, 14], 'min_samples_leaf': [1, 2, 3, 4, 6, 7, 9], 'criterion': ['entropy', 'gini']}\n"
          ]
        }
      ]
    },
    {
      "cell_type": "code",
      "metadata": {
        "id": "NluKNkGBWeIH",
        "colab": {
          "base_uri": "https://localhost:8080/"
        },
        "outputId": "5f7e1e17-4cda-48fe-a6d9-850ca5dcd88f"
      },
      "source": [
        "from sklearn.model_selection import RandomizedSearchCV\n",
        "\n",
        "clf = RandomForestClassifier()\n",
        "random_search = RandomizedSearchCV(\n",
        "    estimator=clf,\n",
        "    param_distributions=random_grid,\n",
        "    n_iter=100,\n",
        "    cv=10,\n",
        "    verbose=2,\n",
        "    random_state=100,\n",
        "    n_jobs=-1,\n",
        ")\n",
        "random_search = random_search.fit(X_train, y_train)"
      ],
      "execution_count": null,
      "outputs": [
        {
          "output_type": "stream",
          "name": "stdout",
          "text": [
            "Fitting 10 folds for each of 100 candidates, totalling 1000 fits\n"
          ]
        }
      ]
    },
    {
      "cell_type": "code",
      "metadata": {
        "colab": {
          "base_uri": "https://localhost:8080/"
        },
        "id": "F9yyco_MYOXe",
        "outputId": "d6f32094-9ac1-4d2a-f5f5-933538a1c2ff"
      },
      "source": [
        "best_random_grid = random_search.best_estimator_\n",
        "print(random_search.best_estimator_)"
      ],
      "execution_count": null,
      "outputs": [
        {
          "output_type": "stream",
          "name": "stdout",
          "text": [
            "RandomForestClassifier(criterion='entropy', max_depth=450, max_features='sqrt',\n",
            "                       min_samples_leaf=4)\n"
          ]
        }
      ]
    },
    {
      "cell_type": "code",
      "metadata": {
        "id": "ndpwIB1vYhV1"
      },
      "source": [
        "# Predict the test set results.\n",
        "y_pred = best_random_grid.predict(X_test)"
      ],
      "execution_count": null,
      "outputs": []
    },
    {
      "cell_type": "code",
      "metadata": {
        "colab": {
          "base_uri": "https://localhost:8080/"
        },
        "id": "nMTNndY4Ycbt",
        "outputId": "a4173807-4a4b-45f4-a1de-1a3c1ae38c06"
      },
      "source": [
        "from sklearn.metrics import confusion_matrix, accuracy_score, classification_report\n",
        "\n",
        "print(\"Accuracy Score {}\".format(accuracy_score(y_test, y_pred)))\n",
        "print(classification_report(y_test, y_pred))\n",
        "print(confusion_matrix(y_test, y_pred))"
      ],
      "execution_count": null,
      "outputs": [
        {
          "output_type": "stream",
          "name": "stdout",
          "text": [
            "Accuracy Score 0.765625\n",
            "              precision    recall  f1-score   support\n",
            "\n",
            "           0       0.82      0.81      0.82       123\n",
            "           1       0.67      0.68      0.68        69\n",
            "\n",
            "    accuracy                           0.77       192\n",
            "   macro avg       0.75      0.75      0.75       192\n",
            "weighted avg       0.77      0.77      0.77       192\n",
            "\n",
            "[[100  23]\n",
            " [ 22  47]]\n"
          ]
        }
      ]
    },
    {
      "cell_type": "markdown",
      "metadata": {
        "id": "kLZED-7bdtJ1"
      },
      "source": [
        "The Grid Search approach is suitable when exploring relatively few combinations, but when the hyperparameter search space is large enough, it is often preferable to use $RandomizedSearchCV$ instead. This class can be used in much the same way as the $GridSearchCV$ class, but instead of trying out all possible combinations, it evaluates a given number of random combinations by selecting a random value for each hyperparameter at every iteration. This approach has two main benefits:\n",
        "\n",
        "*   If we let the randomized search run for, say, 1,000 iterations, this approach will explore 1,000 different values for each hyperparameter (instead of just a few values per hyperparameter with the grid search approach).\n",
        "\n",
        "*   By setting the number of iterations, we have more control over the computing budget we want to allocate to hyperparameter search."
      ]
    },
    {
      "cell_type": "markdown",
      "metadata": {
        "id": "cTYL3tYmlvC8"
      },
      "source": [
        "# **Automated Hyperparameter Tuning**\n",
        "\n",
        "1.   [**Bayesian Optimization**](https://en.wikipedia.org/wiki/Bayesian_optimization)\n",
        "\n",
        "2.   [**Gradient-based Optimization**](http://adl.stanford.edu/aa222/Lecture_Notes_files/AA222-Lecture3.pdf)\n",
        "\n",
        "3.   [**Evolutionary Optimization**](https://en.wikipedia.org/wiki/Evolutionary_algorithm)"
      ]
    },
    {
      "cell_type": "markdown",
      "metadata": {
        "id": "MV6DoPbWygg1"
      },
      "source": [
        "# **Bayesian Optimization**\n",
        "\n",
        "**[Bayesian Optimization](https://github.com/fmfn/BayesianOptimization)** is a global optimization method for noisy black-box functions. Applied to hyperparameter optimization, Bayesian Optimization builds a probabilistic model of the function mapping from hyperparameter values to the objective evaluated on a validation set. By iteratively evaluating a promising hyperparameter configuration based on the current model and then updating it, Bayesian optimization aims to gather observations revealing as much information as possible about this function and, in particular, the location of the optimum. It tries to balance exploration (hyperparameters for which the outcome is most uncertain) and exploitation (hyperparameters expected close to the optimum). In practice, Bayesian optimization has been shown to obtain better results in fewer evaluations compared to Grid Search and Random Search due to the ability to reason about the quality of experiments before they start running.\n",
        "\n",
        "> [**Hyperopt: Distributed Hyperparameter Optimization**](https://github.com/hyperopt/hyperopt)"
      ]
    },
    {
      "cell_type": "code",
      "metadata": {
        "id": "7Kl2O7WIenPW"
      },
      "source": [
        "from hyperopt import hp, fmin, tpe, STATUS_OK, Trials\n",
        "from sklearn.model_selection import cross_val_score"
      ],
      "execution_count": null,
      "outputs": []
    },
    {
      "cell_type": "code",
      "metadata": {
        "colab": {
          "base_uri": "https://localhost:8080/"
        },
        "id": "GEKe1tp-m1Bq",
        "outputId": "d1683e78-cb07-4785-b36b-3206a66e87e4"
      },
      "source": [
        "space = {\n",
        "    \"criterion\": hp.choice(\"criterion\", [\"entropy\", \"gini\"]),\n",
        "    \"max_depth\": hp.quniform(\"max_depth\", 10, 1200, 10),\n",
        "    \"max_features\": hp.choice(\"max_features\", [\"auto\", \"sqrt\", \"log2\", None]),\n",
        "    \"min_samples_leaf\": hp.uniform(\"min_samples_leaf\", 0, 0.5),\n",
        "    \"min_samples_split\": hp.uniform(\"min_samples_split\", 0, 1),\n",
        "    \"n_estimators\": hp.choice(\"n_estimators\", [10, 50, 300, 750, 1200, 1300, 1500]),\n",
        "}\n",
        "\n",
        "space"
      ],
      "execution_count": null,
      "outputs": [
        {
          "output_type": "execute_result",
          "data": {
            "text/plain": [
              "{'criterion': <hyperopt.pyll.base.Apply at 0x7f4e02f47550>,\n",
              " 'max_depth': <hyperopt.pyll.base.Apply at 0x7f4e02f47790>,\n",
              " 'max_features': <hyperopt.pyll.base.Apply at 0x7f4e02f478d0>,\n",
              " 'min_samples_leaf': <hyperopt.pyll.base.Apply at 0x7f4e02f47b90>,\n",
              " 'min_samples_split': <hyperopt.pyll.base.Apply at 0x7f4e02f47d10>,\n",
              " 'n_estimators': <hyperopt.pyll.base.Apply at 0x7f4e02f47e90>}"
            ]
          },
          "metadata": {},
          "execution_count": 19
        }
      ]
    },
    {
      "cell_type": "code",
      "metadata": {
        "id": "glSMvPJ2nDuo"
      },
      "source": [
        "def objective(space):\n",
        "    model = RandomForestClassifier(\n",
        "        criterion=space[\"criterion\"],\n",
        "        max_depth=space[\"max_depth\"],\n",
        "        max_features=space[\"max_features\"],\n",
        "        min_samples_leaf=space[\"min_samples_leaf\"],\n",
        "        min_samples_split=space[\"min_samples_split\"],\n",
        "        n_estimators=space[\"n_estimators\"],\n",
        "    )\n",
        "\n",
        "    accuracy = cross_val_score(model, X_train, y_train, cv=10).mean()\n",
        "\n",
        "    # We aim to maximize accuracy, therefore we return it as a negative value.\n",
        "    return {\"loss\": -accuracy, \"status\": STATUS_OK}"
      ],
      "execution_count": null,
      "outputs": []
    },
    {
      "cell_type": "code",
      "metadata": {
        "colab": {
          "base_uri": "https://localhost:8080/"
        },
        "id": "Fib-7mcGnhuX",
        "outputId": "2e4d29d3-f158-4082-e01c-dd52b0d0879e"
      },
      "source": [
        "trials = Trials()\n",
        "best = fmin(fn=objective, space=space, algo=tpe.suggest, max_evals=80, trials=trials)\n",
        "best"
      ],
      "execution_count": null,
      "outputs": [
        {
          "output_type": "stream",
          "name": "stdout",
          "text": [
            "100%|██████████| 80/80 [16:52<00:00, 12.66s/it, best loss: -0.7741681790683606]\n"
          ]
        },
        {
          "output_type": "execute_result",
          "data": {
            "text/plain": [
              "{'criterion': 1,\n",
              " 'max_depth': 450.0,\n",
              " 'max_features': 2,\n",
              " 'min_samples_leaf': 0.01356379376493938,\n",
              " 'min_samples_split': 0.31558312547513634,\n",
              " 'n_estimators': 1}"
            ]
          },
          "metadata": {},
          "execution_count": 21
        }
      ]
    },
    {
      "cell_type": "code",
      "metadata": {
        "colab": {
          "base_uri": "https://localhost:8080/"
        },
        "id": "2Q0iBif_oCfQ",
        "outputId": "1705c337-76ed-4eef-b39c-2a27d3e850af"
      },
      "source": [
        "crit = {0: \"entropy\", 1: \"gini\"}\n",
        "feat = {0: \"auto\", 1: \"sqrt\", 2: \"log2\", 3: None}\n",
        "est = {0: 10, 1: 50, 2: 300, 3: 750, 4: 1200, 5: 1300, 6: 1500}\n",
        "\n",
        "print(crit[best[\"criterion\"]])\n",
        "print(feat[best[\"max_features\"]])\n",
        "print(est[best[\"n_estimators\"]])\n",
        "print(best[\"min_samples_leaf\"])"
      ],
      "execution_count": null,
      "outputs": [
        {
          "output_type": "stream",
          "name": "stdout",
          "text": [
            "gini\n",
            "log2\n",
            "50\n",
            "0.01356379376493938\n"
          ]
        }
      ]
    },
    {
      "cell_type": "code",
      "metadata": {
        "id": "BeqP4vjwn8WR"
      },
      "source": [
        "trainedforest = RandomForestClassifier(\n",
        "    criterion=crit[best[\"criterion\"]],\n",
        "    max_depth=best[\"max_depth\"],\n",
        "    max_features=feat[best[\"max_features\"]],\n",
        "    min_samples_leaf=best[\"min_samples_leaf\"],\n",
        "    min_samples_split=best[\"min_samples_split\"],\n",
        "    n_estimators=est[best[\"n_estimators\"]],\n",
        ").fit(X_train, y_train)"
      ],
      "execution_count": null,
      "outputs": []
    },
    {
      "cell_type": "code",
      "metadata": {
        "id": "NN0v5TKcoeyt"
      },
      "source": [
        "# Predict the test set results.\n",
        "y_pred = trainedforest.predict(X_test)"
      ],
      "execution_count": null,
      "outputs": []
    },
    {
      "cell_type": "code",
      "metadata": {
        "colab": {
          "base_uri": "https://localhost:8080/"
        },
        "id": "xBINmR0HorZH",
        "outputId": "b7923f32-2c81-4fbe-945a-ad6429cb359d"
      },
      "source": [
        "from sklearn.metrics import confusion_matrix, accuracy_score, classification_report\n",
        "\n",
        "print(\"Accuracy Score {}\".format(accuracy_score(y_test, y_pred)))\n",
        "print(classification_report(y_test, y_pred))\n",
        "print(confusion_matrix(y_test, y_pred))"
      ],
      "execution_count": null,
      "outputs": [
        {
          "output_type": "stream",
          "name": "stdout",
          "text": [
            "Accuracy Score 0.7447916666666666\n",
            "              precision    recall  f1-score   support\n",
            "\n",
            "           0       0.75      0.91      0.82       123\n",
            "           1       0.74      0.45      0.56        69\n",
            "\n",
            "    accuracy                           0.74       192\n",
            "   macro avg       0.74      0.68      0.69       192\n",
            "weighted avg       0.74      0.74      0.73       192\n",
            "\n",
            "[[112  11]\n",
            " [ 38  31]]\n"
          ]
        }
      ]
    },
    {
      "cell_type": "markdown",
      "metadata": {
        "id": "pZnJplLQ0WDe"
      },
      "source": [
        "# **TPOT - Automated Machine Learning for Supervised Classification Tasks**\n",
        "\n",
        "> [**TPOTClassifier**](http://epistasislab.github.io/tpot/api/)"
      ]
    },
    {
      "cell_type": "code",
      "metadata": {
        "id": "wom04b2A3Wa6"
      },
      "source": [
        "!pip install tpot"
      ],
      "execution_count": null,
      "outputs": []
    },
    {
      "cell_type": "code",
      "metadata": {
        "colab": {
          "base_uri": "https://localhost:8080/"
        },
        "id": "MiRmzWlS1f6S",
        "outputId": "4fb9a7bc-7360-4598-b723-971e5f7f0641"
      },
      "source": [
        "\"\"\" Hyperparameter Optimization. \"\"\"\n",
        "\n",
        "# Number of trees in Random Forest.\n",
        "n_estimators = [int(x) for x in np.linspace(start=100, stop=2000, num=10)]\n",
        "\n",
        "# Number of features to consider at every split.\n",
        "max_features = [\"auto\", \"sqrt\", \"log2\"]\n",
        "\n",
        "# Maximum number of levels in the tree.\n",
        "max_depth = [int(x) for x in np.linspace(10, 1000, 10)]\n",
        "\n",
        "# Minimum number of samples required to split a node.\n",
        "min_samples_split = [2, 3, 5, 7, 10, 14]\n",
        "\n",
        "# Minimum number of samples required at each leaf node.\n",
        "min_samples_leaf = [1, 2, 3, 4, 6, 7, 9]\n",
        "\n",
        "# Create the Random Grid.\n",
        "random_grid = {\n",
        "    \"n_estimators\": n_estimators,\n",
        "    \"max_features\": max_features,\n",
        "    \"max_depth\": max_depth,\n",
        "    \"min_samples_split\": min_samples_split,\n",
        "    \"min_samples_leaf\": min_samples_leaf,\n",
        "    \"criterion\": [\"entropy\", \"gini\"],\n",
        "}\n",
        "\n",
        "print(random_grid)"
      ],
      "execution_count": null,
      "outputs": [
        {
          "output_type": "stream",
          "name": "stdout",
          "text": [
            "{'n_estimators': [100, 311, 522, 733, 944, 1155, 1366, 1577, 1788, 2000], 'max_features': ['auto', 'sqrt', 'log2'], 'max_depth': [10, 120, 230, 340, 450, 560, 670, 780, 890, 1000], 'min_samples_split': [2, 3, 5, 7, 10, 14], 'min_samples_leaf': [1, 2, 3, 4, 6, 7, 9], 'criterion': ['entropy', 'gini']}\n"
          ]
        }
      ]
    },
    {
      "cell_type": "code",
      "metadata": {
        "colab": {
          "base_uri": "https://localhost:8080/",
          "height": 263,
          "referenced_widgets": [
            "2b838c4ea587420abd8abce6e20f9fce",
            "76e50d6b237e42b7b1ab56aaa547d12a",
            "ca8df979d9b443ef8db399cb96a444a4",
            "e4fd06c4f577480a996d832d9170a09a",
            "5b536dcb38aa472880e6427f958e83ad",
            "2eb37f118ae84e20b81a4db019fb5c7b",
            "0c7d45afb38c44c89e21c19ff906817b",
            "14717e0bcb9f47c0a4023c1b6903beaf",
            "8ea51b288f0c41ecac7055c6b1a155a1",
            "47d6f5fe60084fe1bf8070b44a87396a",
            "7b6f04fdde624dfc966766246f9f5077"
          ]
        },
        "id": "XJ5uifXn2RM9",
        "outputId": "020c6167-3d5c-4798-acc4-cee292670937"
      },
      "source": [
        "from tpot import TPOTClassifier\n",
        "\n",
        "tpot_classifier = TPOTClassifier(\n",
        "    generations=5,\n",
        "    population_size=24,\n",
        "    offspring_size=12,\n",
        "    verbosity=2,\n",
        "    early_stop=10,\n",
        "    config_dict={\"sklearn.ensemble.RandomForestClassifier\": random_grid},\n",
        "    cv=10,\n",
        "    scoring=\"accuracy\",\n",
        ").fit(X_train, y_train)\n",
        "\n",
        "accuracy = tpot_classifier.score(X_test, y_test)\n",
        "print(\"Accuracy is\", accuracy)"
      ],
      "execution_count": null,
      "outputs": [
        {
          "output_type": "display_data",
          "data": {
            "text/plain": [
              "Optimization Progress:   0%|          | 0/84 [00:00<?, ?pipeline/s]"
            ],
            "application/vnd.jupyter.widget-view+json": {
              "version_major": 2,
              "version_minor": 0,
              "model_id": "2b838c4ea587420abd8abce6e20f9fce"
            }
          },
          "metadata": {}
        },
        {
          "output_type": "stream",
          "name": "stdout",
          "text": [
            "\n",
            "Generation 1 - Current best internal CV score: 0.777707199032063\n",
            "\n",
            "Generation 2 - Current best internal CV score: 0.777707199032063\n",
            "\n",
            "Generation 3 - Current best internal CV score: 0.777707199032063\n",
            "\n",
            "Generation 4 - Current best internal CV score: 0.777707199032063\n",
            "\n",
            "Generation 5 - Current best internal CV score: 0.7897459165154265\n",
            "\n",
            "Best pipeline: RandomForestClassifier(RandomForestClassifier(input_matrix, criterion=entropy, max_depth=230, max_features=auto, min_samples_leaf=2, min_samples_split=5, n_estimators=944), criterion=gini, max_depth=560, max_features=sqrt, min_samples_leaf=4, min_samples_split=2, n_estimators=1577)\n",
            "Accuracy is 0.7395833333333334\n"
          ]
        }
      ]
    },
    {
      "cell_type": "markdown",
      "metadata": {
        "id": "Ixdw1D_cFk25"
      },
      "source": [
        "# **Optimize hyperparameters of the Model using Optuna**\n",
        "\n",
        "> [**Optuna: Automate Hyperparameter Tuning**](https://optuna.org/)"
      ]
    },
    {
      "cell_type": "code",
      "metadata": {
        "id": "_tW3HudgGBJ2"
      },
      "source": [
        "!pip install optuna"
      ],
      "execution_count": null,
      "outputs": []
    },
    {
      "cell_type": "markdown",
      "metadata": {
        "id": "eNATIu4THXX5"
      },
      "source": [
        "***The hyperparameters of the above algorithm are `n_estimators` and `max_depth` for which we can try different values to see if the model accuracy can be improved. The objective function is modified to accept a trial object. This trial has several methods for sampling hyperparameters. We create a study to run the hyperparameter optimization and finally read the best hyperparameters.***\n"
      ]
    },
    {
      "cell_type": "code",
      "metadata": {
        "id": "Tx5r_m--GL1u"
      },
      "source": [
        "import optuna\n",
        "import sklearn.svm\n",
        "\n",
        "\n",
        "def objective(trial):\n",
        "    classifier = trial.suggest_categorical(\"classifier\", [\"RandomForest\", \"SVC\"])\n",
        "    if classifier == \"RandomForest\":\n",
        "        n_estimators = trial.suggest_int(\"n_estimators\", 200, 2000, 10)\n",
        "        max_depth = int(trial.suggest_float(\"max_depth\", 10, 100, log=True))\n",
        "        clf = sklearn.ensemble.RandomForestClassifier(\n",
        "            n_estimators=n_estimators, max_depth=max_depth\n",
        "        )\n",
        "    else:\n",
        "        c = trial.suggest_float(\"svc_c\", 1e-10, 1e10, log=True)\n",
        "        clf = sklearn.svm.SVC(C=c, gamma=\"auto\")\n",
        "    return sklearn.model_selection.cross_val_score(\n",
        "        clf, X_train, y_train, n_jobs=-1, cv=10\n",
        "    ).mean()"
      ],
      "execution_count": null,
      "outputs": []
    },
    {
      "cell_type": "code",
      "metadata": {
        "id": "xxGp812rHbU2",
        "colab": {
          "base_uri": "https://localhost:8080/"
        },
        "outputId": "67f38193-f7d0-49e6-c6a2-699ff7b95845"
      },
      "source": [
        "study = optuna.create_study(direction=\"maximize\")\n",
        "study.optimize(objective, n_trials=100)\n",
        "\n",
        "trial = study.best_trial\n",
        "\n",
        "print(\"Accuracy: {}\".format(trial.value))\n",
        "print(\"Best Hyperparameters: {}\".format(trial.params))"
      ],
      "execution_count": null,
      "outputs": [
        {
          "output_type": "stream",
          "name": "stderr",
          "text": [
            "\u001b[32m[I 2022-07-18 09:29:28,260]\u001b[0m A new study created in memory with name: no-name-9d06636d-e416-44fe-9bad-a679cf04d1fc\u001b[0m\n",
            "\u001b[32m[I 2022-07-18 09:29:29,931]\u001b[0m Trial 0 finished with value: 0.7205686630369025 and parameters: {'classifier': 'SVC', 'svc_c': 39.495291452219455}. Best is trial 0 with value: 0.7205686630369025.\u001b[0m\n",
            "\u001b[32m[I 2022-07-18 09:29:30,428]\u001b[0m Trial 1 finished with value: 0.6977011494252874 and parameters: {'classifier': 'SVC', 'svc_c': 164774.96820890674}. Best is trial 0 with value: 0.7205686630369025.\u001b[0m\n",
            "\u001b[32m[I 2022-07-18 09:29:30,912]\u001b[0m Trial 2 finished with value: 0.6977011494252874 and parameters: {'classifier': 'SVC', 'svc_c': 68830675.4680423}. Best is trial 0 with value: 0.7205686630369025.\u001b[0m\n",
            "\u001b[32m[I 2022-07-18 09:29:31,078]\u001b[0m Trial 3 finished with value: 0.6545069570477919 and parameters: {'classifier': 'SVC', 'svc_c': 5.3596477820366076e-08}. Best is trial 0 with value: 0.7205686630369025.\u001b[0m\n",
            "\u001b[32m[I 2022-07-18 09:30:00,992]\u001b[0m Trial 4 finished with value: 0.7689352692075014 and parameters: {'classifier': 'RandomForest', 'n_estimators': 1100, 'max_depth': 20.436929719975883}. Best is trial 4 with value: 0.7689352692075014.\u001b[0m\n",
            "\u001b[32m[I 2022-07-18 09:30:23,333]\u001b[0m Trial 5 finished with value: 0.7689655172413793 and parameters: {'classifier': 'RandomForest', 'n_estimators': 1090, 'max_depth': 36.86840358260135}. Best is trial 5 with value: 0.7689655172413793.\u001b[0m\n",
            "\u001b[32m[I 2022-07-18 09:30:23,481]\u001b[0m Trial 6 finished with value: 0.6545069570477919 and parameters: {'classifier': 'SVC', 'svc_c': 1.8361327294693618e-08}. Best is trial 5 with value: 0.7689655172413793.\u001b[0m\n",
            "\u001b[32m[I 2022-07-18 09:30:23,949]\u001b[0m Trial 7 finished with value: 0.6977011494252874 and parameters: {'classifier': 'SVC', 'svc_c': 14960.903114556026}. Best is trial 5 with value: 0.7689655172413793.\u001b[0m\n",
            "\u001b[32m[I 2022-07-18 09:30:36,705]\u001b[0m Trial 8 finished with value: 0.7741379310344827 and parameters: {'classifier': 'RandomForest', 'n_estimators': 860, 'max_depth': 19.555303269312628}. Best is trial 8 with value: 0.7741379310344827.\u001b[0m\n",
            "\u001b[32m[I 2022-07-18 09:30:36,848]\u001b[0m Trial 9 finished with value: 0.6545069570477919 and parameters: {'classifier': 'SVC', 'svc_c': 1.4583750699717377e-08}. Best is trial 8 with value: 0.7741379310344827.\u001b[0m\n",
            "\u001b[32m[I 2022-07-18 09:30:40,733]\u001b[0m Trial 10 finished with value: 0.7567755595886267 and parameters: {'classifier': 'RandomForest', 'n_estimators': 260, 'max_depth': 10.968070683674005}. Best is trial 8 with value: 0.7741379310344827.\u001b[0m\n",
            "\u001b[32m[I 2022-07-18 09:30:56,596]\u001b[0m Trial 11 finished with value: 0.7689655172413794 and parameters: {'classifier': 'RandomForest', 'n_estimators': 1070, 'max_depth': 59.75654803728816}. Best is trial 8 with value: 0.7741379310344827.\u001b[0m\n",
            "\u001b[32m[I 2022-07-18 09:31:08,712]\u001b[0m Trial 12 finished with value: 0.7776164549304295 and parameters: {'classifier': 'RandomForest', 'n_estimators': 820, 'max_depth': 85.72160125518829}. Best is trial 12 with value: 0.7776164549304295.\u001b[0m\n",
            "\u001b[32m[I 2022-07-18 09:31:16,690]\u001b[0m Trial 13 finished with value: 0.7672413793103448 and parameters: {'classifier': 'RandomForest', 'n_estimators': 540, 'max_depth': 96.54329139660092}. Best is trial 12 with value: 0.7776164549304295.\u001b[0m\n",
            "\u001b[32m[I 2022-07-18 09:31:48,021]\u001b[0m Trial 14 finished with value: 0.7724137931034483 and parameters: {'classifier': 'RandomForest', 'n_estimators': 1960, 'max_depth': 21.32680113224229}. Best is trial 12 with value: 0.7776164549304295.\u001b[0m\n",
            "\u001b[32m[I 2022-07-18 09:31:57,168]\u001b[0m Trial 15 finished with value: 0.7793405928614641 and parameters: {'classifier': 'RandomForest', 'n_estimators': 610, 'max_depth': 29.949350829439762}. Best is trial 15 with value: 0.7793405928614641.\u001b[0m\n",
            "\u001b[32m[I 2022-07-18 09:32:08,134]\u001b[0m Trial 16 finished with value: 0.7706896551724138 and parameters: {'classifier': 'RandomForest', 'n_estimators': 650, 'max_depth': 43.336619574155314}. Best is trial 15 with value: 0.7793405928614641.\u001b[0m\n",
            "\u001b[32m[I 2022-07-18 09:32:31,971]\u001b[0m Trial 17 finished with value: 0.7706896551724138 and parameters: {'classifier': 'RandomForest', 'n_estimators': 1600, 'max_depth': 98.25382800108807}. Best is trial 15 with value: 0.7793405928614641.\u001b[0m\n",
            "\u001b[32m[I 2022-07-18 09:32:35,560]\u001b[0m Trial 18 finished with value: 0.7776769509981852 and parameters: {'classifier': 'RandomForest', 'n_estimators': 240, 'max_depth': 61.835736334144926}. Best is trial 15 with value: 0.7793405928614641.\u001b[0m\n",
            "\u001b[32m[I 2022-07-18 09:32:38,596]\u001b[0m Trial 19 finished with value: 0.7689050211736237 and parameters: {'classifier': 'RandomForest', 'n_estimators': 200, 'max_depth': 50.81101542180555}. Best is trial 15 with value: 0.7793405928614641.\u001b[0m\n",
            "\u001b[32m[I 2022-07-18 09:32:45,499]\u001b[0m Trial 20 finished with value: 0.7689655172413794 and parameters: {'classifier': 'RandomForest', 'n_estimators': 460, 'max_depth': 24.92146277115606}. Best is trial 15 with value: 0.7793405928614641.\u001b[0m\n",
            "\u001b[32m[I 2022-07-18 09:32:56,140]\u001b[0m Trial 21 finished with value: 0.7689352692075014 and parameters: {'classifier': 'RandomForest', 'n_estimators': 720, 'max_depth': 76.63504401700234}. Best is trial 15 with value: 0.7793405928614641.\u001b[0m\n",
            "\u001b[32m[I 2022-07-18 09:33:02,207]\u001b[0m Trial 22 finished with value: 0.7689655172413794 and parameters: {'classifier': 'RandomForest', 'n_estimators': 410, 'max_depth': 66.23332933619461}. Best is trial 15 with value: 0.7793405928614641.\u001b[0m\n",
            "\u001b[32m[I 2022-07-18 09:33:14,171]\u001b[0m Trial 23 finished with value: 0.7689050211736237 and parameters: {'classifier': 'RandomForest', 'n_estimators': 810, 'max_depth': 30.685335766326407}. Best is trial 15 with value: 0.7793405928614641.\u001b[0m\n",
            "\u001b[32m[I 2022-07-18 09:33:34,916]\u001b[0m Trial 24 finished with value: 0.7741681790683606 and parameters: {'classifier': 'RandomForest', 'n_estimators': 1390, 'max_depth': 72.1853748755596}. Best is trial 15 with value: 0.7793405928614641.\u001b[0m\n",
            "\u001b[32m[I 2022-07-18 09:33:40,553]\u001b[0m Trial 25 finished with value: 0.7724137931034483 and parameters: {'classifier': 'RandomForest', 'n_estimators': 380, 'max_depth': 47.17509374501436}. Best is trial 15 with value: 0.7793405928614641.\u001b[0m\n",
            "\u001b[32m[I 2022-07-18 09:33:53,347]\u001b[0m Trial 26 finished with value: 0.7758620689655171 and parameters: {'classifier': 'RandomForest', 'n_estimators': 870, 'max_depth': 30.71179159390925}. Best is trial 15 with value: 0.7793405928614641.\u001b[0m\n",
            "\u001b[32m[I 2022-07-18 09:34:03,457]\u001b[0m Trial 27 finished with value: 0.770659407138536 and parameters: {'classifier': 'RandomForest', 'n_estimators': 590, 'max_depth': 12.774029681837956}. Best is trial 15 with value: 0.7793405928614641.\u001b[0m\n",
            "\u001b[32m[I 2022-07-18 09:34:22,995]\u001b[0m Trial 28 finished with value: 0.772444041137326 and parameters: {'classifier': 'RandomForest', 'n_estimators': 1320, 'max_depth': 38.503481953626725}. Best is trial 15 with value: 0.7793405928614641.\u001b[0m\n",
            "\u001b[32m[I 2022-07-18 09:34:28,009]\u001b[0m Trial 29 finished with value: 0.7653962492437991 and parameters: {'classifier': 'RandomForest', 'n_estimators': 340, 'max_depth': 56.99548149357429}. Best is trial 15 with value: 0.7793405928614641.\u001b[0m\n",
            "\u001b[32m[I 2022-07-18 09:34:42,183]\u001b[0m Trial 30 finished with value: 0.772444041137326 and parameters: {'classifier': 'RandomForest', 'n_estimators': 950, 'max_depth': 91.36536979311961}. Best is trial 15 with value: 0.7793405928614641.\u001b[0m\n",
            "\u001b[32m[I 2022-07-18 09:34:53,550]\u001b[0m Trial 31 finished with value: 0.7741984271022384 and parameters: {'classifier': 'RandomForest', 'n_estimators': 750, 'max_depth': 27.860333968480653}. Best is trial 15 with value: 0.7793405928614641.\u001b[0m\n",
            "\u001b[32m[I 2022-07-18 09:35:06,809]\u001b[0m Trial 32 finished with value: 0.7689352692075014 and parameters: {'classifier': 'RandomForest', 'n_estimators': 900, 'max_depth': 34.93465201957302}. Best is trial 15 with value: 0.7793405928614641.\u001b[0m\n",
            "\u001b[32m[I 2022-07-18 09:35:15,420]\u001b[0m Trial 33 finished with value: 0.7741681790683607 and parameters: {'classifier': 'RandomForest', 'n_estimators': 580, 'max_depth': 16.598687268744392}. Best is trial 15 with value: 0.7793405928614641.\u001b[0m\n",
            "\u001b[32m[I 2022-07-18 09:35:15,562]\u001b[0m Trial 34 finished with value: 0.6545069570477919 and parameters: {'classifier': 'SVC', 'svc_c': 0.0013679388834696854}. Best is trial 15 with value: 0.7793405928614641.\u001b[0m\n",
            "\u001b[32m[I 2022-07-18 09:35:29,904]\u001b[0m Trial 35 finished with value: 0.7758620689655172 and parameters: {'classifier': 'RandomForest', 'n_estimators': 970, 'max_depth': 79.62238652187355}. Best is trial 15 with value: 0.7793405928614641.\u001b[0m\n",
            "\u001b[32m[I 2022-07-18 09:35:30,063]\u001b[0m Trial 36 finished with value: 0.6545069570477919 and parameters: {'classifier': 'SVC', 'svc_c': 0.030119331877466207}. Best is trial 15 with value: 0.7793405928614641.\u001b[0m\n",
            "\u001b[32m[I 2022-07-18 09:35:49,269]\u001b[0m Trial 37 finished with value: 0.7724137931034483 and parameters: {'classifier': 'RandomForest', 'n_estimators': 1300, 'max_depth': 80.30588064010439}. Best is trial 15 with value: 0.7793405928614641.\u001b[0m\n",
            "\u001b[32m[I 2022-07-18 09:35:49,756]\u001b[0m Trial 38 finished with value: 0.6977011494252874 and parameters: {'classifier': 'SVC', 'svc_c': 7125906298.775232}. Best is trial 15 with value: 0.7793405928614641.\u001b[0m\n",
            "\u001b[32m[I 2022-07-18 09:36:04,350]\u001b[0m Trial 39 finished with value: 0.7706896551724138 and parameters: {'classifier': 'RandomForest', 'n_estimators': 990, 'max_depth': 62.6167929712564}. Best is trial 15 with value: 0.7793405928614641.\u001b[0m\n",
            "\u001b[32m[I 2022-07-18 09:36:24,030]\u001b[0m Trial 40 finished with value: 0.7741379310344827 and parameters: {'classifier': 'RandomForest', 'n_estimators': 1210, 'max_depth': 79.91611666775736}. Best is trial 15 with value: 0.7793405928614641.\u001b[0m\n",
            "\u001b[32m[I 2022-07-18 09:36:34,861]\u001b[0m Trial 41 finished with value: 0.7706594071385361 and parameters: {'classifier': 'RandomForest', 'n_estimators': 730, 'max_depth': 26.623964129721486}. Best is trial 15 with value: 0.7793405928614641.\u001b[0m\n",
            "\u001b[32m[I 2022-07-18 09:36:49,580]\u001b[0m Trial 42 finished with value: 0.7776164549304295 and parameters: {'classifier': 'RandomForest', 'n_estimators': 990, 'max_depth': 41.19721182030113}. Best is trial 15 with value: 0.7793405928614641.\u001b[0m\n",
            "\u001b[32m[I 2022-07-18 09:37:06,543]\u001b[0m Trial 43 finished with value: 0.7724137931034483 and parameters: {'classifier': 'RandomForest', 'n_estimators': 1140, 'max_depth': 41.29522679168416}. Best is trial 15 with value: 0.7793405928614641.\u001b[0m\n",
            "\u001b[32m[I 2022-07-18 09:37:21,670]\u001b[0m Trial 44 finished with value: 0.7724440411373261 and parameters: {'classifier': 'RandomForest', 'n_estimators': 1020, 'max_depth': 53.24243143349126}. Best is trial 15 with value: 0.7793405928614641.\u001b[0m\n",
            "\u001b[32m[I 2022-07-18 09:37:21,812]\u001b[0m Trial 45 finished with value: 0.6545069570477919 and parameters: {'classifier': 'SVC', 'svc_c': 4.705186439165033e-05}. Best is trial 15 with value: 0.7793405928614641.\u001b[0m\n",
            "\u001b[32m[I 2022-07-18 09:37:29,136]\u001b[0m Trial 46 finished with value: 0.7689352692075015 and parameters: {'classifier': 'RandomForest', 'n_estimators': 490, 'max_depth': 69.78932503372413}. Best is trial 15 with value: 0.7793405928614641.\u001b[0m\n",
            "\u001b[32m[I 2022-07-18 09:37:41,431]\u001b[0m Trial 47 finished with value: 0.7654567453115547 and parameters: {'classifier': 'RandomForest', 'n_estimators': 830, 'max_depth': 85.67073073965422}. Best is trial 15 with value: 0.7793405928614641.\u001b[0m\n",
            "\u001b[32m[I 2022-07-18 09:37:57,461]\u001b[0m Trial 48 finished with value: 0.7776164549304296 and parameters: {'classifier': 'RandomForest', 'n_estimators': 1080, 'max_depth': 45.95856416239062}. Best is trial 15 with value: 0.7793405928614641.\u001b[0m\n",
            "\u001b[32m[I 2022-07-18 09:37:57,650]\u001b[0m Trial 49 finished with value: 0.7240471869328493 and parameters: {'classifier': 'SVC', 'svc_c': 33.08230716394608}. Best is trial 15 with value: 0.7793405928614641.\u001b[0m\n",
            "\u001b[32m[I 2022-07-18 09:38:14,819]\u001b[0m Trial 50 finished with value: 0.7741379310344827 and parameters: {'classifier': 'RandomForest', 'n_estimators': 1160, 'max_depth': 46.133466948253954}. Best is trial 15 with value: 0.7793405928614641.\u001b[0m\n",
            "\u001b[32m[I 2022-07-18 09:38:30,796]\u001b[0m Trial 51 finished with value: 0.7741681790683607 and parameters: {'classifier': 'RandomForest', 'n_estimators': 1060, 'max_depth': 35.19571094150751}. Best is trial 15 with value: 0.7793405928614641.\u001b[0m\n",
            "\u001b[32m[I 2022-07-18 09:38:45,934]\u001b[0m Trial 52 finished with value: 0.7672413793103448 and parameters: {'classifier': 'RandomForest', 'n_estimators': 950, 'max_depth': 60.137638436146794}. Best is trial 15 with value: 0.7793405928614641.\u001b[0m\n",
            "\u001b[32m[I 2022-07-18 09:39:08,027]\u001b[0m Trial 53 finished with value: 0.7723532970356926 and parameters: {'classifier': 'RandomForest', 'n_estimators': 1480, 'max_depth': 51.48770846205526}. Best is trial 15 with value: 0.7793405928614641.\u001b[0m\n",
            "\u001b[32m[I 2022-07-18 09:39:26,516]\u001b[0m Trial 54 finished with value: 0.770659407138536 and parameters: {'classifier': 'RandomForest', 'n_estimators': 1230, 'max_depth': 40.70925291347848}. Best is trial 15 with value: 0.7793405928614641.\u001b[0m\n",
            "\u001b[32m[I 2022-07-18 09:39:30,829]\u001b[0m Trial 55 finished with value: 0.7637023593466423 and parameters: {'classifier': 'RandomForest', 'n_estimators': 280, 'max_depth': 67.62252656673628}. Best is trial 15 with value: 0.7793405928614641.\u001b[0m\n",
            "\u001b[32m[I 2022-07-18 09:39:40,431]\u001b[0m Trial 56 finished with value: 0.7689352692075015 and parameters: {'classifier': 'RandomForest', 'n_estimators': 650, 'max_depth': 88.52165045226735}. Best is trial 15 with value: 0.7793405928614641.\u001b[0m\n",
            "\u001b[32m[I 2022-07-18 09:39:56,707]\u001b[0m Trial 57 finished with value: 0.7706896551724138 and parameters: {'classifier': 'RandomForest', 'n_estimators': 1100, 'max_depth': 53.94999636896328}. Best is trial 15 with value: 0.7793405928614641.\u001b[0m\n",
            "\u001b[32m[I 2022-07-18 09:40:23,583]\u001b[0m Trial 58 finished with value: 0.7741379310344827 and parameters: {'classifier': 'RandomForest', 'n_estimators': 1820, 'max_depth': 21.076144602965034}. Best is trial 15 with value: 0.7793405928614641.\u001b[0m\n",
            "\u001b[32m[I 2022-07-18 09:40:33,293]\u001b[0m Trial 59 finished with value: 0.7689352692075014 and parameters: {'classifier': 'RandomForest', 'n_estimators': 660, 'max_depth': 46.48919776556703}. Best is trial 15 with value: 0.7793405928614641.\u001b[0m\n",
            "\u001b[32m[I 2022-07-18 09:40:45,071]\u001b[0m Trial 60 finished with value: 0.7759528130671506 and parameters: {'classifier': 'RandomForest', 'n_estimators': 800, 'max_depth': 75.30104538713304}. Best is trial 15 with value: 0.7793405928614641.\u001b[0m\n",
            "\u001b[32m[I 2022-07-18 09:40:58,410]\u001b[0m Trial 61 finished with value: 0.7707199032062915 and parameters: {'classifier': 'RandomForest', 'n_estimators': 810, 'max_depth': 75.38856383979527}. Best is trial 15 with value: 0.7793405928614641.\u001b[0m\n",
            "\u001b[32m[I 2022-07-18 09:41:11,552]\u001b[0m Trial 62 finished with value: 0.7723835450695704 and parameters: {'classifier': 'RandomForest', 'n_estimators': 890, 'max_depth': 93.95498262795412}. Best is trial 15 with value: 0.7793405928614641.\u001b[0m\n",
            "\u001b[32m[I 2022-07-18 09:41:26,602]\u001b[0m Trial 63 finished with value: 0.7759225650332728 and parameters: {'classifier': 'RandomForest', 'n_estimators': 1010, 'max_depth': 62.191185970352954}. Best is trial 15 with value: 0.7793405928614641.\u001b[0m\n",
            "\u001b[32m[I 2022-07-18 09:41:38,463]\u001b[0m Trial 64 finished with value: 0.7776164549304294 and parameters: {'classifier': 'RandomForest', 'n_estimators': 790, 'max_depth': 64.78272426111381}. Best is trial 15 with value: 0.7793405928614641.\u001b[0m\n",
            "\u001b[32m[I 2022-07-18 09:41:49,915]\u001b[0m Trial 65 finished with value: 0.7655172413793103 and parameters: {'classifier': 'RandomForest', 'n_estimators': 760, 'max_depth': 32.57311599659437}. Best is trial 15 with value: 0.7793405928614641.\u001b[0m\n",
            "\u001b[32m[I 2022-07-18 09:41:58,161]\u001b[0m Trial 66 finished with value: 0.7758923169993951 and parameters: {'classifier': 'RandomForest', 'n_estimators': 560, 'max_depth': 99.46209023119238}. Best is trial 15 with value: 0.7793405928614641.\u001b[0m\n",
            "\u001b[32m[I 2022-07-18 09:42:04,953]\u001b[0m Trial 67 finished with value: 0.7689352692075014 and parameters: {'classifier': 'RandomForest', 'n_estimators': 460, 'max_depth': 57.034841556483606}. Best is trial 15 with value: 0.7793405928614641.\u001b[0m\n",
            "\u001b[32m[I 2022-07-18 09:42:08,253]\u001b[0m Trial 68 finished with value: 0.7689050211736237 and parameters: {'classifier': 'RandomForest', 'n_estimators': 220, 'max_depth': 23.77335627539247}. Best is trial 15 with value: 0.7793405928614641.\u001b[0m\n",
            "\u001b[32m[I 2022-07-18 09:42:08,391]\u001b[0m Trial 69 finished with value: 0.6545069570477919 and parameters: {'classifier': 'SVC', 'svc_c': 9.222809187726234e-06}. Best is trial 15 with value: 0.7793405928614641.\u001b[0m\n",
            "\u001b[32m[I 2022-07-18 09:42:20,363]\u001b[0m Trial 70 finished with value: 0.7741379310344827 and parameters: {'classifier': 'RandomForest', 'n_estimators': 800, 'max_depth': 65.99051795070724}. Best is trial 15 with value: 0.7793405928614641.\u001b[0m\n",
            "\u001b[32m[I 2022-07-18 09:42:33,856]\u001b[0m Trial 71 finished with value: 0.767211131276467 and parameters: {'classifier': 'RandomForest', 'n_estimators': 910, 'max_depth': 63.28148517052743}. Best is trial 15 with value: 0.7793405928614641.\u001b[0m\n",
            "\u001b[32m[I 2022-07-18 09:42:49,019]\u001b[0m Trial 72 finished with value: 0.7689352692075015 and parameters: {'classifier': 'RandomForest', 'n_estimators': 1020, 'max_depth': 70.19467860323962}. Best is trial 15 with value: 0.7793405928614641.\u001b[0m\n",
            "\u001b[32m[I 2022-07-18 09:42:58,784]\u001b[0m Trial 73 finished with value: 0.7724137931034483 and parameters: {'classifier': 'RandomForest', 'n_estimators': 650, 'max_depth': 56.24013913744431}. Best is trial 15 with value: 0.7793405928614641.\u001b[0m\n",
            "\u001b[32m[I 2022-07-18 09:43:12,921]\u001b[0m Trial 74 finished with value: 0.7689352692075014 and parameters: {'classifier': 'RandomForest', 'n_estimators': 860, 'max_depth': 48.48052629503187}. Best is trial 15 with value: 0.7793405928614641.\u001b[0m\n",
            "\u001b[32m[I 2022-07-18 09:43:23,160]\u001b[0m Trial 75 finished with value: 0.7741379310344828 and parameters: {'classifier': 'RandomForest', 'n_estimators': 690, 'max_depth': 44.12759554180709}. Best is trial 15 with value: 0.7793405928614641.\u001b[0m\n",
            "\u001b[32m[I 2022-07-18 09:43:39,262]\u001b[0m Trial 76 finished with value: 0.7723835450695704 and parameters: {'classifier': 'RandomForest', 'n_estimators': 1080, 'max_depth': 37.91996755701621}. Best is trial 15 with value: 0.7793405928614641.\u001b[0m\n",
            "\u001b[32m[I 2022-07-18 09:43:50,911]\u001b[0m Trial 77 finished with value: 0.779340592861464 and parameters: {'classifier': 'RandomForest', 'n_estimators': 780, 'max_depth': 85.24765614611451}. Best is trial 15 with value: 0.7793405928614641.\u001b[0m\n",
            "\u001b[32m[I 2022-07-18 09:44:01,975]\u001b[0m Trial 78 finished with value: 0.770659407138536 and parameters: {'classifier': 'RandomForest', 'n_estimators': 750, 'max_depth': 83.65454989300801}. Best is trial 15 with value: 0.7793405928614641.\u001b[0m\n",
            "\u001b[32m[I 2022-07-18 09:44:11,042]\u001b[0m Trial 79 finished with value: 0.7724137931034483 and parameters: {'classifier': 'RandomForest', 'n_estimators': 610, 'max_depth': 73.74102819255346}. Best is trial 15 with value: 0.7793405928614641.\u001b[0m\n",
            "\u001b[32m[I 2022-07-18 09:44:11,198]\u001b[0m Trial 80 finished with value: 0.6545069570477919 and parameters: {'classifier': 'SVC', 'svc_c': 2.6256961685838e-10}. Best is trial 15 with value: 0.7793405928614641.\u001b[0m\n",
            "\u001b[32m[I 2022-07-18 09:44:25,323]\u001b[0m Trial 81 finished with value: 0.7741379310344827 and parameters: {'classifier': 'RandomForest', 'n_estimators': 930, 'max_depth': 62.146826080740276}. Best is trial 15 with value: 0.7793405928614641.\u001b[0m\n",
            "\u001b[32m[I 2022-07-18 09:44:37,171]\u001b[0m Trial 82 finished with value: 0.7758620689655172 and parameters: {'classifier': 'RandomForest', 'n_estimators': 800, 'max_depth': 76.01154415918867}. Best is trial 15 with value: 0.7793405928614641.\u001b[0m\n",
            "\u001b[32m[I 2022-07-18 09:44:52,412]\u001b[0m Trial 83 finished with value: 0.7654869933454325 and parameters: {'classifier': 'RandomForest', 'n_estimators': 1030, 'max_depth': 29.413077170604073}. Best is trial 15 with value: 0.7793405928614641.\u001b[0m\n",
            "\u001b[32m[I 2022-07-18 09:45:00,057]\u001b[0m Trial 84 finished with value: 0.7689352692075015 and parameters: {'classifier': 'RandomForest', 'n_estimators': 510, 'max_depth': 83.37103128076916}. Best is trial 15 with value: 0.7793405928614641.\u001b[0m\n",
            "\u001b[32m[I 2022-07-18 09:45:17,400]\u001b[0m Trial 85 finished with value: 0.7671808832425893 and parameters: {'classifier': 'RandomForest', 'n_estimators': 1160, 'max_depth': 93.70448446464071}. Best is trial 15 with value: 0.7793405928614641.\u001b[0m\n",
            "\u001b[32m[I 2022-07-18 09:45:24,579]\u001b[0m Trial 86 finished with value: 0.7671506352087114 and parameters: {'classifier': 'RandomForest', 'n_estimators': 380, 'max_depth': 32.85140043641032}. Best is trial 15 with value: 0.7793405928614641.\u001b[0m\n",
            "\u001b[32m[I 2022-07-18 09:45:35,116]\u001b[0m Trial 87 finished with value: 0.7689050211736237 and parameters: {'classifier': 'RandomForest', 'n_estimators': 710, 'max_depth': 10.136925637408654}. Best is trial 15 with value: 0.7793405928614641.\u001b[0m\n",
            "\u001b[32m[I 2022-07-18 09:45:49,559]\u001b[0m Trial 88 finished with value: 0.7636721113127647 and parameters: {'classifier': 'RandomForest', 'n_estimators': 980, 'max_depth': 65.79207515140796}. Best is trial 15 with value: 0.7793405928614641.\u001b[0m\n",
            "\u001b[32m[I 2022-07-18 09:46:02,154]\u001b[0m Trial 89 finished with value: 0.7706291591046581 and parameters: {'classifier': 'RandomForest', 'n_estimators': 850, 'max_depth': 50.203478741765686}. Best is trial 15 with value: 0.7793405928614641.\u001b[0m\n",
            "\u001b[32m[I 2022-07-18 09:46:20,171]\u001b[0m Trial 90 finished with value: 0.7724137931034483 and parameters: {'classifier': 'RandomForest', 'n_estimators': 1220, 'max_depth': 72.06093178479301}. Best is trial 15 with value: 0.7793405928614641.\u001b[0m\n",
            "\u001b[32m[I 2022-07-18 09:46:29,283]\u001b[0m Trial 91 finished with value: 0.7741379310344827 and parameters: {'classifier': 'RandomForest', 'n_estimators': 610, 'max_depth': 99.97295334907666}. Best is trial 15 with value: 0.7793405928614641.\u001b[0m\n",
            "\u001b[32m[I 2022-07-18 09:46:34,145]\u001b[0m Trial 92 finished with value: 0.7741681790683606 and parameters: {'classifier': 'RandomForest', 'n_estimators': 320, 'max_depth': 89.8299569806936}. Best is trial 15 with value: 0.7793405928614641.\u001b[0m\n",
            "\u001b[32m[I 2022-07-18 09:46:47,274]\u001b[0m Trial 93 finished with value: 0.7741379310344827 and parameters: {'classifier': 'RandomForest', 'n_estimators': 890, 'max_depth': 76.5644087610021}. Best is trial 15 with value: 0.7793405928614641.\u001b[0m\n",
            "\u001b[32m[I 2022-07-18 09:46:55,581]\u001b[0m Trial 94 finished with value: 0.7671808832425892 and parameters: {'classifier': 'RandomForest', 'n_estimators': 560, 'max_depth': 85.49946694320653}. Best is trial 15 with value: 0.7793405928614641.\u001b[0m\n",
            "\u001b[32m[I 2022-07-18 09:47:02,122]\u001b[0m Trial 95 finished with value: 0.7741681790683604 and parameters: {'classifier': 'RandomForest', 'n_estimators': 440, 'max_depth': 58.154740701629194}. Best is trial 15 with value: 0.7793405928614641.\u001b[0m\n",
            "\u001b[32m[I 2022-07-18 09:47:09,959]\u001b[0m Trial 96 finished with value: 0.7776164549304295 and parameters: {'classifier': 'RandomForest', 'n_estimators': 530, 'max_depth': 97.24265452119337}. Best is trial 15 with value: 0.7793405928614641.\u001b[0m\n",
            "\u001b[32m[I 2022-07-18 09:47:10,452]\u001b[0m Trial 97 finished with value: 0.6977011494252874 and parameters: {'classifier': 'SVC', 'svc_c': 114975.15135318365}. Best is trial 15 with value: 0.7793405928614641.\u001b[0m\n",
            "\u001b[32m[I 2022-07-18 09:47:27,020]\u001b[0m Trial 98 finished with value: 0.7689352692075014 and parameters: {'classifier': 'RandomForest', 'n_estimators': 1110, 'max_depth': 80.68846008711316}. Best is trial 15 with value: 0.7793405928614641.\u001b[0m\n",
            "\u001b[32m[I 2022-07-18 09:47:39,721]\u001b[0m Trial 99 finished with value: 0.7723835450695704 and parameters: {'classifier': 'RandomForest', 'n_estimators': 770, 'max_depth': 90.21218832126473}. Best is trial 15 with value: 0.7793405928614641.\u001b[0m\n"
          ]
        },
        {
          "output_type": "stream",
          "name": "stdout",
          "text": [
            "Accuracy: 0.7793405928614641\n",
            "Best Hyperparameters: {'classifier': 'RandomForest', 'n_estimators': 610, 'max_depth': 29.949350829439762}\n"
          ]
        }
      ]
    },
    {
      "cell_type": "code",
      "metadata": {
        "colab": {
          "base_uri": "https://localhost:8080/"
        },
        "id": "M7A4DDugH06N",
        "outputId": "71809e9c-59d1-420e-84a6-6b2907268d80"
      },
      "source": [
        "print(trial)\n",
        "print(study.best_params)"
      ],
      "execution_count": null,
      "outputs": [
        {
          "output_type": "stream",
          "name": "stdout",
          "text": [
            "FrozenTrial(number=15, values=[0.7793405928614641], datetime_start=datetime.datetime(2022, 7, 18, 9, 31, 48, 28990), datetime_complete=datetime.datetime(2022, 7, 18, 9, 31, 57, 168296), params={'classifier': 'RandomForest', 'n_estimators': 610, 'max_depth': 29.949350829439762}, distributions={'classifier': CategoricalDistribution(choices=('RandomForest', 'SVC')), 'n_estimators': IntUniformDistribution(high=2000, low=200, step=10), 'max_depth': LogUniformDistribution(high=100.0, low=10.0)}, user_attrs={}, system_attrs={}, intermediate_values={}, trial_id=15, state=TrialState.COMPLETE, value=None)\n",
            "{'classifier': 'RandomForest', 'n_estimators': 610, 'max_depth': 29.949350829439762}\n"
          ]
        }
      ]
    },
    {
      "cell_type": "code",
      "metadata": {
        "id": "2yaLJKOGH_zr"
      },
      "source": [
        "clf = RandomForestClassifier(n_estimators=330, max_depth=30).fit(X_train, y_train)\n",
        "\n",
        "# Predict the test set results.\n",
        "y_pred = clf.predict(X_test)"
      ],
      "execution_count": null,
      "outputs": []
    },
    {
      "cell_type": "code",
      "metadata": {
        "colab": {
          "base_uri": "https://localhost:8080/"
        },
        "id": "kmcRt2uJIUYe",
        "outputId": "2a6652de-ee75-411a-f6b4-d445ca638387"
      },
      "source": [
        "from sklearn.metrics import confusion_matrix, accuracy_score, classification_report\n",
        "\n",
        "print(\"Accuracy Score {}\".format(accuracy_score(y_test, y_pred)))\n",
        "print(classification_report(y_test, y_pred))\n",
        "print(confusion_matrix(y_test, y_pred))"
      ],
      "execution_count": null,
      "outputs": [
        {
          "output_type": "stream",
          "name": "stdout",
          "text": [
            "Accuracy Score 0.734375\n",
            "              precision    recall  f1-score   support\n",
            "\n",
            "           0       0.80      0.78      0.79       123\n",
            "           1       0.62      0.65      0.64        69\n",
            "\n",
            "    accuracy                           0.73       192\n",
            "   macro avg       0.71      0.72      0.71       192\n",
            "weighted avg       0.74      0.73      0.74       192\n",
            "\n",
            "[[96 27]\n",
            " [24 45]]\n"
          ]
        }
      ]
    },
    {
      "cell_type": "markdown",
      "metadata": {
        "id": "yzIyXCmuK2r8"
      },
      "source": [
        "# **[Tuning a scikit-learn estimator with Skopt](https://scikit-optimize.github.io/stable/auto_examples/hyperparameter-optimization.html)**"
      ]
    },
    {
      "cell_type": "markdown",
      "source": [
        "# **Lime Model Interpretation**"
      ],
      "metadata": {
        "id": "uYCi9P6Y7kA5"
      }
    },
    {
      "cell_type": "code",
      "source": [
        "!pip install lime"
      ],
      "metadata": {
        "id": "Uatn18lg8imX"
      },
      "execution_count": null,
      "outputs": []
    },
    {
      "cell_type": "code",
      "execution_count": null,
      "metadata": {
        "id": "-r3TjkEW6zrg",
        "colab": {
          "base_uri": "https://localhost:8080/",
          "height": 206
        },
        "outputId": "954baf3c-9f5c-457e-a92e-5195849e2672"
      },
      "outputs": [
        {
          "output_type": "execute_result",
          "data": {
            "text/plain": [
              "   Pregnancies  Glucose  BloodPressure  SkinThickness  Insulin   BMI  \\\n",
              "0            6      148             72             35        0  33.6   \n",
              "1            1       85             66             29        0  26.6   \n",
              "2            8      183             64              0        0  23.3   \n",
              "3            1       89             66             23       94  28.1   \n",
              "4            0      137             40             35      168  43.1   \n",
              "\n",
              "   DiabetesPedigreeFunction  Age  Outcome  \n",
              "0                     0.627   50        1  \n",
              "1                     0.351   31        0  \n",
              "2                     0.672   32        1  \n",
              "3                     0.167   21        0  \n",
              "4                     2.288   33        1  "
            ],
            "text/html": [
              "\n",
              "  <div id=\"df-1d70ca83-34cd-477a-acac-3a049b27b858\">\n",
              "    <div class=\"colab-df-container\">\n",
              "      <div>\n",
              "<style scoped>\n",
              "    .dataframe tbody tr th:only-of-type {\n",
              "        vertical-align: middle;\n",
              "    }\n",
              "\n",
              "    .dataframe tbody tr th {\n",
              "        vertical-align: top;\n",
              "    }\n",
              "\n",
              "    .dataframe thead th {\n",
              "        text-align: right;\n",
              "    }\n",
              "</style>\n",
              "<table border=\"1\" class=\"dataframe\">\n",
              "  <thead>\n",
              "    <tr style=\"text-align: right;\">\n",
              "      <th></th>\n",
              "      <th>Pregnancies</th>\n",
              "      <th>Glucose</th>\n",
              "      <th>BloodPressure</th>\n",
              "      <th>SkinThickness</th>\n",
              "      <th>Insulin</th>\n",
              "      <th>BMI</th>\n",
              "      <th>DiabetesPedigreeFunction</th>\n",
              "      <th>Age</th>\n",
              "      <th>Outcome</th>\n",
              "    </tr>\n",
              "  </thead>\n",
              "  <tbody>\n",
              "    <tr>\n",
              "      <th>0</th>\n",
              "      <td>6</td>\n",
              "      <td>148</td>\n",
              "      <td>72</td>\n",
              "      <td>35</td>\n",
              "      <td>0</td>\n",
              "      <td>33.6</td>\n",
              "      <td>0.627</td>\n",
              "      <td>50</td>\n",
              "      <td>1</td>\n",
              "    </tr>\n",
              "    <tr>\n",
              "      <th>1</th>\n",
              "      <td>1</td>\n",
              "      <td>85</td>\n",
              "      <td>66</td>\n",
              "      <td>29</td>\n",
              "      <td>0</td>\n",
              "      <td>26.6</td>\n",
              "      <td>0.351</td>\n",
              "      <td>31</td>\n",
              "      <td>0</td>\n",
              "    </tr>\n",
              "    <tr>\n",
              "      <th>2</th>\n",
              "      <td>8</td>\n",
              "      <td>183</td>\n",
              "      <td>64</td>\n",
              "      <td>0</td>\n",
              "      <td>0</td>\n",
              "      <td>23.3</td>\n",
              "      <td>0.672</td>\n",
              "      <td>32</td>\n",
              "      <td>1</td>\n",
              "    </tr>\n",
              "    <tr>\n",
              "      <th>3</th>\n",
              "      <td>1</td>\n",
              "      <td>89</td>\n",
              "      <td>66</td>\n",
              "      <td>23</td>\n",
              "      <td>94</td>\n",
              "      <td>28.1</td>\n",
              "      <td>0.167</td>\n",
              "      <td>21</td>\n",
              "      <td>0</td>\n",
              "    </tr>\n",
              "    <tr>\n",
              "      <th>4</th>\n",
              "      <td>0</td>\n",
              "      <td>137</td>\n",
              "      <td>40</td>\n",
              "      <td>35</td>\n",
              "      <td>168</td>\n",
              "      <td>43.1</td>\n",
              "      <td>2.288</td>\n",
              "      <td>33</td>\n",
              "      <td>1</td>\n",
              "    </tr>\n",
              "  </tbody>\n",
              "</table>\n",
              "</div>\n",
              "      <button class=\"colab-df-convert\" onclick=\"convertToInteractive('df-1d70ca83-34cd-477a-acac-3a049b27b858')\"\n",
              "              title=\"Convert this dataframe to an interactive table.\"\n",
              "              style=\"display:none;\">\n",
              "        \n",
              "  <svg xmlns=\"http://www.w3.org/2000/svg\" height=\"24px\"viewBox=\"0 0 24 24\"\n",
              "       width=\"24px\">\n",
              "    <path d=\"M0 0h24v24H0V0z\" fill=\"none\"/>\n",
              "    <path d=\"M18.56 5.44l.94 2.06.94-2.06 2.06-.94-2.06-.94-.94-2.06-.94 2.06-2.06.94zm-11 1L8.5 8.5l.94-2.06 2.06-.94-2.06-.94L8.5 2.5l-.94 2.06-2.06.94zm10 10l.94 2.06.94-2.06 2.06-.94-2.06-.94-.94-2.06-.94 2.06-2.06.94z\"/><path d=\"M17.41 7.96l-1.37-1.37c-.4-.4-.92-.59-1.43-.59-.52 0-1.04.2-1.43.59L10.3 9.45l-7.72 7.72c-.78.78-.78 2.05 0 2.83L4 21.41c.39.39.9.59 1.41.59.51 0 1.02-.2 1.41-.59l7.78-7.78 2.81-2.81c.8-.78.8-2.07 0-2.86zM5.41 20L4 18.59l7.72-7.72 1.47 1.35L5.41 20z\"/>\n",
              "  </svg>\n",
              "      </button>\n",
              "      \n",
              "  <style>\n",
              "    .colab-df-container {\n",
              "      display:flex;\n",
              "      flex-wrap:wrap;\n",
              "      gap: 12px;\n",
              "    }\n",
              "\n",
              "    .colab-df-convert {\n",
              "      background-color: #E8F0FE;\n",
              "      border: none;\n",
              "      border-radius: 50%;\n",
              "      cursor: pointer;\n",
              "      display: none;\n",
              "      fill: #1967D2;\n",
              "      height: 32px;\n",
              "      padding: 0 0 0 0;\n",
              "      width: 32px;\n",
              "    }\n",
              "\n",
              "    .colab-df-convert:hover {\n",
              "      background-color: #E2EBFA;\n",
              "      box-shadow: 0px 1px 2px rgba(60, 64, 67, 0.3), 0px 1px 3px 1px rgba(60, 64, 67, 0.15);\n",
              "      fill: #174EA6;\n",
              "    }\n",
              "\n",
              "    [theme=dark] .colab-df-convert {\n",
              "      background-color: #3B4455;\n",
              "      fill: #D2E3FC;\n",
              "    }\n",
              "\n",
              "    [theme=dark] .colab-df-convert:hover {\n",
              "      background-color: #434B5C;\n",
              "      box-shadow: 0px 1px 3px 1px rgba(0, 0, 0, 0.15);\n",
              "      filter: drop-shadow(0px 1px 2px rgba(0, 0, 0, 0.3));\n",
              "      fill: #FFFFFF;\n",
              "    }\n",
              "  </style>\n",
              "\n",
              "      <script>\n",
              "        const buttonEl =\n",
              "          document.querySelector('#df-1d70ca83-34cd-477a-acac-3a049b27b858 button.colab-df-convert');\n",
              "        buttonEl.style.display =\n",
              "          google.colab.kernel.accessAllowed ? 'block' : 'none';\n",
              "\n",
              "        async function convertToInteractive(key) {\n",
              "          const element = document.querySelector('#df-1d70ca83-34cd-477a-acac-3a049b27b858');\n",
              "          const dataTable =\n",
              "            await google.colab.kernel.invokeFunction('convertToInteractive',\n",
              "                                                     [key], {});\n",
              "          if (!dataTable) return;\n",
              "\n",
              "          const docLinkHtml = 'Like what you see? Visit the ' +\n",
              "            '<a target=\"_blank\" href=https://colab.research.google.com/notebooks/data_table.ipynb>data table notebook</a>'\n",
              "            + ' to learn more about interactive tables.';\n",
              "          element.innerHTML = '';\n",
              "          dataTable['output_type'] = 'display_data';\n",
              "          await google.colab.output.renderOutput(dataTable, element);\n",
              "          const docLink = document.createElement('div');\n",
              "          docLink.innerHTML = docLinkHtml;\n",
              "          element.appendChild(docLink);\n",
              "        }\n",
              "      </script>\n",
              "    </div>\n",
              "  </div>\n",
              "  "
            ]
          },
          "metadata": {},
          "execution_count": 37
        }
      ],
      "source": [
        "# Import Library.\n",
        "import pandas as pd\n",
        "import numpy as np\n",
        "import lime\n",
        "from lime import lime_tabular\n",
        "import warnings\n",
        "\n",
        "warnings.filterwarnings(\"ignore\")\n",
        "\n",
        "# Load Dataset.\n",
        "data = pd.read_csv(\n",
        "    \"https://raw.githubusercontent.com/plotly/datasets/master/diabetes.csv\"\n",
        ")\n",
        "data.head()"
      ]
    },
    {
      "cell_type": "code",
      "source": [
        "# Split the dataset into features and the target variables.\n",
        "X = data.iloc[:, :-1]\n",
        "y = data.iloc[:, -1]\n",
        "\n",
        "# Split the dataset into the Training set and Test set.\n",
        "from sklearn.model_selection import train_test_split\n",
        "\n",
        "X_train, X_test, y_train, y_test = train_test_split(\n",
        "    X, y, test_size=0.2, random_state=42\n",
        ")\n",
        "\n",
        "# Apply Random Forest Classification Model.\n",
        "from sklearn.ensemble import RandomForestClassifier\n",
        "\n",
        "clf = RandomForestClassifier().fit(X_train, y_train)"
      ],
      "metadata": {
        "id": "cwUc44KZ8An8"
      },
      "execution_count": null,
      "outputs": []
    },
    {
      "cell_type": "code",
      "source": [
        "interpretor = lime_tabular.LimeTabularExplainer(\n",
        "    training_data=np.array(X_train),\n",
        "    feature_names=X_train.columns,\n",
        "    mode=\"classification\",\n",
        ")"
      ],
      "metadata": {
        "id": "Mren6YYm8hoV"
      },
      "execution_count": null,
      "outputs": []
    },
    {
      "cell_type": "code",
      "source": [
        "exp = interpretor.explain_instance(\n",
        "    data_row=X_test.iloc[10], predict_fn=clf.predict_proba\n",
        ")\n",
        "exp.show_in_notebook(show_table=True)"
      ],
      "metadata": {
        "id": "4fqBIhGq8scN"
      },
      "execution_count": null,
      "outputs": []
    }
  ]
}