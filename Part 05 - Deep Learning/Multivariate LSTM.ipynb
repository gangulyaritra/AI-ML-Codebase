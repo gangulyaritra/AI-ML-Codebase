{
  "cells": [
    {
      "cell_type": "markdown",
      "metadata": {
        "id": "IZrhYLgBP437"
      },
      "source": [
        "# **Household Electric Power Consumption - Time Series Analysis**\n",
        "\n",
        "> [**Kaggle Dataset**](https://www.kaggle.com/uciml/electric-power-consumption-data-set)"
      ]
    },
    {
      "cell_type": "code",
      "execution_count": null,
      "metadata": {
        "id": "amQ1DIFUsGhL"
      },
      "outputs": [],
      "source": [
        "# Install Kaggle.\n",
        "!pip install --upgrade --force-reinstall --no-deps kaggle"
      ]
    },
    {
      "cell_type": "code",
      "execution_count": null,
      "metadata": {
        "id": "CIeZTVjRsGnR"
      },
      "outputs": [],
      "source": [
        "# Files Upload.\n",
        "from google.colab import files\n",
        "\n",
        "files.upload()"
      ]
    },
    {
      "cell_type": "code",
      "execution_count": null,
      "metadata": {
        "id": "-AsIXc8msGsl"
      },
      "outputs": [],
      "source": [
        "# Create a Kaggle Folder.\n",
        "!mkdir ~/.kaggle\n",
        "\n",
        "# Copy the kaggle.json to the folder created.\n",
        "!cp kaggle.json ~/.kaggle/\n",
        "\n",
        "# Permission for the json file to act.\n",
        "!chmod 600 ~/.kaggle/kaggle.json"
      ]
    },
    {
      "cell_type": "code",
      "execution_count": null,
      "metadata": {
        "id": "9WWfqiyVsGyL"
      },
      "outputs": [],
      "source": [
        "# Dataset Download.\n",
        "!kaggle datasets download -d uciml/electric-power-consumption-data-set"
      ]
    },
    {
      "cell_type": "code",
      "execution_count": null,
      "metadata": {
        "id": "dV1kB1WasP1r"
      },
      "outputs": [],
      "source": [
        "# Unzip Dataset.\n",
        "!unzip electric-power-consumption-data-set.zip"
      ]
    },
    {
      "cell_type": "markdown",
      "metadata": {
        "id": "4iVL90RRuA7D"
      },
      "source": [
        "## **Household Electric Power Consumption Forecasting using Stacked LSTM.**\n",
        "\n",
        "*The original LSTM model consists of a single hidden LSTM layer followed by a standard feedforward output layer. The stacked LSTM is an extension to this model that has multiple hidden LSTM layers where each layer contains multiple memory cells. The stacked LSTM hidden layers make the model deeper, more accurately earning the description as a deep learning technique. It is the depth of neural networks that is attributed to the approach's success on various challenging prediction problems. The stacked LSTM is now a stable technique for challenging sequence prediction problems. An LSTM model with many LSTM layers is a stacked LSTM architecture. An LSTM layer provides a sequence output rather than a single value output. Stacked LSTMs are now a stable technique for challenging sequence prediction problems.*\n",
        "\n",
        "#### **Stacked LSTMs Architecture.**\n",
        "\n",
        "A Stacked LSTM architecture can be defined as an LSTM model comprised of multiple LSTM layers. \n",
        "\n",
        "**<center>$Input \\rightarrow LSTM \\rightarrow LSTM \\rightarrow LSTM \\rightarrow Dense \\rightarrow Output$</center>**"
      ]
    },
    {
      "cell_type": "code",
      "execution_count": null,
      "metadata": {
        "colab": {
          "base_uri": "https://localhost:8080/",
          "height": 237
        },
        "id": "RQajcYb27vGR",
        "outputId": "ec041446-09c0-4ce0-c7f6-b119a98269bf"
      },
      "outputs": [
        {
          "data": {
            "text/html": [
              "\n",
              "  <div id=\"df-e6495534-e975-4b89-b822-713ddb2ec174\">\n",
              "    <div class=\"colab-df-container\">\n",
              "      <div>\n",
              "<style scoped>\n",
              "    .dataframe tbody tr th:only-of-type {\n",
              "        vertical-align: middle;\n",
              "    }\n",
              "\n",
              "    .dataframe tbody tr th {\n",
              "        vertical-align: top;\n",
              "    }\n",
              "\n",
              "    .dataframe thead th {\n",
              "        text-align: right;\n",
              "    }\n",
              "</style>\n",
              "<table border=\"1\" class=\"dataframe\">\n",
              "  <thead>\n",
              "    <tr style=\"text-align: right;\">\n",
              "      <th></th>\n",
              "      <th>Global_active_power</th>\n",
              "      <th>Global_reactive_power</th>\n",
              "      <th>Voltage</th>\n",
              "      <th>Global_intensity</th>\n",
              "      <th>Sub_metering_1</th>\n",
              "      <th>Sub_metering_2</th>\n",
              "      <th>Sub_metering_3</th>\n",
              "    </tr>\n",
              "    <tr>\n",
              "      <th>date_time</th>\n",
              "      <th></th>\n",
              "      <th></th>\n",
              "      <th></th>\n",
              "      <th></th>\n",
              "      <th></th>\n",
              "      <th></th>\n",
              "      <th></th>\n",
              "    </tr>\n",
              "  </thead>\n",
              "  <tbody>\n",
              "    <tr>\n",
              "      <th>2006-12-16 17:24:00</th>\n",
              "      <td>4.216</td>\n",
              "      <td>0.418</td>\n",
              "      <td>234.84</td>\n",
              "      <td>18.4</td>\n",
              "      <td>0.0</td>\n",
              "      <td>1.0</td>\n",
              "      <td>17.0</td>\n",
              "    </tr>\n",
              "    <tr>\n",
              "      <th>2006-12-16 17:25:00</th>\n",
              "      <td>5.360</td>\n",
              "      <td>0.436</td>\n",
              "      <td>233.63</td>\n",
              "      <td>23.0</td>\n",
              "      <td>0.0</td>\n",
              "      <td>1.0</td>\n",
              "      <td>16.0</td>\n",
              "    </tr>\n",
              "    <tr>\n",
              "      <th>2006-12-16 17:26:00</th>\n",
              "      <td>5.374</td>\n",
              "      <td>0.498</td>\n",
              "      <td>233.29</td>\n",
              "      <td>23.0</td>\n",
              "      <td>0.0</td>\n",
              "      <td>2.0</td>\n",
              "      <td>17.0</td>\n",
              "    </tr>\n",
              "    <tr>\n",
              "      <th>2006-12-16 17:27:00</th>\n",
              "      <td>5.388</td>\n",
              "      <td>0.502</td>\n",
              "      <td>233.74</td>\n",
              "      <td>23.0</td>\n",
              "      <td>0.0</td>\n",
              "      <td>1.0</td>\n",
              "      <td>17.0</td>\n",
              "    </tr>\n",
              "    <tr>\n",
              "      <th>2006-12-16 17:28:00</th>\n",
              "      <td>3.666</td>\n",
              "      <td>0.528</td>\n",
              "      <td>235.68</td>\n",
              "      <td>15.8</td>\n",
              "      <td>0.0</td>\n",
              "      <td>1.0</td>\n",
              "      <td>17.0</td>\n",
              "    </tr>\n",
              "  </tbody>\n",
              "</table>\n",
              "</div>\n",
              "      <button class=\"colab-df-convert\" onclick=\"convertToInteractive('df-e6495534-e975-4b89-b822-713ddb2ec174')\"\n",
              "              title=\"Convert this dataframe to an interactive table.\"\n",
              "              style=\"display:none;\">\n",
              "        \n",
              "  <svg xmlns=\"http://www.w3.org/2000/svg\" height=\"24px\"viewBox=\"0 0 24 24\"\n",
              "       width=\"24px\">\n",
              "    <path d=\"M0 0h24v24H0V0z\" fill=\"none\"/>\n",
              "    <path d=\"M18.56 5.44l.94 2.06.94-2.06 2.06-.94-2.06-.94-.94-2.06-.94 2.06-2.06.94zm-11 1L8.5 8.5l.94-2.06 2.06-.94-2.06-.94L8.5 2.5l-.94 2.06-2.06.94zm10 10l.94 2.06.94-2.06 2.06-.94-2.06-.94-.94-2.06-.94 2.06-2.06.94z\"/><path d=\"M17.41 7.96l-1.37-1.37c-.4-.4-.92-.59-1.43-.59-.52 0-1.04.2-1.43.59L10.3 9.45l-7.72 7.72c-.78.78-.78 2.05 0 2.83L4 21.41c.39.39.9.59 1.41.59.51 0 1.02-.2 1.41-.59l7.78-7.78 2.81-2.81c.8-.78.8-2.07 0-2.86zM5.41 20L4 18.59l7.72-7.72 1.47 1.35L5.41 20z\"/>\n",
              "  </svg>\n",
              "      </button>\n",
              "      \n",
              "  <style>\n",
              "    .colab-df-container {\n",
              "      display:flex;\n",
              "      flex-wrap:wrap;\n",
              "      gap: 12px;\n",
              "    }\n",
              "\n",
              "    .colab-df-convert {\n",
              "      background-color: #E8F0FE;\n",
              "      border: none;\n",
              "      border-radius: 50%;\n",
              "      cursor: pointer;\n",
              "      display: none;\n",
              "      fill: #1967D2;\n",
              "      height: 32px;\n",
              "      padding: 0 0 0 0;\n",
              "      width: 32px;\n",
              "    }\n",
              "\n",
              "    .colab-df-convert:hover {\n",
              "      background-color: #E2EBFA;\n",
              "      box-shadow: 0px 1px 2px rgba(60, 64, 67, 0.3), 0px 1px 3px 1px rgba(60, 64, 67, 0.15);\n",
              "      fill: #174EA6;\n",
              "    }\n",
              "\n",
              "    [theme=dark] .colab-df-convert {\n",
              "      background-color: #3B4455;\n",
              "      fill: #D2E3FC;\n",
              "    }\n",
              "\n",
              "    [theme=dark] .colab-df-convert:hover {\n",
              "      background-color: #434B5C;\n",
              "      box-shadow: 0px 1px 3px 1px rgba(0, 0, 0, 0.15);\n",
              "      filter: drop-shadow(0px 1px 2px rgba(0, 0, 0, 0.3));\n",
              "      fill: #FFFFFF;\n",
              "    }\n",
              "  </style>\n",
              "\n",
              "      <script>\n",
              "        const buttonEl =\n",
              "          document.querySelector('#df-e6495534-e975-4b89-b822-713ddb2ec174 button.colab-df-convert');\n",
              "        buttonEl.style.display =\n",
              "          google.colab.kernel.accessAllowed ? 'block' : 'none';\n",
              "\n",
              "        async function convertToInteractive(key) {\n",
              "          const element = document.querySelector('#df-e6495534-e975-4b89-b822-713ddb2ec174');\n",
              "          const dataTable =\n",
              "            await google.colab.kernel.invokeFunction('convertToInteractive',\n",
              "                                                     [key], {});\n",
              "          if (!dataTable) return;\n",
              "\n",
              "          const docLinkHtml = 'Like what you see? Visit the ' +\n",
              "            '<a target=\"_blank\" href=https://colab.research.google.com/notebooks/data_table.ipynb>data table notebook</a>'\n",
              "            + ' to learn more about interactive tables.';\n",
              "          element.innerHTML = '';\n",
              "          dataTable['output_type'] = 'display_data';\n",
              "          await google.colab.output.renderOutput(dataTable, element);\n",
              "          const docLink = document.createElement('div');\n",
              "          docLink.innerHTML = docLinkHtml;\n",
              "          element.appendChild(docLink);\n",
              "        }\n",
              "      </script>\n",
              "    </div>\n",
              "  </div>\n",
              "  "
            ],
            "text/plain": [
              "                     Global_active_power  Global_reactive_power  Voltage  \\\n",
              "date_time                                                                  \n",
              "2006-12-16 17:24:00                4.216                  0.418   234.84   \n",
              "2006-12-16 17:25:00                5.360                  0.436   233.63   \n",
              "2006-12-16 17:26:00                5.374                  0.498   233.29   \n",
              "2006-12-16 17:27:00                5.388                  0.502   233.74   \n",
              "2006-12-16 17:28:00                3.666                  0.528   235.68   \n",
              "\n",
              "                     Global_intensity  Sub_metering_1  Sub_metering_2  \\\n",
              "date_time                                                               \n",
              "2006-12-16 17:24:00              18.4             0.0             1.0   \n",
              "2006-12-16 17:25:00              23.0             0.0             1.0   \n",
              "2006-12-16 17:26:00              23.0             0.0             2.0   \n",
              "2006-12-16 17:27:00              23.0             0.0             1.0   \n",
              "2006-12-16 17:28:00              15.8             0.0             1.0   \n",
              "\n",
              "                     Sub_metering_3  \n",
              "date_time                            \n",
              "2006-12-16 17:24:00            17.0  \n",
              "2006-12-16 17:25:00            16.0  \n",
              "2006-12-16 17:26:00            17.0  \n",
              "2006-12-16 17:27:00            17.0  \n",
              "2006-12-16 17:28:00            17.0  "
            ]
          },
          "execution_count": 30,
          "metadata": {},
          "output_type": "execute_result"
        }
      ],
      "source": [
        "# Import Library.\n",
        "import pandas as pd\n",
        "import numpy as np\n",
        "import matplotlib.pyplot as plt\n",
        "import seaborn as sns\n",
        "\n",
        "sns.set()\n",
        "plt.style.use(\"fivethirtyeight\")\n",
        "from tensorflow import keras\n",
        "import warnings\n",
        "\n",
        "warnings.filterwarnings(\"ignore\")\n",
        "\n",
        "# Import Dataset.\n",
        "data = pd.read_csv(\n",
        "    \"household_power_consumption.txt\",\n",
        "    sep=\";\",\n",
        "    parse_dates={\"date_time\": [\"Date\", \"Time\"]},\n",
        "    infer_datetime_format=True,\n",
        "    low_memory=False,\n",
        "    na_values=[\"nan\", \"?\"],\n",
        "    index_col=\"date_time\",\n",
        ")\n",
        "\n",
        "data.head()"
      ]
    },
    {
      "cell_type": "markdown",
      "metadata": {
        "id": "-eUb-1x2K112"
      },
      "source": [
        "### **Dataset Information.**\n",
        "\n",
        "*   **date:** Date in format dd/mm/yyyy\n",
        "*   **time:** Time in format hh:mm:ss\n",
        "*   **global_active_power:** Household global minute-averaged active power (in kilowatt).\n",
        "*   **global_reactive_power:** Household global minute-averaged reactive power (in kilowatt).\n",
        "*   **voltage:** minute-averaged voltage (in volt).\n",
        "*   **global_intensity:** Household global minute-averaged current intensity (in ampere).\n",
        "*   **sub_metering_1:** Energy sub-metering No. 1 (in watt-hour of active energy). It corresponds to the kitchen, containing mainly a dishwasher, an oven, and a microwave (hot plates are not electric but gas-powered).\n",
        "*   **sub_metering_2:** Energy sub-metering No. 2 (in watt-hour of active energy). It corresponds to the laundry room, containing a washing machine, a tumble-drier, a refrigerator, and a light.\n",
        "*   **sub_metering_3:** Energy sub-metering No. 3 (in watt-hour of active energy). It corresponds to an electric water heater and an AC."
      ]
    },
    {
      "cell_type": "code",
      "execution_count": null,
      "metadata": {
        "colab": {
          "base_uri": "https://localhost:8080/"
        },
        "id": "N7d_bNLd88QH",
        "outputId": "414ddbb2-c68a-41e3-c1a4-b1400b9ab779"
      },
      "outputs": [
        {
          "name": "stdout",
          "output_type": "stream",
          "text": [
            "<class 'pandas.core.frame.DataFrame'>\n",
            "DatetimeIndex: 2075259 entries, 2006-12-16 17:24:00 to 2010-11-26 21:02:00\n",
            "Data columns (total 7 columns):\n",
            " #   Column                 Dtype  \n",
            "---  ------                 -----  \n",
            " 0   Global_active_power    float64\n",
            " 1   Global_reactive_power  float64\n",
            " 2   Voltage                float64\n",
            " 3   Global_intensity       float64\n",
            " 4   Sub_metering_1         float64\n",
            " 5   Sub_metering_2         float64\n",
            " 6   Sub_metering_3         float64\n",
            "dtypes: float64(7)\n",
            "memory usage: 126.7 MB\n"
          ]
        }
      ],
      "source": [
        "# Dataset Information.\n",
        "data.info()"
      ]
    },
    {
      "cell_type": "code",
      "execution_count": null,
      "metadata": {
        "colab": {
          "base_uri": "https://localhost:8080/"
        },
        "id": "GkYaswsC8uuV",
        "outputId": "2a06ea5b-fcba-4c2c-c4bd-08d5f20206f7"
      },
      "outputs": [
        {
          "data": {
            "text/plain": [
              "Global_active_power      25979\n",
              "Global_reactive_power    25979\n",
              "Voltage                  25979\n",
              "Global_intensity         25979\n",
              "Sub_metering_1           25979\n",
              "Sub_metering_2           25979\n",
              "Sub_metering_3           25979\n",
              "dtype: int64"
            ]
          },
          "execution_count": 32,
          "metadata": {},
          "output_type": "execute_result"
        }
      ],
      "source": [
        "# Missing Values.\n",
        "data.isna().sum()"
      ]
    },
    {
      "cell_type": "code",
      "execution_count": null,
      "metadata": {
        "colab": {
          "base_uri": "https://localhost:8080/"
        },
        "id": "UZ1a7W7v9j7W",
        "outputId": "10ce350d-0ac1-4bb2-d29c-eecaf4e425fc"
      },
      "outputs": [
        {
          "data": {
            "text/plain": [
              "Global_active_power      0\n",
              "Global_reactive_power    0\n",
              "Voltage                  0\n",
              "Global_intensity         0\n",
              "Sub_metering_1           0\n",
              "Sub_metering_2           0\n",
              "Sub_metering_3           0\n",
              "dtype: int64"
            ]
          },
          "execution_count": 33,
          "metadata": {},
          "output_type": "execute_result"
        }
      ],
      "source": [
        "# Fill missing values by the value of one day before.\n",
        "def fill_missing(data):\n",
        "    one_day = 23 * 60\n",
        "    for row in range(data.shape[0]):\n",
        "        for col in range(data.shape[1]):\n",
        "            if np.isnan(data[row, col]):\n",
        "                data[row, col] = data[row - one_day, col]\n",
        "\n",
        "\n",
        "fill_missing(data.values)\n",
        "\n",
        "# No Missing Values.\n",
        "data.isna().sum()"
      ]
    },
    {
      "cell_type": "code",
      "execution_count": null,
      "metadata": {
        "colab": {
          "base_uri": "https://localhost:8080/",
          "height": 237
        },
        "id": "sDtWl-xqD-Yq",
        "outputId": "bc4618ce-ae3b-4eb8-c9da-5829e80eba4a"
      },
      "outputs": [
        {
          "data": {
            "text/html": [
              "\n",
              "  <div id=\"df-3befad93-8458-4800-844c-6dc2f16fdde0\">\n",
              "    <div class=\"colab-df-container\">\n",
              "      <div>\n",
              "<style scoped>\n",
              "    .dataframe tbody tr th:only-of-type {\n",
              "        vertical-align: middle;\n",
              "    }\n",
              "\n",
              "    .dataframe tbody tr th {\n",
              "        vertical-align: top;\n",
              "    }\n",
              "\n",
              "    .dataframe thead th {\n",
              "        text-align: right;\n",
              "    }\n",
              "</style>\n",
              "<table border=\"1\" class=\"dataframe\">\n",
              "  <thead>\n",
              "    <tr style=\"text-align: right;\">\n",
              "      <th></th>\n",
              "      <th>Global_active_power</th>\n",
              "      <th>Global_reactive_power</th>\n",
              "      <th>Voltage</th>\n",
              "      <th>Global_intensity</th>\n",
              "      <th>Sub_metering_1</th>\n",
              "      <th>Sub_metering_2</th>\n",
              "      <th>Sub_metering_3</th>\n",
              "    </tr>\n",
              "    <tr>\n",
              "      <th>date_time</th>\n",
              "      <th></th>\n",
              "      <th></th>\n",
              "      <th></th>\n",
              "      <th></th>\n",
              "      <th></th>\n",
              "      <th></th>\n",
              "      <th></th>\n",
              "    </tr>\n",
              "  </thead>\n",
              "  <tbody>\n",
              "    <tr>\n",
              "      <th>2006-12-16 17:24:00</th>\n",
              "      <td>4.216</td>\n",
              "      <td>0.418</td>\n",
              "      <td>234.84</td>\n",
              "      <td>18.4</td>\n",
              "      <td>0.0</td>\n",
              "      <td>1.0</td>\n",
              "      <td>17.0</td>\n",
              "    </tr>\n",
              "    <tr>\n",
              "      <th>2006-12-16 17:25:00</th>\n",
              "      <td>5.360</td>\n",
              "      <td>0.436</td>\n",
              "      <td>233.63</td>\n",
              "      <td>23.0</td>\n",
              "      <td>0.0</td>\n",
              "      <td>1.0</td>\n",
              "      <td>16.0</td>\n",
              "    </tr>\n",
              "    <tr>\n",
              "      <th>2006-12-16 17:26:00</th>\n",
              "      <td>5.374</td>\n",
              "      <td>0.498</td>\n",
              "      <td>233.29</td>\n",
              "      <td>23.0</td>\n",
              "      <td>0.0</td>\n",
              "      <td>2.0</td>\n",
              "      <td>17.0</td>\n",
              "    </tr>\n",
              "    <tr>\n",
              "      <th>2006-12-16 17:27:00</th>\n",
              "      <td>5.388</td>\n",
              "      <td>0.502</td>\n",
              "      <td>233.74</td>\n",
              "      <td>23.0</td>\n",
              "      <td>0.0</td>\n",
              "      <td>1.0</td>\n",
              "      <td>17.0</td>\n",
              "    </tr>\n",
              "    <tr>\n",
              "      <th>2006-12-16 17:28:00</th>\n",
              "      <td>3.666</td>\n",
              "      <td>0.528</td>\n",
              "      <td>235.68</td>\n",
              "      <td>15.8</td>\n",
              "      <td>0.0</td>\n",
              "      <td>1.0</td>\n",
              "      <td>17.0</td>\n",
              "    </tr>\n",
              "  </tbody>\n",
              "</table>\n",
              "</div>\n",
              "      <button class=\"colab-df-convert\" onclick=\"convertToInteractive('df-3befad93-8458-4800-844c-6dc2f16fdde0')\"\n",
              "              title=\"Convert this dataframe to an interactive table.\"\n",
              "              style=\"display:none;\">\n",
              "        \n",
              "  <svg xmlns=\"http://www.w3.org/2000/svg\" height=\"24px\"viewBox=\"0 0 24 24\"\n",
              "       width=\"24px\">\n",
              "    <path d=\"M0 0h24v24H0V0z\" fill=\"none\"/>\n",
              "    <path d=\"M18.56 5.44l.94 2.06.94-2.06 2.06-.94-2.06-.94-.94-2.06-.94 2.06-2.06.94zm-11 1L8.5 8.5l.94-2.06 2.06-.94-2.06-.94L8.5 2.5l-.94 2.06-2.06.94zm10 10l.94 2.06.94-2.06 2.06-.94-2.06-.94-.94-2.06-.94 2.06-2.06.94z\"/><path d=\"M17.41 7.96l-1.37-1.37c-.4-.4-.92-.59-1.43-.59-.52 0-1.04.2-1.43.59L10.3 9.45l-7.72 7.72c-.78.78-.78 2.05 0 2.83L4 21.41c.39.39.9.59 1.41.59.51 0 1.02-.2 1.41-.59l7.78-7.78 2.81-2.81c.8-.78.8-2.07 0-2.86zM5.41 20L4 18.59l7.72-7.72 1.47 1.35L5.41 20z\"/>\n",
              "  </svg>\n",
              "      </button>\n",
              "      \n",
              "  <style>\n",
              "    .colab-df-container {\n",
              "      display:flex;\n",
              "      flex-wrap:wrap;\n",
              "      gap: 12px;\n",
              "    }\n",
              "\n",
              "    .colab-df-convert {\n",
              "      background-color: #E8F0FE;\n",
              "      border: none;\n",
              "      border-radius: 50%;\n",
              "      cursor: pointer;\n",
              "      display: none;\n",
              "      fill: #1967D2;\n",
              "      height: 32px;\n",
              "      padding: 0 0 0 0;\n",
              "      width: 32px;\n",
              "    }\n",
              "\n",
              "    .colab-df-convert:hover {\n",
              "      background-color: #E2EBFA;\n",
              "      box-shadow: 0px 1px 2px rgba(60, 64, 67, 0.3), 0px 1px 3px 1px rgba(60, 64, 67, 0.15);\n",
              "      fill: #174EA6;\n",
              "    }\n",
              "\n",
              "    [theme=dark] .colab-df-convert {\n",
              "      background-color: #3B4455;\n",
              "      fill: #D2E3FC;\n",
              "    }\n",
              "\n",
              "    [theme=dark] .colab-df-convert:hover {\n",
              "      background-color: #434B5C;\n",
              "      box-shadow: 0px 1px 3px 1px rgba(0, 0, 0, 0.15);\n",
              "      filter: drop-shadow(0px 1px 2px rgba(0, 0, 0, 0.3));\n",
              "      fill: #FFFFFF;\n",
              "    }\n",
              "  </style>\n",
              "\n",
              "      <script>\n",
              "        const buttonEl =\n",
              "          document.querySelector('#df-3befad93-8458-4800-844c-6dc2f16fdde0 button.colab-df-convert');\n",
              "        buttonEl.style.display =\n",
              "          google.colab.kernel.accessAllowed ? 'block' : 'none';\n",
              "\n",
              "        async function convertToInteractive(key) {\n",
              "          const element = document.querySelector('#df-3befad93-8458-4800-844c-6dc2f16fdde0');\n",
              "          const dataTable =\n",
              "            await google.colab.kernel.invokeFunction('convertToInteractive',\n",
              "                                                     [key], {});\n",
              "          if (!dataTable) return;\n",
              "\n",
              "          const docLinkHtml = 'Like what you see? Visit the ' +\n",
              "            '<a target=\"_blank\" href=https://colab.research.google.com/notebooks/data_table.ipynb>data table notebook</a>'\n",
              "            + ' to learn more about interactive tables.';\n",
              "          element.innerHTML = '';\n",
              "          dataTable['output_type'] = 'display_data';\n",
              "          await google.colab.output.renderOutput(dataTable, element);\n",
              "          const docLink = document.createElement('div');\n",
              "          docLink.innerHTML = docLinkHtml;\n",
              "          element.appendChild(docLink);\n",
              "        }\n",
              "      </script>\n",
              "    </div>\n",
              "  </div>\n",
              "  "
            ],
            "text/plain": [
              "                     Global_active_power  Global_reactive_power  Voltage  \\\n",
              "date_time                                                                  \n",
              "2006-12-16 17:24:00                4.216                  0.418   234.84   \n",
              "2006-12-16 17:25:00                5.360                  0.436   233.63   \n",
              "2006-12-16 17:26:00                5.374                  0.498   233.29   \n",
              "2006-12-16 17:27:00                5.388                  0.502   233.74   \n",
              "2006-12-16 17:28:00                3.666                  0.528   235.68   \n",
              "\n",
              "                     Global_intensity  Sub_metering_1  Sub_metering_2  \\\n",
              "date_time                                                               \n",
              "2006-12-16 17:24:00              18.4             0.0             1.0   \n",
              "2006-12-16 17:25:00              23.0             0.0             1.0   \n",
              "2006-12-16 17:26:00              23.0             0.0             2.0   \n",
              "2006-12-16 17:27:00              23.0             0.0             1.0   \n",
              "2006-12-16 17:28:00              15.8             0.0             1.0   \n",
              "\n",
              "                     Sub_metering_3  \n",
              "date_time                            \n",
              "2006-12-16 17:24:00            17.0  \n",
              "2006-12-16 17:25:00            16.0  \n",
              "2006-12-16 17:26:00            17.0  \n",
              "2006-12-16 17:27:00            17.0  \n",
              "2006-12-16 17:28:00            17.0  "
            ]
          },
          "execution_count": 34,
          "metadata": {},
          "output_type": "execute_result"
        }
      ],
      "source": [
        "data.to_csv(\"household_power_consumption.csv\")\n",
        "\n",
        "# Load Dataset.\n",
        "data = pd.read_csv(\n",
        "    \"household_power_consumption.csv\", parse_dates=[\"date_time\"], index_col=\"date_time\"\n",
        ")\n",
        "data.head()"
      ]
    },
    {
      "cell_type": "markdown",
      "metadata": {
        "id": "QHwpGDnFJfNR"
      },
      "source": [
        "## **Exploratory Data Visualization**"
      ]
    },
    {
      "cell_type": "code",
      "execution_count": null,
      "metadata": {
        "id": "9n1i7M_WFk5N"
      },
      "outputs": [],
      "source": [
        "# Resample Dataset.\n",
        "data = data.resample(\"D\").sum()"
      ]
    },
    {
      "cell_type": "code",
      "execution_count": null,
      "metadata": {
        "id": "cCpkCE0sE1sy"
      },
      "outputs": [],
      "source": [
        "# Plot Active Power per Features.\n",
        "fig, ax = plt.subplots(figsize=(18, 12))\n",
        "\n",
        "for i in range(len(data.columns)):\n",
        "    plt.subplot(len(data.columns), 1, i + 1)\n",
        "    name = data.columns[i]\n",
        "    plt.plot(data[name])\n",
        "    plt.title(name, y=0, loc=\"right\")\n",
        "    plt.yticks([])\n",
        "\n",
        "plt.show()\n",
        "fig.tight_layout()"
      ]
    },
    {
      "cell_type": "code",
      "execution_count": null,
      "metadata": {
        "id": "JsukasV2FZf5"
      },
      "outputs": [],
      "source": [
        "# Plot Active Power per Year.\n",
        "years = [\"2007\", \"2008\", \"2009\", \"2010\"]\n",
        "fig, ax = plt.subplots(figsize=(18, 12))\n",
        "\n",
        "for i in range(len(years)):\n",
        "    plt.subplot(len(data.columns), 1, i + 1)\n",
        "    year = years[i]\n",
        "    active_power_data = data[str(year)][\"Global_active_power\"]\n",
        "    plt.plot(active_power_data)\n",
        "    plt.title(\n",
        "        str(year) + \" > \" + str(np.round(active_power_data.sum(), 1)), y=0, loc=\"left\"\n",
        "    )\n",
        "\n",
        "plt.show()\n",
        "fig.tight_layout()"
      ]
    },
    {
      "cell_type": "code",
      "execution_count": null,
      "metadata": {
        "id": "SExNzXELHY_C"
      },
      "outputs": [],
      "source": [
        "# Per Year Data Visualisation (Global Active Power).\n",
        "years = [\"2007\", \"2008\", \"2009\", \"2010\"]\n",
        "fig, ax = plt.subplots(figsize=(18, 12))\n",
        "\n",
        "for i in range(len(years)):\n",
        "    plt.subplot(len(data.columns), 1, i + 1)\n",
        "    year = years[i]\n",
        "    active_power_data = data[str(year)][\"Global_active_power\"]\n",
        "    active_power_data.hist(bins=200)\n",
        "    plt.title(\n",
        "        str(year) + \" > \" + str(np.round(active_power_data.sum(), 1)), y=0, loc=\"left\"\n",
        "    )\n",
        "\n",
        "plt.show()\n",
        "fig.tight_layout()"
      ]
    },
    {
      "cell_type": "code",
      "execution_count": null,
      "metadata": {
        "id": "zwcscNYnIigS"
      },
      "outputs": [],
      "source": [
        "fig, ax = plt.subplots(figsize=(18, 12))\n",
        "\n",
        "for i in range(len(data.columns)):\n",
        "    plt.subplot(len(data.columns), 1, i + 1)\n",
        "    name = data.columns[i]\n",
        "    data[name].hist(bins=200)\n",
        "    plt.title(name, y=0, loc=\"right\")\n",
        "    plt.yticks([])\n",
        "\n",
        "plt.show()\n",
        "fig.tight_layout()"
      ]
    },
    {
      "cell_type": "code",
      "execution_count": null,
      "metadata": {
        "id": "8aatwvm4IjXo"
      },
      "outputs": [],
      "source": [
        "# Plot Power Consumption per month in 2007.\n",
        "months = [i for i in range(1, 13)]\n",
        "fig, ax = plt.subplots(figsize=(18, 22))\n",
        "\n",
        "for i in range(len(months)):\n",
        "    ax = plt.subplot(len(months), 1, i + 1)\n",
        "    month = \"2007-\" + str(months[i])\n",
        "    active_power = data[month].Global_active_power\n",
        "    sns.distplot(active_power, kde=True)\n",
        "    plt.title(month + \" \" + str(np.round(active_power.sum(), 1)), loc=\"left\")\n",
        "\n",
        "plt.show()\n",
        "fig.tight_layout(pad=5)"
      ]
    },
    {
      "cell_type": "markdown",
      "metadata": {
        "id": "p5u3jFRg-P1_"
      },
      "source": [
        "## **Prediction Goals**\n",
        "\n",
        "*   Forecast hourly power consumption for the next day.\n",
        "*   Forecast daily power consumption for the next week.\n",
        "*   Forecast weekly power consumption for the next month.\n",
        "*   Forecast monthly power consumption for the next year.\n",
        "\n",
        "### **Prepare the Dataset in LSTM format (Multivariate LSTM Model).**"
      ]
    },
    {
      "cell_type": "code",
      "execution_count": null,
      "metadata": {
        "colab": {
          "base_uri": "https://localhost:8080/"
        },
        "id": "QWRcyl_e6u_V",
        "outputId": "c1d9efe3-aba0-4127-8c8f-17b64740da33"
      },
      "outputs": [
        {
          "name": "stdout",
          "output_type": "stream",
          "text": [
            "(1084, 21) (1084, 7)\n"
          ]
        }
      ],
      "source": [
        "# Split Dataset into Feature and Target Set.\n",
        "data_ = data[\"Global_active_power\"]\n",
        "data_test = data_[\"2010\"]\n",
        "data_train = data_.loc[:\"2009-12-31\"]\n",
        "\n",
        "# Split Dataset into Training and Test Data.\n",
        "X_train, y_train = [], []\n",
        "\n",
        "for i in range(21, len(data_train) - 7):\n",
        "    X_train.append(data_train[i - 21 : i])\n",
        "    y_train.append(data_train[i : i + 7])\n",
        "\n",
        "X_train, y_train = np.array(X_train), np.array(y_train)\n",
        "\n",
        "print(X_train.shape, y_train.shape)\n",
        "\n",
        "# Feature Scaling.\n",
        "from sklearn.preprocessing import MinMaxScaler\n",
        "\n",
        "scaler_x = MinMaxScaler()\n",
        "scaler_y = MinMaxScaler()\n",
        "X_train = scaler_x.fit_transform(X_train)\n",
        "y_train = scaler_y.fit_transform(y_train)"
      ]
    },
    {
      "cell_type": "code",
      "execution_count": null,
      "metadata": {
        "colab": {
          "base_uri": "https://localhost:8080/"
        },
        "id": "Em1HrPunAAkJ",
        "outputId": "f7f1fd5a-dddc-4123-a54b-5cd029c09624"
      },
      "outputs": [
        {
          "name": "stdout",
          "output_type": "stream",
          "text": [
            "(1074, 21, 1) (10, 21, 1) (1074, 7) (10, 7)\n"
          ]
        }
      ],
      "source": [
        "# Convert training and test data into LSTM Format - Reshape input to be [samples, time steps, features] for LSTM.\n",
        "X_train = X_train.reshape(X_train.shape[0], X_train.shape[1], 1)\n",
        "y_train = y_train.reshape(y_train.shape[0], y_train.shape[1])\n",
        "\n",
        "# Validation Dataset.\n",
        "X_valid = X_train[:10]\n",
        "y_valid = y_train[:10]\n",
        "X_train = X_train[10:]\n",
        "y_train = y_train[10:]\n",
        "\n",
        "print(X_train.shape, X_valid.shape, y_train.shape, y_valid.shape)"
      ]
    },
    {
      "cell_type": "markdown",
      "metadata": {
        "id": "eQIdtxV6Vpmf"
      },
      "source": [
        "## **Build the LSTM Model (Vector Output Model).**\n",
        "\n",
        "We need to shape $x\\_input$ into a 3D dimension for LSTM, and the output will be in the shape of ($timesteps$, $nos\\_of\\_features$). This particular architecture is called **Vector Output Model**.\n",
        "\n",
        "> [**Differences Between Bidirectional and Unidirectional LSTM**](https://www.baeldung.com/cs/bidirectional-vs-unidirectional-lstm)\n",
        "\n",
        "## **Bi-directional LSTM**\n",
        "\n",
        "**Bidirectional LSTM** (BiLSTM) is a recurrent neural network used primarily on natural language processing. Unlike standard LSTM, the input flows in both directions and utilizes information from both sides. It's also a powerful tool for modeling the sequential dependencies between words and phrases in both directions of the sequence.\n",
        "\n",
        "In summary, **BiLSTM** adds one more LSTM layer that reverses the direction of information flow. That is, the input sequence flows backward in the additional LSTM layer. Then we combine the outputs from both LSTM layers in several ways, such as average, sum, multiplication, or concatenation.\n",
        "\n",
        "**To illustrate, the unrolled BiLSTM is presented in the figure below:**\n",
        "\n",
        "![BiLSTM.png](https://www.baeldung.com/wp-content/uploads/sites/4/2022/01/bilstm-1.png)\n",
        "\n",
        "***We implement a Bidirectional LSTM for univariate time series forecasting by wrapping the first hidden layer in a wrapper layer called Bidirectional.***\n",
        "\n"
      ]
    },
    {
      "cell_type": "code",
      "execution_count": null,
      "metadata": {
        "id": "0IaVheV36vCK"
      },
      "outputs": [],
      "source": [
        "from tensorflow.keras.models import Sequential\n",
        "from tensorflow.keras.layers import (\n",
        "    Dense,\n",
        "    LSTM,\n",
        "    Bidirectional,\n",
        "    Dropout,\n",
        "    LayerNormalization,\n",
        ")\n",
        "\n",
        "# Create a Stacked Uni-directional LSTM.\n",
        "def model_lstm():\n",
        "    model = Sequential()\n",
        "    model.add(\n",
        "        LSTM(\n",
        "            200,\n",
        "            return_sequences=True,\n",
        "            activation=\"tanh\",\n",
        "            input_shape=(X_train.shape[1], 1),\n",
        "        )\n",
        "    )\n",
        "    model.add(LayerNormalization())\n",
        "    model.add(LSTM(100))\n",
        "    model.add(Dropout(0.25))\n",
        "    model.add(LayerNormalization())\n",
        "    model.add(Dense(7))\n",
        "    # Fit the Model.\n",
        "    model.compile(optimizer=\"adam\", loss=\"mse\", metrics=[\"accuracy\"])\n",
        "    return model\n",
        "\n",
        "\n",
        "\"\"\"\n",
        "In sequence prediction problems, it is beneficial to allow the LSTM model to learn the input sequence in both forward \n",
        "and backward directions and then concatenate both interpretations. This technique is called a Bidirectional LSTM.\n",
        "\"\"\"\n",
        "\n",
        "# Create a Stacked Bi-directional LSTM.\n",
        "def model_bilstm():\n",
        "    model = Sequential()\n",
        "    model.add(\n",
        "        Bidirectional(\n",
        "            LSTM(200, activation=\"tanh\", return_sequences=True),\n",
        "            input_shape=(X_train.shape[1], 1),\n",
        "        )\n",
        "    )\n",
        "    model.add(LayerNormalization())\n",
        "    model.add(LSTM(100))\n",
        "    model.add(Dropout(0.25))\n",
        "    model.add(LayerNormalization())\n",
        "    model.add(Dense(7))\n",
        "    # Fit the Model.\n",
        "    model.compile(optimizer=\"adam\", loss=\"mse\", metrics=[\"accuracy\"])\n",
        "    return model"
      ]
    },
    {
      "cell_type": "code",
      "execution_count": null,
      "metadata": {
        "id": "F9UE_2nyXmJ5"
      },
      "outputs": [],
      "source": [
        "# Call the LSTM Model.\n",
        "lstm = model_lstm()\n",
        "\n",
        "# Model Summary.\n",
        "print(lstm.summary())"
      ]
    },
    {
      "cell_type": "code",
      "execution_count": null,
      "metadata": {
        "id": "2-9O349f6vEg"
      },
      "outputs": [],
      "source": [
        "from tensorflow.keras.callbacks import EarlyStopping, ModelCheckpoint, ReduceLROnPlateau\n",
        "\n",
        "callbacks = [\n",
        "    EarlyStopping(patience=20, verbose=1),\n",
        "    ReduceLROnPlateau(factor=0.1, patience=20, min_lr=0.00001, verbose=1),\n",
        "    ModelCheckpoint(\"lstm.h5\", verbose=1, save_best_only=True),\n",
        "]\n",
        "\n",
        "# Fit the Model.\n",
        "history_lstm = lstm.fit(\n",
        "    X_train,\n",
        "    y_train,\n",
        "    epochs=100,\n",
        "    validation_data=(X_valid, y_valid),\n",
        "    batch_size=32,\n",
        "    callbacks=callbacks,\n",
        ")"
      ]
    },
    {
      "cell_type": "code",
      "execution_count": null,
      "metadata": {
        "colab": {
          "base_uri": "https://localhost:8080/",
          "height": 299
        },
        "id": "vbD5p7TxY85Q",
        "outputId": "0e8ea378-7cc1-4828-9562-a9b41a7f5914"
      },
      "outputs": [
        {
          "data": {
            "image/png": "[encoded data removed]",
            "text/plain": [
              "<Figure size 432x288 with 1 Axes>"
            ]
          },
          "metadata": {},
          "output_type": "display_data"
        }
      ],
      "source": [
        "# Plot Training and Validation Loss.\n",
        "loss = history_lstm.history[\"loss\"]\n",
        "val_loss = history_lstm.history[\"val_loss\"]\n",
        "epochs = len(loss)\n",
        "plt.plot(np.arange(epochs), loss, label=\"Training Loss\")\n",
        "plt.plot(np.arange(epochs), val_loss, \"g\", label=\"Validation Loss\")\n",
        "plt.title(\"Uni-directional LSTM\")\n",
        "plt.legend()\n",
        "plt.show()"
      ]
    },
    {
      "cell_type": "code",
      "execution_count": null,
      "metadata": {
        "id": "QQaDYdi8a1_v"
      },
      "outputs": [],
      "source": [
        "# Load Model.\n",
        "lstm = keras.models.load_model(\"lstm.h5\")\n",
        "lstm.summary()"
      ]
    },
    {
      "cell_type": "code",
      "execution_count": null,
      "metadata": {
        "id": "06PVSlTXdLAC"
      },
      "outputs": [],
      "source": [
        "# Call the Bidirectional LSTM Model.\n",
        "bi_lstm = model_bilstm()\n",
        "\n",
        "# Model Summary.\n",
        "print(bi_lstm.summary())"
      ]
    },
    {
      "cell_type": "code",
      "execution_count": null,
      "metadata": {
        "id": "Zl5tFodmdXHQ"
      },
      "outputs": [],
      "source": [
        "from keras.callbacks import EarlyStopping, ModelCheckpoint, ReduceLROnPlateau\n",
        "\n",
        "callbacks = [\n",
        "    EarlyStopping(patience=20, verbose=1),\n",
        "    ReduceLROnPlateau(factor=0.1, patience=20, min_lr=0.00001, verbose=1),\n",
        "    ModelCheckpoint(\"bi_lstm.h5\", verbose=1, save_best_only=True),\n",
        "]\n",
        "\n",
        "# Fit the Model.\n",
        "history_bilstm = bi_lstm.fit(\n",
        "    X_train,\n",
        "    y_train,\n",
        "    epochs=100,\n",
        "    validation_data=(X_valid, y_valid),\n",
        "    batch_size=32,\n",
        "    callbacks=callbacks,\n",
        ")"
      ]
    },
    {
      "cell_type": "code",
      "execution_count": null,
      "metadata": {
        "colab": {
          "base_uri": "https://localhost:8080/",
          "height": 299
        },
        "id": "HvrORiRveEpq",
        "outputId": "1aba73f9-5e8f-4a26-e308-600c92d98d1a"
      },
      "outputs": [
        {
          "data": {
            "image/png": "[encoded data removed]",
            "text/plain": [
              "<Figure size 432x288 with 1 Axes>"
            ]
          },
          "metadata": {},
          "output_type": "display_data"
        }
      ],
      "source": [
        "# Plot Training and Validation Loss.\n",
        "loss = history_bilstm.history[\"loss\"]\n",
        "val_loss = history_bilstm.history[\"val_loss\"]\n",
        "epochs = len(loss)\n",
        "plt.plot(np.arange(epochs), loss, label=\"Training Loss\")\n",
        "plt.plot(np.arange(epochs), val_loss, \"g\", label=\"Validation Loss\")\n",
        "plt.title(\"Bi-directional LSTM\")\n",
        "plt.legend()\n",
        "plt.show()"
      ]
    },
    {
      "cell_type": "code",
      "execution_count": null,
      "metadata": {
        "id": "_wYBdufeeSlw"
      },
      "outputs": [],
      "source": [
        "# Load Model.\n",
        "bi_lstm = keras.models.load_model(\"bi_lstm.h5\")\n",
        "bi_lstm.summary()"
      ]
    },
    {
      "cell_type": "markdown",
      "metadata": {
        "id": "INFOrt9UB6C_"
      },
      "source": [
        "### **Prepare the Test Dataset for Prediction Result.**"
      ]
    },
    {
      "cell_type": "code",
      "execution_count": null,
      "metadata": {
        "colab": {
          "base_uri": "https://localhost:8080/"
        },
        "id": "LVcgRrKcB-jl",
        "outputId": "663975ba-848a-4e23-ea3e-8d2c2a4b74bd"
      },
      "outputs": [
        {
          "name": "stdout",
          "output_type": "stream",
          "text": [
            "(302, 21, 1) (302, 7)\n"
          ]
        }
      ],
      "source": [
        "X_test, y_test = [], []\n",
        "\n",
        "for i in range(21, len(data_test) - 7):\n",
        "    X_test.append(data_test[i - 21 : i])\n",
        "    y_test.append(data_test[i : i + 7])\n",
        "\n",
        "X_test, y_test = np.array(X_test), np.array(y_test)\n",
        "\n",
        "# Feature Scaling.\n",
        "X_test = scaler_x.transform(X_test)\n",
        "\n",
        "# Convert the Test Data into LSTM format.\n",
        "X_test = X_test.reshape(X_test.shape[0], X_test.shape[1], 1)\n",
        "\n",
        "print(X_test.shape, y_test.shape)\n",
        "\n",
        "# Prediction on the Test Set.\n",
        "y_pred_uni = scaler_y.inverse_transform(lstm.predict((X_test)))\n",
        "y_pred_bi = scaler_y.inverse_transform(bi_lstm.predict((X_test)))"
      ]
    },
    {
      "cell_type": "code",
      "execution_count": null,
      "metadata": {
        "id": "nUIq4jJWIOQB"
      },
      "outputs": [],
      "source": [
        "# Plot the Prediction Result.\n",
        "fig, ax = plt.subplots(figsize=(16, 8))\n",
        "plt.plot(y_test[:, 1])\n",
        "plt.plot(y_pred_uni[:, 1])\n",
        "plt.title(\"Uni-directional LSTM\")\n",
        "plt.show()"
      ]
    },
    {
      "cell_type": "code",
      "execution_count": null,
      "metadata": {
        "id": "Dn-E53Y9IIn1"
      },
      "outputs": [],
      "source": [
        "# Plot the Prediction Result.\n",
        "fig, ax = plt.subplots(figsize=(16, 8))\n",
        "plt.plot(y_test[:, 1])\n",
        "plt.plot(y_pred_bi[:, 1])\n",
        "plt.title(\"Bi-directional LSTM\")\n",
        "plt.show()"
      ]
    },
    {
      "cell_type": "markdown",
      "metadata": {
        "id": "cnWdJdE4JTGp"
      },
      "source": [
        "### **Model Performance.**"
      ]
    },
    {
      "cell_type": "code",
      "execution_count": null,
      "metadata": {
        "colab": {
          "base_uri": "https://localhost:8080/"
        },
        "id": "jGjpe1fsJECZ",
        "outputId": "92770af7-b686-4cce-a359-a3ff44cd7d21"
      },
      "outputs": [
        {
          "name": "stdout",
          "output_type": "stream",
          "text": [
            "RMSE in Uni-directional Stacked LSTM: 377.36100466384534\n",
            "RMSE in Bi-directional Stacked LSTM: 377.36100466384534\n",
            "Standard Deviation of Actual Values: 473.3168314954531\n"
          ]
        }
      ],
      "source": [
        "from sklearn import metrics\n",
        "\n",
        "\n",
        "def evaluate_performace(y_true, y_pred):\n",
        "    scores = []\n",
        "    # Calculate Scores per day.\n",
        "    for i in range(y_true.shape[1]):\n",
        "        mse = metrics.mean_squared_error(y_true[:, 1], y_pred[:, 1])\n",
        "        rmse = np.sqrt(mse)\n",
        "        scores.append(rmse)\n",
        "\n",
        "    # Calculate the Score for the entire prediction.\n",
        "    total_score = 0\n",
        "    for row in range(y_true.shape[0]):\n",
        "        for col in range(y_pred.shape[1]):\n",
        "            total_score = total_score + (y_true[row, col] - y_pred[row, col]) ** 2\n",
        "    total_score = np.sqrt(total_score / (y_true.shape[0] * y_pred.shape[1]))\n",
        "    return (total_score, scores)\n",
        "\n",
        "\n",
        "print(\"RMSE in Uni-directional Stacked LSTM:\", evaluate_performace(y_test, y_pred_bi)[0])\n",
        "print(\"RMSE in Bi-directional Stacked LSTM:\", evaluate_performace(y_test, y_pred_bi)[0])\n",
        "print(\"Standard Deviation of Actual Values:\", np.std(y_test[:, 0]))\n",
        "\n",
        "# Since the Standard Deviation of actual values is more than the RMSE value, we can say that both models are good."
      ]
    }
  ],
  "metadata": {
    "accelerator": "GPU",
    "colab": {
      "name": "Multivariate LSTM.ipynb",
      "provenance": []
    },
    "gpuClass": "standard",
    "kernelspec": {
      "display_name": "Python 3.10.5 ('MyVenv': venv)",
      "language": "python",
      "name": "python3"
    },
    "language_info": {
      "name": "python",
      "version": "3.10.5"
    },
    "vscode": {
      "interpreter": {
        "hash": "d0f32d21cbf5e0e6bd096f9d1f92dfc448e8bfd417c7697128b2a4e0c0cd030f"
      }
    }
  },
  "nbformat": 4,
  "nbformat_minor": 0
}