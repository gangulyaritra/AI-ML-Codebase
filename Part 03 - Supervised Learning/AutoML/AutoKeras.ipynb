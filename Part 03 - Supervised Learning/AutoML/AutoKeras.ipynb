{
  "nbformat": 4,
  "nbformat_minor": 0,
  "metadata": {
    "colab": {
      "name": "AutoKeras.ipynb",
      "provenance": []
    },
    "kernelspec": {
      "name": "python3",
      "display_name": "Python 3"
    },
    "language_info": {
      "name": "python"
    },
    "accelerator": "GPU"
  },
  "cells": [
    {
      "cell_type": "markdown",
      "source": [
        "![auto-keras.svg](https://autokeras.com/img/row_red.svg)\n",
        "\n",
        "> [AutoKeras: An AutoML system based on Keras.](https://autokeras.com/)"
      ],
      "metadata": {
        "id": "sXVmwq5_xKl9"
      }
    },
    {
      "cell_type": "code",
      "execution_count": null,
      "metadata": {
        "id": "VQ-couNKtzIO"
      },
      "outputs": [],
      "source": [
        "!pip install autokeras"
      ]
    },
    {
      "cell_type": "code",
      "source": [
        "# Import Library.\n",
        "import tensorflow as tf\n",
        "import autokeras as ak\n",
        "\n",
        "# Load Dataset.\n",
        "(X_train, y_train), (X_test, y_test) = tf.keras.datasets.mnist.load_data()\n",
        "print(X_train.shape, y_train.shape)\n",
        "\n",
        "# Initialize the Image Classifier.\n",
        "clf = ak.ImageClassifier(overwrite=True, max_trials=1)\n",
        "\n",
        "# Feed the Image Classifier with training data.\n",
        "history = clf.fit(X_train, y_train)"
      ],
      "metadata": {
        "id": "ht0VTmugt1BD"
      },
      "execution_count": null,
      "outputs": []
    },
    {
      "cell_type": "code",
      "source": [
        "# Evaluate the Best Model with test data.\n",
        "print(clf.evaluate(X_test, y_test))"
      ],
      "metadata": {
        "id": "kr4O6aLqv3on"
      },
      "execution_count": null,
      "outputs": []
    },
    {
      "cell_type": "code",
      "source": [
        "# Predict with the Best Model.\n",
        "y_pred = clf.predict(X_test[:6])\n",
        "print(y_pred)"
      ],
      "metadata": {
        "id": "Hn9RhzzBwL1J"
      },
      "execution_count": null,
      "outputs": []
    },
    {
      "cell_type": "code",
      "source": [
        "# Export Model.\n",
        "model = clf.export_model()\n",
        "model.summary()"
      ],
      "metadata": {
        "id": "SmWfxv27voYp"
      },
      "execution_count": null,
      "outputs": []
    }
  ]
}