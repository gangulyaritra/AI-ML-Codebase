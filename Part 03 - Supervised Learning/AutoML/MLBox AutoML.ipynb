{
 "nbformat": 4,
 "nbformat_minor": 0,
 "metadata": {
  "colab": {
   "name": "MLBox AutoML.ipynb",
   "provenance": []
  },
  "kernelspec": {
   "name": "python3",
   "display_name": "Python 3"
  },
  "language_info": {
   "name": "python"
  }
 },
 "cells": [
  {
   "cell_type": "markdown",
   "source": [
    "![image.png](https://mlbox.readthedocs.io/en/latest/_images/logo.png)\n",
    "\n",
    "> [MLBox's Official Documentation](https://mlbox.readthedocs.io/en/latest/#)\n",
    "\n",
    "> [MLBox GitHub](https://github.com/AxeldeRomblay/MLBox)\n",
    "\n",
    "> [Tutorial on MLBox](https://www.analyticsvidhya.com/blog/2017/07/mlbox-library-automated-machine-learning/)"
   ],
   "metadata": {
    "id": "b0A52WcuNANA"
   }
  },
  {
   "cell_type": "code",
   "execution_count": null,
   "metadata": {
    "id": "VS3D8NKXIatj"
   },
   "outputs": [],
   "source": [
    "!pip install mlbox"
   ]
  },
  {
   "cell_type": "code",
   "source": [
    "from mlbox.preprocessing import *\n",
    "from mlbox.optimisation import *\n",
    "from mlbox.prediction import *"
   ],
   "metadata": {
    "id": "qCxmuWk_IjLN"
   },
   "execution_count": 2,
   "outputs": []
  },
  {
   "cell_type": "markdown",
   "source": [
    "> [**Kaggle Dataset**](https://www.kaggle.com/c/house-prices-advanced-regression-techniques/overview)"
   ],
   "metadata": {
    "id": "-L59rVBgQRQQ"
   }
  },
  {
   "cell_type": "code",
   "source": [
    "# Load Dataset.\n",
    "target_name = \"SalePrice\"\n",
    "rd = Reader(sep=\",\")\n",
    "data = rd.train_test_split([\"train.csv\", \"test.csv\"], target_name)"
   ],
   "metadata": {
    "id": "UzgYfJR3IoLM"
   },
   "execution_count": null,
   "outputs": []
  },
  {
   "cell_type": "code",
   "source": [
    "data"
   ],
   "metadata": {
    "id": "kgFPgzdQJXFr"
   },
   "execution_count": null,
   "outputs": []
  },
  {
   "cell_type": "code",
   "source": [
    "# Checking for Dataset Drift: Remove features with high data drift.\n",
    "dft = Drift_thresholder()\n",
    "data = dft.fit_transform(data)"
   ],
   "metadata": {
    "id": "zwj6tXiCJbPj"
   },
   "execution_count": null,
   "outputs": []
  },
  {
   "cell_type": "code",
   "source": [
    "# Automating Hyperparameter Optimization.\n",
    "space = {\n",
    "    \"est__strategy\": {\"search\": \"choice\", \"space\": [\"LightGBM\"]},\n",
    "    \"est__n_estimators\": {\"search\": \"choice\", \"space\": [150]},\n",
    "    \"est__colsample_bytree\": {\"search\": \"uniform\", \"space\": [0.8, 0.95]},\n",
    "    \"est__subsample\": {\"search\": \"uniform\", \"space\": [0.8, 0.95]},\n",
    "    \"est__max_depth\": {\"search\": \"choice\", \"space\": [5, 6, 7, 8, 9]},\n",
    "    \"est__learning_rate\": {\"search\": \"choice\", \"space\": [0.07]},\n",
    "}\n",
    "\n",
    "params = Optimiser().optimise(space, data, 15)"
   ],
   "metadata": {
    "id": "02SYaI5BJ87q"
   },
   "execution_count": null,
   "outputs": []
  },
  {
   "cell_type": "code",
   "source": [
    "params"
   ],
   "metadata": {
    "id": "tMS1W08JJ9ny"
   },
   "execution_count": null,
   "outputs": []
  },
  {
   "cell_type": "code",
   "source": [
    "prd = Predictor()\n",
    "prd.fit_predict(params, data)"
   ],
   "metadata": {
    "id": "9reVp-0aJ_sh"
   },
   "execution_count": null,
   "outputs": []
  }
 ]
}