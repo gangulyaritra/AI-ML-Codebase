{
 "cells": [
  {
   "cell_type": "markdown",
   "metadata": {
    "id": "XybZZZa-NeS0"
   },
   "source": [
    "# **TPOT AutoML**\n",
    "***\n",
    "\n",
    "![TPOT AutoML](http://automl.info/wp-content/uploads/2017/07/tpot-pipeline-example-768x361.png)\n",
    "\n",
    "***\n",
    "\n",
    "> [TPOT AutoML - GitHub](https://github.com/EpistasisLab/tpot)\n",
    "\n",
    "> [TPOT AutoML - Blog](http://automl.info/tpot/)"
   ]
  },
  {
   "cell_type": "code",
   "execution_count": null,
   "metadata": {
    "id": "NbWAcIJfJaUj"
   },
   "outputs": [],
   "source": [
    "!pip install tpot"
   ]
  },
  {
   "cell_type": "code",
   "execution_count": 3,
   "metadata": {
    "id": "Zj3Z9whPJcHe"
   },
   "outputs": [],
   "source": [
    "# Import Library.\n",
    "from tpot import TPOTClassifier\n",
    "from sklearn.datasets import load_wine\n",
    "from sklearn.model_selection import train_test_split\n",
    "\n",
    "# Load Dataset.\n",
    "wine = load_wine()\n",
    "\n",
    "# Split Dataset into Train and Test Set.\n",
    "X_train, X_test, y_train, y_test = train_test_split(\n",
    "    wine.data, wine.target, train_size=0.75, test_size=0.25\n",
    ")"
   ]
  },
  {
   "cell_type": "markdown",
   "metadata": {
    "id": "Ukz0NOnrK23s"
   },
   "source": [
    "**Use the TPOT classifier to find the best model algorithm that fits the data. TPOT uses a genetic algorithm-based search internally.**"
   ]
  },
  {
   "cell_type": "code",
   "execution_count": null,
   "metadata": {
    "id": "_jw9bY56K2IG"
   },
   "outputs": [],
   "source": [
    "tpot = TPOTClassifier(generations=5, population_size=20, verbosity=3)\n",
    "tpot.fit(X_train, y_train)\n",
    "\n",
    "print(\"\\nTPOT Score =\", tpot.score(X_test, y_test))"
   ]
  },
  {
   "cell_type": "markdown",
   "metadata": {
    "id": "YnWvnDzJLk5c"
   },
   "source": [
    "**Export the scikit-learn code for the best classifier and display the code.**"
   ]
  },
  {
   "cell_type": "code",
   "execution_count": 5,
   "metadata": {
    "id": "2IWvr7gsLkLG"
   },
   "outputs": [],
   "source": [
    "tpot.export(\"tpot_wine_pipeline.py\")"
   ]
  },
  {
   "cell_type": "code",
   "execution_count": null,
   "metadata": {
    "id": "b1VsIALoL8vd"
   },
   "outputs": [],
   "source": [
    "!cat tpot_wine_pipeline.py"
   ]
  },
  {
   "cell_type": "markdown",
   "metadata": {
    "id": "3DeWLH1KMNzr"
   },
   "source": [
    "**Get details on the algorithm TPOT searched for and how they performed on the dataset.**"
   ]
  },
  {
   "cell_type": "code",
   "execution_count": null,
   "metadata": {
    "id": "fExJFtuLMNN5"
   },
   "outputs": [],
   "source": [
    "print(tpot.evaluated_individuals_)"
   ]
  },
  {
   "cell_type": "code",
   "execution_count": null,
   "metadata": {
    "id": "RbW5DozrMqD0"
   },
   "outputs": [],
   "source": [
    "print(tpot.fitted_pipeline_)"
   ]
  }
 ],
 "metadata": {
  "colab": {
   "name": "TPOT AutoML.ipynb",
   "provenance": []
  },
  "kernelspec": {
   "display_name": "Python 3",
   "name": "python3"
  },
  "language_info": {
   "name": "python"
  }
 },
 "nbformat": 4,
 "nbformat_minor": 0
}
