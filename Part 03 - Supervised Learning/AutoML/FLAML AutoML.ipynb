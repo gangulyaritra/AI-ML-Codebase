{
 "nbformat": 4,
 "nbformat_minor": 0,
 "metadata": {
  "colab": {
   "name": "FLAML AutoML.ipynb",
   "provenance": []
  },
  "kernelspec": {
   "name": "python3",
   "display_name": "Python 3"
  },
  "language_info": {
   "name": "python"
  }
 },
 "cells": [
  {
   "cell_type": "markdown",
   "metadata": {
    "id": "qyDtN1u7L_wS"
   },
   "source": [
    "# **FLAML: A Fast and Lightweight AutoML Library**\n",
    "\n",
    "![image.png](https://www.microsoft.com/en-us/research/uploads/prod/2020/02/flaml.png)\n",
    "\n",
    "> [FLAML API Documentation](https://microsoft.github.io/FLAML/)\n",
    "\n",
    "> [FLAML - Fast and Lightweight AutoML (GitHub)](https://github.com/microsoft/FLAML)"
   ]
  },
  {
   "cell_type": "code",
   "metadata": {
    "id": "NAO7IGtzMKHN"
   },
   "source": [
    "!pip install flaml"
   ],
   "execution_count": null,
   "outputs": []
  },
  {
   "cell_type": "code",
   "metadata": {
    "id": "kzvW2IWxNGdD"
   },
   "source": [
    "# Import Library.\n",
    "import seaborn as sns\n",
    "from sklearn.model_selection import train_test_split\n",
    "from sklearn.datasets import load_boston\n",
    "from flaml import AutoML\n",
    "import warnings\n",
    "\n",
    "warnings.filterwarnings(\"ignore\")\n",
    "\n",
    "# Load the Dataset.\n",
    "data = sns.load_dataset(\"iris\")\n",
    "\n",
    "# Split Dataset into Dependent and Independent Features.\n",
    "X = data.iloc[:, :4]\n",
    "y = data.iloc[:, -1]\n",
    "\n",
    "# Split Dataset into Training and Test Set.\n",
    "X_train, X_test, y_train, y_test = train_test_split(\n",
    "    X, y, test_size=0.1, random_state=1, stratify=y\n",
    ")"
   ],
   "execution_count": 8,
   "outputs": []
  },
  {
   "cell_type": "markdown",
   "metadata": {
    "id": "DlAv9mYLSQh3"
   },
   "source": [
    "### **Classification Problem** "
   ]
  },
  {
   "cell_type": "code",
   "metadata": {
    "id": "7VgPCGH_O4Fb"
   },
   "source": [
    "# Initialize an AutoML Instance.\n",
    "automl = AutoML()\n",
    "\n",
    "# Specify AutoML Goal and Constraints.\n",
    "automl_settings = {\n",
    "    \"time_budget\": 300,  # Time in Second(s).\n",
    "    \"metric\": \"accuracy\",\n",
    "    \"task\": \"classification\",\n",
    "    \"log_file_name\": \"data.log\",\n",
    "}\n",
    "\n",
    "# Train with Labeled Input Data.\n",
    "automl.fit(X_train=X_train, y_train=y_train, **automl_settings)\n",
    "\n",
    "# Predict.\n",
    "print(automl.predict(X_test))\n",
    "\n",
    "# Export the Best Model.\n",
    "print(automl.model)"
   ],
   "execution_count": null,
   "outputs": []
  },
  {
   "cell_type": "markdown",
   "metadata": {
    "id": "717A47j5VZet"
   },
   "source": [
    "### **Regression Problem**"
   ]
  },
  {
   "cell_type": "code",
   "metadata": {
    "id": "L9lGz6MpXQfN"
   },
   "source": [
    "# Initialize an AutoML Instance.\n",
    "automl = AutoML()\n",
    "\n",
    "# Specify AutoML Goal and Constraints.\n",
    "automl_settings = {\n",
    "    \"time_budget\": 300,  # Time in Second(s).\n",
    "    \"metric\": \"r2\",\n",
    "    \"task\": \"regression\",\n",
    "    \"log_file_name\": \"boston.log\",\n",
    "}\n",
    "\n",
    "X_train, y_train = load_boston(return_X_y=True)\n",
    "\n",
    "# Train with Labeled Input Data.\n",
    "automl.fit(X_train=X_train, y_train=y_train, **automl_settings)\n",
    "\n",
    "# Predict.\n",
    "print(automl.predict(X_train))\n",
    "\n",
    "# Export the Best Model.\n",
    "print(automl.model)"
   ],
   "execution_count": null,
   "outputs": []
  }
 ]
}