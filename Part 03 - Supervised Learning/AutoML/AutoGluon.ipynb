{
  "nbformat": 4,
  "nbformat_minor": 0,
  "metadata": {
    "colab": {
      "name": "AutoGluon.ipynb",
      "provenance": []
    },
    "kernelspec": {
      "name": "python3",
      "display_name": "Python 3"
    },
    "language_info": {
      "name": "python"
    }
  },
  "cells": [
    {
      "cell_type": "markdown",
      "metadata": {
        "id": "MxeMoOHvSsye"
      },
      "source": [
        "![image.png](https://auto.gluon.ai/stable/_static/AutogluonLogo.png)\n",
        "\n",
        "> [AutoGluon - Website](https://auto.gluon.ai/stable/index.html)\n",
        "\n",
        "> [AutoGluon - Github](https://github.com/awslabs/autogluon)\n"
      ]
    },
    {
      "cell_type": "code",
      "metadata": {
        "id": "-MJovvoPR4LG"
      },
      "source": [
        "!pip install --upgrade mxnet\n",
        "!pip install autogluon"
      ],
      "execution_count": null,
      "outputs": []
    },
    {
      "cell_type": "code",
      "metadata": {
        "id": "PGrMhS_hR-x2"
      },
      "source": [
        "import autogluon as ag\n",
        "from autogluon.tabular import TabularDataset, TabularPredictor\n",
        "\n",
        "train_data = TabularDataset(\"https://autogluon.s3.amazonaws.com/datasets/Inc/train.csv\")\n",
        "test_data = TabularDataset(\"https://autogluon.s3.amazonaws.com/datasets/Inc/test.csv\")\n",
        "\n",
        "print(train_data.head())"
      ],
      "execution_count": null,
      "outputs": []
    },
    {
      "cell_type": "code",
      "metadata": {
        "id": "fPH6ti5dSIIe"
      },
      "source": [
        "predictor = TabularPredictor(label=\"class\").fit(train_data)\n",
        "performance = predictor.evaluate(test_data)"
      ],
      "execution_count": null,
      "outputs": []
    },
    {
      "cell_type": "code",
      "metadata": {
        "id": "G64812_BSPWe"
      },
      "source": [
        "predictor.leaderboard(test_data)"
      ],
      "execution_count": null,
      "outputs": []
    },
    {
      "cell_type": "code",
      "metadata": {
        "id": "N_qDIJpUSTXV"
      },
      "source": [
        "predictor.fit_summary()"
      ],
      "execution_count": null,
      "outputs": []
    }
  ]
}