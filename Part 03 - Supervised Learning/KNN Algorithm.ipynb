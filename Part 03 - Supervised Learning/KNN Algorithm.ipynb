{
 "nbformat": 4,
 "nbformat_minor": 0,
 "metadata": {
  "colab": {
   "name": "KNN Algorithm.ipynb",
   "provenance": [],
   "collapsed_sections": [],
   "machine_shape": "hm"
  },
  "kernelspec": {
   "name": "python3",
   "display_name": "Python 3"
  }
 },
 "cells": [
  {
   "cell_type": "markdown",
   "metadata": {
    "id": "0MRC0e0KhQ0S"
   },
   "source": [
    "# **K-Nearest Neighbors (KNN)**\n",
    "\n",
    "[**Nearest Neighbors**](https://scikit-learn.org/stable/modules/neighbors.html)\n",
    "\n",
    "[**sklearn.neighbors.KNeighborsClassifier**](https://scikit-learn.org/stable/modules/generated/sklearn.neighbors.KNeighborsClassifier.html#sklearn.neighbors.KNeighborsClassifier)\n"
   ]
  },
  {
   "cell_type": "code",
   "metadata": {
    "id": "YvGPUQaHhXfL",
    "colab": {
     "base_uri": "https://localhost:8080/"
    },
    "outputId": "b6ff6b88-d715-4113-938f-a9b394c2ef96"
   },
   "source": [
    "# Import Library.\n",
    "import pandas as pd\n",
    "import numpy as np\n",
    "import matplotlib.pyplot as plt\n",
    "from sklearn.preprocessing import StandardScaler\n",
    "from sklearn.model_selection import train_test_split\n",
    "from sklearn.neighbors import KNeighborsClassifier\n",
    "from sklearn.metrics import classification_report, confusion_matrix, accuracy_score\n",
    "\n",
    "# Import Dataset.\n",
    "\"\"\" https://www.kaggle.com/datasets/d4rklucif3r/social-network-ads \"\"\"\n",
    "dataset = pd.read_csv(\"Social_Network_Ads.csv\")\n",
    "print(dataset.head())\n",
    "\n",
    "# Split the dataset into features and target values.\n",
    "X = dataset.iloc[:, :-1].values\n",
    "y = dataset.iloc[:, -1].values\n",
    "\n",
    "# Feature Scaling.\n",
    "sc = StandardScaler()\n",
    "X = sc.fit_transform(X)\n",
    "\n",
    "# Split the dataset into training and test set.\n",
    "X_train, X_test, y_train, y_test = train_test_split(\n",
    "    X, y, test_size=0.2, random_state=42\n",
    ")\n",
    "\n",
    "# Training the KNN Model.\n",
    "clf = KNeighborsClassifier(n_neighbors=5, metric=\"minkowski\", p=2).fit(X_train, y_train)\n",
    "\n",
    "# Predicting Test set Results.\n",
    "y_pred = clf.predict(X_test)\n",
    "\n",
    "# Predicting New Results.\n",
    "print(\"Prediction of New Result is \", clf.predict(sc.transform([[30, 87000]])))\n",
    "\n",
    "# Predictions and Evaluations.\n",
    "print(\"Confusion Matrix is \\n\", confusion_matrix(y_test, y_pred))\n",
    "\n",
    "print(classification_report(y_test, y_pred))"
   ],
   "execution_count": 1,
   "outputs": [
    {
     "output_type": "stream",
     "name": "stdout",
     "text": [
      "   Age  EstimatedSalary  Purchased\n",
      "0   19            19000          0\n",
      "1   35            20000          0\n",
      "2   26            43000          0\n",
      "3   27            57000          0\n",
      "4   19            76000          0\n",
      "Prediction of New Result is  [0]\n",
      "Confusion Matrix is \n",
      " [[48  4]\n",
      " [ 2 26]]\n",
      "              precision    recall  f1-score   support\n",
      "\n",
      "           0       0.96      0.92      0.94        52\n",
      "           1       0.87      0.93      0.90        28\n",
      "\n",
      "    accuracy                           0.93        80\n",
      "   macro avg       0.91      0.93      0.92        80\n",
      "weighted avg       0.93      0.93      0.93        80\n",
      "\n"
     ]
    }
   ]
  },
  {
   "cell_type": "markdown",
   "metadata": {
    "id": "sP7DgfQfxfAZ"
   },
   "source": [
    "# **Choosing a 'K' Value: Use the Elbow Method to pick a good 'K' Value.**\n",
    "\n",
    "> [**Elbow Method - Wikipedia**](https://en.wikipedia.org/wiki/Elbow_method_(clustering)\n",
    "\n",
    "> [**Elbow Method**](https://www.scikit-yb.org/en/latest/api/cluster/elbow.html)"
   ]
  },
  {
   "cell_type": "code",
   "metadata": {
    "colab": {
     "base_uri": "https://localhost:8080/",
     "height": 421
    },
    "id": "7uWVE-b0Cdd9",
    "outputId": "2c5dd4ac-aacb-4457-d1db-bbf15f81cfca"
   },
   "source": [
    "error_rate = []\n",
    "\n",
    "for i in range(1, 40):\n",
    "    knn = KNeighborsClassifier(n_neighbors=i).fit(X_train, y_train)\n",
    "    pred_i = knn.predict(X_test)\n",
    "    error_rate.append(np.mean(pred_i != y_test))\n",
    "\n",
    "plt.figure(figsize=(9, 6))\n",
    "plt.plot(\n",
    "    range(1, 40),\n",
    "    error_rate,\n",
    "    color=\"blue\",\n",
    "    linestyle=\"dashed\",\n",
    "    marker=\"o\",\n",
    "    markerfacecolor=\"red\",\n",
    "    markersize=10,\n",
    ")\n",
    "plt.title(\"Error Rate vs. K Value\")\n",
    "plt.xlabel(\"K Value\")\n",
    "plt.ylabel(\"Error Rate\")"
   ],
   "execution_count": 2,
   "outputs": [
    {
     "output_type": "execute_result",
     "data": {
      "text/plain": [
       "Text(0, 0.5, 'Error Rate')"
      ]
     },
     "metadata": {},
     "execution_count": 2
    },
    {
     "output_type": "display_data",
     "data": {
      "text/plain": [
       "<Figure size 648x432 with 1 Axes>"
      ],
      "image/png": "[encoded data removed]"
     },
     "metadata": {
      "needs_background": "light"
     }
    }
   ]
  },
  {
   "cell_type": "markdown",
   "metadata": {
    "id": "1wdNdxLzdp5y"
   },
   "source": [
    "Here we can see that when the $K$ value lies between 20 to 25, the error rate just tends to hover around 0.04-0.03 (i.e., the minimum). Let's retrain the model with that and check the classification report!"
   ]
  }
 ]
}