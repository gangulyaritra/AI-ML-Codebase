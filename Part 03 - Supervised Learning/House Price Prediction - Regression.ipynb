{
  "nbformat": 4,
  "nbformat_minor": 0,
  "metadata": {
    "colab": {
      "name": "House Price Prediction - Regression.ipynb",
      "provenance": []
    },
    "kernelspec": {
      "name": "python3",
      "display_name": "Python 3"
    },
    "language_info": {
      "name": "python"
    }
  },
  "cells": [
    {
      "cell_type": "markdown",
      "source": [
        "# **Bengaluru House Price Prediction**\n",
        "\n",
        "Data Science Regression Project - Predicting Home Prices in Bangalore.\n",
        "\n",
        "> [Kaggle Dataset](https://www.kaggle.com/datasets/amitabhajoy/bengaluru-house-price-data)"
      ],
      "metadata": {
        "id": "3xGBn-NxBZHt"
      }
    },
    {
      "cell_type": "code",
      "execution_count": null,
      "metadata": {
        "id": "eYxRHT93APum"
      },
      "outputs": [],
      "source": [
        "# Install Kaggle.\n",
        "!pip install --upgrade --force-reinstall --no-deps kaggle"
      ]
    },
    {
      "cell_type": "code",
      "source": [
        "# Files Upload.\n",
        "from google.colab import files\n",
        "\n",
        "files.upload()"
      ],
      "metadata": {
        "id": "r9GqRMwNA5vX"
      },
      "execution_count": null,
      "outputs": []
    },
    {
      "cell_type": "code",
      "source": [
        "# Create a Kaggle Folder.\n",
        "!mkdir ~/.kaggle\n",
        "\n",
        "# Copy the kaggle.json to the folder created.\n",
        "!cp kaggle.json ~/.kaggle/\n",
        "\n",
        "# Permission for the json file to act.\n",
        "!chmod 600 ~/.kaggle/kaggle.json"
      ],
      "metadata": {
        "id": "B_fnw4UmA849"
      },
      "execution_count": null,
      "outputs": []
    },
    {
      "cell_type": "code",
      "source": [
        "# Dataset Download.\n",
        "!kaggle datasets download -d amitabhajoy/bengaluru-house-price-data"
      ],
      "metadata": {
        "id": "PI7qlnUiA_NG"
      },
      "execution_count": null,
      "outputs": []
    },
    {
      "cell_type": "code",
      "source": [
        "# Unzip Dataset.\n",
        "!unzip bengaluru-house-price-data.zip"
      ],
      "metadata": {
        "id": "MOyJGL0eBBqd"
      },
      "execution_count": null,
      "outputs": []
    },
    {
      "cell_type": "markdown",
      "source": [
        "# **References**\n",
        "\n",
        "> [**Real Estate Price Prediction Project - YouTube Tutorial**\n",
        "](https://www.youtube.com/watch?v=rdfbcdP75KI&list=PLeo1K3hjS3uu7clOTtwsp94PcHbzqpAdg)"
      ],
      "metadata": {
        "id": "KIyWyqoxImNk"
      }
    },
    {
      "cell_type": "code",
      "source": [
        "# Import Library.\n",
        "import pandas as pd\n",
        "import numpy as np\n",
        "\n",
        "# Load Dataset.\n",
        "data = pd.read_csv(\"Bengaluru_House_Data.csv\")\n",
        "data.head()"
      ],
      "metadata": {
        "id": "dfKpTiAECdWW",
        "colab": {
          "base_uri": "https://localhost:8080/",
          "height": 206
        },
        "outputId": "29c481d1-b49b-4ed0-ba77-6f4a5f579be4"
      },
      "execution_count": null,
      "outputs": [
        {
          "output_type": "execute_result",
          "data": {
            "text/plain": [
              "              area_type   availability                  location       size  \\\n",
              "0  Super built-up  Area         19-Dec  Electronic City Phase II      2 BHK   \n",
              "1            Plot  Area  Ready To Move          Chikka Tirupathi  4 Bedroom   \n",
              "2        Built-up  Area  Ready To Move               Uttarahalli      3 BHK   \n",
              "3  Super built-up  Area  Ready To Move        Lingadheeranahalli      3 BHK   \n",
              "4  Super built-up  Area  Ready To Move                  Kothanur      2 BHK   \n",
              "\n",
              "   society total_sqft  bath  balcony   price  \n",
              "0  Coomee        1056   2.0      1.0   39.07  \n",
              "1  Theanmp       2600   5.0      3.0  120.00  \n",
              "2      NaN       1440   2.0      3.0   62.00  \n",
              "3  Soiewre       1521   3.0      1.0   95.00  \n",
              "4      NaN       1200   2.0      1.0   51.00  "
            ],
            "text/html": [
              "\n",
              "  <div id=\"df-b3b24357-9e9f-4ae7-9422-d578ef51dc19\">\n",
              "    <div class=\"colab-df-container\">\n",
              "      <div>\n",
              "<style scoped>\n",
              "    .dataframe tbody tr th:only-of-type {\n",
              "        vertical-align: middle;\n",
              "    }\n",
              "\n",
              "    .dataframe tbody tr th {\n",
              "        vertical-align: top;\n",
              "    }\n",
              "\n",
              "    .dataframe thead th {\n",
              "        text-align: right;\n",
              "    }\n",
              "</style>\n",
              "<table border=\"1\" class=\"dataframe\">\n",
              "  <thead>\n",
              "    <tr style=\"text-align: right;\">\n",
              "      <th></th>\n",
              "      <th>area_type</th>\n",
              "      <th>availability</th>\n",
              "      <th>location</th>\n",
              "      <th>size</th>\n",
              "      <th>society</th>\n",
              "      <th>total_sqft</th>\n",
              "      <th>bath</th>\n",
              "      <th>balcony</th>\n",
              "      <th>price</th>\n",
              "    </tr>\n",
              "  </thead>\n",
              "  <tbody>\n",
              "    <tr>\n",
              "      <th>0</th>\n",
              "      <td>Super built-up  Area</td>\n",
              "      <td>19-Dec</td>\n",
              "      <td>Electronic City Phase II</td>\n",
              "      <td>2 BHK</td>\n",
              "      <td>Coomee</td>\n",
              "      <td>1056</td>\n",
              "      <td>2.0</td>\n",
              "      <td>1.0</td>\n",
              "      <td>39.07</td>\n",
              "    </tr>\n",
              "    <tr>\n",
              "      <th>1</th>\n",
              "      <td>Plot  Area</td>\n",
              "      <td>Ready To Move</td>\n",
              "      <td>Chikka Tirupathi</td>\n",
              "      <td>4 Bedroom</td>\n",
              "      <td>Theanmp</td>\n",
              "      <td>2600</td>\n",
              "      <td>5.0</td>\n",
              "      <td>3.0</td>\n",
              "      <td>120.00</td>\n",
              "    </tr>\n",
              "    <tr>\n",
              "      <th>2</th>\n",
              "      <td>Built-up  Area</td>\n",
              "      <td>Ready To Move</td>\n",
              "      <td>Uttarahalli</td>\n",
              "      <td>3 BHK</td>\n",
              "      <td>NaN</td>\n",
              "      <td>1440</td>\n",
              "      <td>2.0</td>\n",
              "      <td>3.0</td>\n",
              "      <td>62.00</td>\n",
              "    </tr>\n",
              "    <tr>\n",
              "      <th>3</th>\n",
              "      <td>Super built-up  Area</td>\n",
              "      <td>Ready To Move</td>\n",
              "      <td>Lingadheeranahalli</td>\n",
              "      <td>3 BHK</td>\n",
              "      <td>Soiewre</td>\n",
              "      <td>1521</td>\n",
              "      <td>3.0</td>\n",
              "      <td>1.0</td>\n",
              "      <td>95.00</td>\n",
              "    </tr>\n",
              "    <tr>\n",
              "      <th>4</th>\n",
              "      <td>Super built-up  Area</td>\n",
              "      <td>Ready To Move</td>\n",
              "      <td>Kothanur</td>\n",
              "      <td>2 BHK</td>\n",
              "      <td>NaN</td>\n",
              "      <td>1200</td>\n",
              "      <td>2.0</td>\n",
              "      <td>1.0</td>\n",
              "      <td>51.00</td>\n",
              "    </tr>\n",
              "  </tbody>\n",
              "</table>\n",
              "</div>\n",
              "      <button class=\"colab-df-convert\" onclick=\"convertToInteractive('df-b3b24357-9e9f-4ae7-9422-d578ef51dc19')\"\n",
              "              title=\"Convert this dataframe to an interactive table.\"\n",
              "              style=\"display:none;\">\n",
              "        \n",
              "  <svg xmlns=\"http://www.w3.org/2000/svg\" height=\"24px\"viewBox=\"0 0 24 24\"\n",
              "       width=\"24px\">\n",
              "    <path d=\"M0 0h24v24H0V0z\" fill=\"none\"/>\n",
              "    <path d=\"M18.56 5.44l.94 2.06.94-2.06 2.06-.94-2.06-.94-.94-2.06-.94 2.06-2.06.94zm-11 1L8.5 8.5l.94-2.06 2.06-.94-2.06-.94L8.5 2.5l-.94 2.06-2.06.94zm10 10l.94 2.06.94-2.06 2.06-.94-2.06-.94-.94-2.06-.94 2.06-2.06.94z\"/><path d=\"M17.41 7.96l-1.37-1.37c-.4-.4-.92-.59-1.43-.59-.52 0-1.04.2-1.43.59L10.3 9.45l-7.72 7.72c-.78.78-.78 2.05 0 2.83L4 21.41c.39.39.9.59 1.41.59.51 0 1.02-.2 1.41-.59l7.78-7.78 2.81-2.81c.8-.78.8-2.07 0-2.86zM5.41 20L4 18.59l7.72-7.72 1.47 1.35L5.41 20z\"/>\n",
              "  </svg>\n",
              "      </button>\n",
              "      \n",
              "  <style>\n",
              "    .colab-df-container {\n",
              "      display:flex;\n",
              "      flex-wrap:wrap;\n",
              "      gap: 12px;\n",
              "    }\n",
              "\n",
              "    .colab-df-convert {\n",
              "      background-color: #E8F0FE;\n",
              "      border: none;\n",
              "      border-radius: 50%;\n",
              "      cursor: pointer;\n",
              "      display: none;\n",
              "      fill: #1967D2;\n",
              "      height: 32px;\n",
              "      padding: 0 0 0 0;\n",
              "      width: 32px;\n",
              "    }\n",
              "\n",
              "    .colab-df-convert:hover {\n",
              "      background-color: #E2EBFA;\n",
              "      box-shadow: 0px 1px 2px rgba(60, 64, 67, 0.3), 0px 1px 3px 1px rgba(60, 64, 67, 0.15);\n",
              "      fill: #174EA6;\n",
              "    }\n",
              "\n",
              "    [theme=dark] .colab-df-convert {\n",
              "      background-color: #3B4455;\n",
              "      fill: #D2E3FC;\n",
              "    }\n",
              "\n",
              "    [theme=dark] .colab-df-convert:hover {\n",
              "      background-color: #434B5C;\n",
              "      box-shadow: 0px 1px 3px 1px rgba(0, 0, 0, 0.15);\n",
              "      filter: drop-shadow(0px 1px 2px rgba(0, 0, 0, 0.3));\n",
              "      fill: #FFFFFF;\n",
              "    }\n",
              "  </style>\n",
              "\n",
              "      <script>\n",
              "        const buttonEl =\n",
              "          document.querySelector('#df-b3b24357-9e9f-4ae7-9422-d578ef51dc19 button.colab-df-convert');\n",
              "        buttonEl.style.display =\n",
              "          google.colab.kernel.accessAllowed ? 'block' : 'none';\n",
              "\n",
              "        async function convertToInteractive(key) {\n",
              "          const element = document.querySelector('#df-b3b24357-9e9f-4ae7-9422-d578ef51dc19');\n",
              "          const dataTable =\n",
              "            await google.colab.kernel.invokeFunction('convertToInteractive',\n",
              "                                                     [key], {});\n",
              "          if (!dataTable) return;\n",
              "\n",
              "          const docLinkHtml = 'Like what you see? Visit the ' +\n",
              "            '<a target=\"_blank\" href=https://colab.research.google.com/notebooks/data_table.ipynb>data table notebook</a>'\n",
              "            + ' to learn more about interactive tables.';\n",
              "          element.innerHTML = '';\n",
              "          dataTable['output_type'] = 'display_data';\n",
              "          await google.colab.output.renderOutput(dataTable, element);\n",
              "          const docLink = document.createElement('div');\n",
              "          docLink.innerHTML = docLinkHtml;\n",
              "          element.appendChild(docLink);\n",
              "        }\n",
              "      </script>\n",
              "    </div>\n",
              "  </div>\n",
              "  "
            ]
          },
          "metadata": {},
          "execution_count": 6
        }
      ]
    },
    {
      "cell_type": "code",
      "source": [
        "# Shape of the Dataset.\n",
        "print(\"Dataset Shape is\", data.shape)"
      ],
      "metadata": {
        "id": "LP97TBwkCdcO",
        "colab": {
          "base_uri": "https://localhost:8080/"
        },
        "outputId": "16ca41de-16ad-473c-822d-b842531786a2"
      },
      "execution_count": null,
      "outputs": [
        {
          "output_type": "stream",
          "name": "stdout",
          "text": [
            "Dataset Shape is (13320, 9)\n"
          ]
        }
      ]
    },
    {
      "cell_type": "code",
      "source": [
        "# Drop Un-important Features.\n",
        "data = data.drop([\"area_type\", \"availability\", \"society\", \"balcony\"], axis=\"columns\")\n",
        "\n",
        "# Remove data with Missing Values.\n",
        "data = data.dropna()\n",
        "\n",
        "# Convert the \"size\" feature into a set of integer values.\n",
        "data[\"size\"] = data[\"size\"].apply(lambda x: int(x.split(\" \")[0]))\n",
        "\n",
        "# Convert the \"bath\" feature into a set of integer values.\n",
        "data[\"bath\"] = data[\"bath\"].astype(\"int\")\n",
        "\n",
        "# Strip extra spaces from \"location\" features.\n",
        "data[\"location\"] = data[\"location\"].apply(lambda x: x.strip())"
      ],
      "metadata": {
        "id": "92Zj1A1vEQzQ"
      },
      "execution_count": null,
      "outputs": []
    },
    {
      "cell_type": "code",
      "source": [
        "print(data.info())"
      ],
      "metadata": {
        "id": "mbp-DmjLKJ7O",
        "colab": {
          "base_uri": "https://localhost:8080/"
        },
        "outputId": "5db66cb0-4d3a-40c4-9177-6b777a769d28"
      },
      "execution_count": null,
      "outputs": [
        {
          "output_type": "stream",
          "name": "stdout",
          "text": [
            "<class 'pandas.core.frame.DataFrame'>\n",
            "Int64Index: 13246 entries, 0 to 13319\n",
            "Data columns (total 5 columns):\n",
            " #   Column      Non-Null Count  Dtype  \n",
            "---  ------      --------------  -----  \n",
            " 0   location    13246 non-null  object \n",
            " 1   size        13246 non-null  int64  \n",
            " 2   total_sqft  13246 non-null  object \n",
            " 3   bath        13246 non-null  int64  \n",
            " 4   price       13246 non-null  float64\n",
            "dtypes: float64(1), int64(2), object(2)\n",
            "memory usage: 620.9+ KB\n",
            "None\n"
          ]
        }
      ]
    },
    {
      "cell_type": "code",
      "source": [
        "# Explore the \"total_sqft\" feature.\n",
        "def is_float(x):\n",
        "    try:\n",
        "        float(x)\n",
        "    except:\n",
        "        return False\n",
        "    return True\n",
        "\n",
        "\n",
        "data[~data[\"total_sqft\"].apply(is_float)].head(10)"
      ],
      "metadata": {
        "id": "rVN4AZEfJV_F",
        "colab": {
          "base_uri": "https://localhost:8080/",
          "height": 363
        },
        "outputId": "41878048-033e-45b6-c73f-7d4f18329131"
      },
      "execution_count": null,
      "outputs": [
        {
          "output_type": "execute_result",
          "data": {
            "text/plain": [
              "               location  size      total_sqft  bath    price\n",
              "30            Yelahanka     4     2100 - 2850     4  186.000\n",
              "122              Hebbal     4     3067 - 8156     4  477.000\n",
              "137  8th Phase JP Nagar     2     1042 - 1105     2   54.005\n",
              "165            Sarjapur     2     1145 - 1340     2   43.490\n",
              "188            KR Puram     2     1015 - 1540     2   56.800\n",
              "410             Kengeri     1  34.46Sq. Meter     1   18.500\n",
              "549         Hennur Road     2     1195 - 1440     2   63.770\n",
              "648             Arekere     9       4125Perch     9  265.000\n",
              "661           Yelahanka     2     1120 - 1145     2   48.130\n",
              "672        Bettahalsoor     4     3090 - 5002     4  445.000"
            ],
            "text/html": [
              "\n",
              "  <div id=\"df-92bfa2f1-2d2d-4833-842b-f13127a85763\">\n",
              "    <div class=\"colab-df-container\">\n",
              "      <div>\n",
              "<style scoped>\n",
              "    .dataframe tbody tr th:only-of-type {\n",
              "        vertical-align: middle;\n",
              "    }\n",
              "\n",
              "    .dataframe tbody tr th {\n",
              "        vertical-align: top;\n",
              "    }\n",
              "\n",
              "    .dataframe thead th {\n",
              "        text-align: right;\n",
              "    }\n",
              "</style>\n",
              "<table border=\"1\" class=\"dataframe\">\n",
              "  <thead>\n",
              "    <tr style=\"text-align: right;\">\n",
              "      <th></th>\n",
              "      <th>location</th>\n",
              "      <th>size</th>\n",
              "      <th>total_sqft</th>\n",
              "      <th>bath</th>\n",
              "      <th>price</th>\n",
              "    </tr>\n",
              "  </thead>\n",
              "  <tbody>\n",
              "    <tr>\n",
              "      <th>30</th>\n",
              "      <td>Yelahanka</td>\n",
              "      <td>4</td>\n",
              "      <td>2100 - 2850</td>\n",
              "      <td>4</td>\n",
              "      <td>186.000</td>\n",
              "    </tr>\n",
              "    <tr>\n",
              "      <th>122</th>\n",
              "      <td>Hebbal</td>\n",
              "      <td>4</td>\n",
              "      <td>3067 - 8156</td>\n",
              "      <td>4</td>\n",
              "      <td>477.000</td>\n",
              "    </tr>\n",
              "    <tr>\n",
              "      <th>137</th>\n",
              "      <td>8th Phase JP Nagar</td>\n",
              "      <td>2</td>\n",
              "      <td>1042 - 1105</td>\n",
              "      <td>2</td>\n",
              "      <td>54.005</td>\n",
              "    </tr>\n",
              "    <tr>\n",
              "      <th>165</th>\n",
              "      <td>Sarjapur</td>\n",
              "      <td>2</td>\n",
              "      <td>1145 - 1340</td>\n",
              "      <td>2</td>\n",
              "      <td>43.490</td>\n",
              "    </tr>\n",
              "    <tr>\n",
              "      <th>188</th>\n",
              "      <td>KR Puram</td>\n",
              "      <td>2</td>\n",
              "      <td>1015 - 1540</td>\n",
              "      <td>2</td>\n",
              "      <td>56.800</td>\n",
              "    </tr>\n",
              "    <tr>\n",
              "      <th>410</th>\n",
              "      <td>Kengeri</td>\n",
              "      <td>1</td>\n",
              "      <td>34.46Sq. Meter</td>\n",
              "      <td>1</td>\n",
              "      <td>18.500</td>\n",
              "    </tr>\n",
              "    <tr>\n",
              "      <th>549</th>\n",
              "      <td>Hennur Road</td>\n",
              "      <td>2</td>\n",
              "      <td>1195 - 1440</td>\n",
              "      <td>2</td>\n",
              "      <td>63.770</td>\n",
              "    </tr>\n",
              "    <tr>\n",
              "      <th>648</th>\n",
              "      <td>Arekere</td>\n",
              "      <td>9</td>\n",
              "      <td>4125Perch</td>\n",
              "      <td>9</td>\n",
              "      <td>265.000</td>\n",
              "    </tr>\n",
              "    <tr>\n",
              "      <th>661</th>\n",
              "      <td>Yelahanka</td>\n",
              "      <td>2</td>\n",
              "      <td>1120 - 1145</td>\n",
              "      <td>2</td>\n",
              "      <td>48.130</td>\n",
              "    </tr>\n",
              "    <tr>\n",
              "      <th>672</th>\n",
              "      <td>Bettahalsoor</td>\n",
              "      <td>4</td>\n",
              "      <td>3090 - 5002</td>\n",
              "      <td>4</td>\n",
              "      <td>445.000</td>\n",
              "    </tr>\n",
              "  </tbody>\n",
              "</table>\n",
              "</div>\n",
              "      <button class=\"colab-df-convert\" onclick=\"convertToInteractive('df-92bfa2f1-2d2d-4833-842b-f13127a85763')\"\n",
              "              title=\"Convert this dataframe to an interactive table.\"\n",
              "              style=\"display:none;\">\n",
              "        \n",
              "  <svg xmlns=\"http://www.w3.org/2000/svg\" height=\"24px\"viewBox=\"0 0 24 24\"\n",
              "       width=\"24px\">\n",
              "    <path d=\"M0 0h24v24H0V0z\" fill=\"none\"/>\n",
              "    <path d=\"M18.56 5.44l.94 2.06.94-2.06 2.06-.94-2.06-.94-.94-2.06-.94 2.06-2.06.94zm-11 1L8.5 8.5l.94-2.06 2.06-.94-2.06-.94L8.5 2.5l-.94 2.06-2.06.94zm10 10l.94 2.06.94-2.06 2.06-.94-2.06-.94-.94-2.06-.94 2.06-2.06.94z\"/><path d=\"M17.41 7.96l-1.37-1.37c-.4-.4-.92-.59-1.43-.59-.52 0-1.04.2-1.43.59L10.3 9.45l-7.72 7.72c-.78.78-.78 2.05 0 2.83L4 21.41c.39.39.9.59 1.41.59.51 0 1.02-.2 1.41-.59l7.78-7.78 2.81-2.81c.8-.78.8-2.07 0-2.86zM5.41 20L4 18.59l7.72-7.72 1.47 1.35L5.41 20z\"/>\n",
              "  </svg>\n",
              "      </button>\n",
              "      \n",
              "  <style>\n",
              "    .colab-df-container {\n",
              "      display:flex;\n",
              "      flex-wrap:wrap;\n",
              "      gap: 12px;\n",
              "    }\n",
              "\n",
              "    .colab-df-convert {\n",
              "      background-color: #E8F0FE;\n",
              "      border: none;\n",
              "      border-radius: 50%;\n",
              "      cursor: pointer;\n",
              "      display: none;\n",
              "      fill: #1967D2;\n",
              "      height: 32px;\n",
              "      padding: 0 0 0 0;\n",
              "      width: 32px;\n",
              "    }\n",
              "\n",
              "    .colab-df-convert:hover {\n",
              "      background-color: #E2EBFA;\n",
              "      box-shadow: 0px 1px 2px rgba(60, 64, 67, 0.3), 0px 1px 3px 1px rgba(60, 64, 67, 0.15);\n",
              "      fill: #174EA6;\n",
              "    }\n",
              "\n",
              "    [theme=dark] .colab-df-convert {\n",
              "      background-color: #3B4455;\n",
              "      fill: #D2E3FC;\n",
              "    }\n",
              "\n",
              "    [theme=dark] .colab-df-convert:hover {\n",
              "      background-color: #434B5C;\n",
              "      box-shadow: 0px 1px 3px 1px rgba(0, 0, 0, 0.15);\n",
              "      filter: drop-shadow(0px 1px 2px rgba(0, 0, 0, 0.3));\n",
              "      fill: #FFFFFF;\n",
              "    }\n",
              "  </style>\n",
              "\n",
              "      <script>\n",
              "        const buttonEl =\n",
              "          document.querySelector('#df-92bfa2f1-2d2d-4833-842b-f13127a85763 button.colab-df-convert');\n",
              "        buttonEl.style.display =\n",
              "          google.colab.kernel.accessAllowed ? 'block' : 'none';\n",
              "\n",
              "        async function convertToInteractive(key) {\n",
              "          const element = document.querySelector('#df-92bfa2f1-2d2d-4833-842b-f13127a85763');\n",
              "          const dataTable =\n",
              "            await google.colab.kernel.invokeFunction('convertToInteractive',\n",
              "                                                     [key], {});\n",
              "          if (!dataTable) return;\n",
              "\n",
              "          const docLinkHtml = 'Like what you see? Visit the ' +\n",
              "            '<a target=\"_blank\" href=https://colab.research.google.com/notebooks/data_table.ipynb>data table notebook</a>'\n",
              "            + ' to learn more about interactive tables.';\n",
              "          element.innerHTML = '';\n",
              "          dataTable['output_type'] = 'display_data';\n",
              "          await google.colab.output.renderOutput(dataTable, element);\n",
              "          const docLink = document.createElement('div');\n",
              "          docLink.innerHTML = docLinkHtml;\n",
              "          element.appendChild(docLink);\n",
              "        }\n",
              "      </script>\n",
              "    </div>\n",
              "  </div>\n",
              "  "
            ]
          },
          "metadata": {},
          "execution_count": 10
        }
      ]
    },
    {
      "cell_type": "markdown",
      "source": [
        "The above data table shows that the \"**total_sqft**\" feature can also be a range (e.g., 2100 - 2850). In this case, take the average of the \"$min$\" and \"$max$\" values from the range. There are other cases like \"34.46Sq. Meter\" in which one can convert to square ft. using unit conversion. In this example, drop such corner cases for simplicity."
      ],
      "metadata": {
        "id": "nInrhTQ6LvOq"
      }
    },
    {
      "cell_type": "code",
      "source": [
        "def convert_sqft_to_num(x):\n",
        "    tokens = x.split(\"-\")\n",
        "    if len(tokens) == 2:\n",
        "        return (float(tokens[0]) + float(tokens[1])) / 2\n",
        "    try:\n",
        "        return float(x)\n",
        "    except:\n",
        "        return None\n",
        "\n",
        "\n",
        "data[\"total_sqft\"] = data[\"total_sqft\"].apply(convert_sqft_to_num)\n",
        "data = data[data[\"total_sqft\"].notnull()]"
      ],
      "metadata": {
        "id": "ugx4XolHMBEV"
      },
      "execution_count": null,
      "outputs": []
    },
    {
      "cell_type": "code",
      "source": [
        "# Add a new feature called \"price_per_sqft\".\n",
        "data[\"price_per_sqft\"] = data[\"price\"] * 100000 / data[\"total_sqft\"]"
      ],
      "metadata": {
        "id": "LXsmds7xNM39"
      },
      "execution_count": null,
      "outputs": []
    },
    {
      "cell_type": "markdown",
      "source": [
        "**Examine locations which is a categorical variable. Apply the dimensionality reduction technique here to reduce the number of locations.**"
      ],
      "metadata": {
        "id": "WkZkfeNDPMqt"
      }
    },
    {
      "cell_type": "code",
      "source": [
        "data[\"location\"].value_counts(ascending=False)"
      ],
      "metadata": {
        "id": "93uhKp0CPOLU",
        "colab": {
          "base_uri": "https://localhost:8080/"
        },
        "outputId": "9b9e528d-f3af-4839-d433-38ae89b1715a"
      },
      "execution_count": null,
      "outputs": [
        {
          "output_type": "execute_result",
          "data": {
            "text/plain": [
              "Whitefield                   533\n",
              "Sarjapur  Road               392\n",
              "Electronic City              304\n",
              "Kanakpura Road               264\n",
              "Thanisandra                  235\n",
              "                            ... \n",
              "Rajanna Layout                 1\n",
              "Subramanyanagar                1\n",
              "Lakshmipura Vidyaanyapura      1\n",
              "Malur Hosur Road               1\n",
              "Abshot Layout                  1\n",
              "Name: location, Length: 1287, dtype: int64"
            ]
          },
          "metadata": {},
          "execution_count": 13
        }
      ]
    },
    {
      "cell_type": "markdown",
      "source": [
        "**Any location value with less than 20 data points should be tagged as \"Others\" location. This way, the number of categories gets reduced drastically.**"
      ],
      "metadata": {
        "id": "sB_AOtlmS4E-"
      }
    },
    {
      "cell_type": "code",
      "source": [
        "data[\"location\"] = data[\"location\"].apply(\n",
        "    lambda x: \"Others\"\n",
        "    if x in data[\"location\"].value_counts()[data[\"location\"].value_counts() <= 20]\n",
        "    else x\n",
        ")"
      ],
      "metadata": {
        "id": "gERPl5gUQoGZ"
      },
      "execution_count": null,
      "outputs": []
    },
    {
      "cell_type": "markdown",
      "source": [
        "## **Outlier Removal using Business Logic.**\n",
        "\n",
        "As a Data Scientist, when you have a conversation with your business manager (who has expertise in real estate), he will tell you that normally on average the square ft. per bedroom is 300 (i.e., 2 BHK apartment has a minimum of 600 sqft.). For example, if a 2 BHK apartment has 400 sqft, then that seems suspicious and can be removed as an outlier. We will remove such outliers by keeping our minimum threshold per BHK to be 300 sqft.\n",
        "\n",
        "In the below table, check the data points. We have a 6 BHK apartment with 1020 sqft and 8 BHK with 600 sqft. These data points are outliers and must be removed."
      ],
      "metadata": {
        "id": "JD_UFE6eYJC3"
      }
    },
    {
      "cell_type": "code",
      "source": [
        "print(data.shape)"
      ],
      "metadata": {
        "id": "8VVg_LQ6hGmF",
        "colab": {
          "base_uri": "https://localhost:8080/"
        },
        "outputId": "d407cf63-c675-40ec-f8a2-83cfea36838e"
      },
      "execution_count": null,
      "outputs": [
        {
          "output_type": "stream",
          "name": "stdout",
          "text": [
            "(13200, 6)\n"
          ]
        }
      ]
    },
    {
      "cell_type": "code",
      "source": [
        "data[data[\"total_sqft\"] / data[\"size\"] < 300].head()"
      ],
      "metadata": {
        "id": "TZXOv71EQJ7E",
        "colab": {
          "base_uri": "https://localhost:8080/",
          "height": 206
        },
        "outputId": "91abe189-150e-4805-d8f7-bbeeb42249f8"
      },
      "execution_count": null,
      "outputs": [
        {
          "output_type": "execute_result",
          "data": {
            "text/plain": [
              "      location  size  total_sqft  bath  price  price_per_sqft\n",
              "9       Others     6      1020.0     6  370.0    36274.509804\n",
              "45  HSR Layout     8       600.0     9  200.0    33333.333333\n",
              "58      Others     6      1407.0     4  150.0    10660.980810\n",
              "68      Others     8      1350.0     7   85.0     6296.296296\n",
              "70      Others     3       500.0     3  100.0    20000.000000"
            ],
            "text/html": [
              "\n",
              "  <div id=\"df-fac05575-872c-4f15-b825-e7c2f5382672\">\n",
              "    <div class=\"colab-df-container\">\n",
              "      <div>\n",
              "<style scoped>\n",
              "    .dataframe tbody tr th:only-of-type {\n",
              "        vertical-align: middle;\n",
              "    }\n",
              "\n",
              "    .dataframe tbody tr th {\n",
              "        vertical-align: top;\n",
              "    }\n",
              "\n",
              "    .dataframe thead th {\n",
              "        text-align: right;\n",
              "    }\n",
              "</style>\n",
              "<table border=\"1\" class=\"dataframe\">\n",
              "  <thead>\n",
              "    <tr style=\"text-align: right;\">\n",
              "      <th></th>\n",
              "      <th>location</th>\n",
              "      <th>size</th>\n",
              "      <th>total_sqft</th>\n",
              "      <th>bath</th>\n",
              "      <th>price</th>\n",
              "      <th>price_per_sqft</th>\n",
              "    </tr>\n",
              "  </thead>\n",
              "  <tbody>\n",
              "    <tr>\n",
              "      <th>9</th>\n",
              "      <td>Others</td>\n",
              "      <td>6</td>\n",
              "      <td>1020.0</td>\n",
              "      <td>6</td>\n",
              "      <td>370.0</td>\n",
              "      <td>36274.509804</td>\n",
              "    </tr>\n",
              "    <tr>\n",
              "      <th>45</th>\n",
              "      <td>HSR Layout</td>\n",
              "      <td>8</td>\n",
              "      <td>600.0</td>\n",
              "      <td>9</td>\n",
              "      <td>200.0</td>\n",
              "      <td>33333.333333</td>\n",
              "    </tr>\n",
              "    <tr>\n",
              "      <th>58</th>\n",
              "      <td>Others</td>\n",
              "      <td>6</td>\n",
              "      <td>1407.0</td>\n",
              "      <td>4</td>\n",
              "      <td>150.0</td>\n",
              "      <td>10660.980810</td>\n",
              "    </tr>\n",
              "    <tr>\n",
              "      <th>68</th>\n",
              "      <td>Others</td>\n",
              "      <td>8</td>\n",
              "      <td>1350.0</td>\n",
              "      <td>7</td>\n",
              "      <td>85.0</td>\n",
              "      <td>6296.296296</td>\n",
              "    </tr>\n",
              "    <tr>\n",
              "      <th>70</th>\n",
              "      <td>Others</td>\n",
              "      <td>3</td>\n",
              "      <td>500.0</td>\n",
              "      <td>3</td>\n",
              "      <td>100.0</td>\n",
              "      <td>20000.000000</td>\n",
              "    </tr>\n",
              "  </tbody>\n",
              "</table>\n",
              "</div>\n",
              "      <button class=\"colab-df-convert\" onclick=\"convertToInteractive('df-fac05575-872c-4f15-b825-e7c2f5382672')\"\n",
              "              title=\"Convert this dataframe to an interactive table.\"\n",
              "              style=\"display:none;\">\n",
              "        \n",
              "  <svg xmlns=\"http://www.w3.org/2000/svg\" height=\"24px\"viewBox=\"0 0 24 24\"\n",
              "       width=\"24px\">\n",
              "    <path d=\"M0 0h24v24H0V0z\" fill=\"none\"/>\n",
              "    <path d=\"M18.56 5.44l.94 2.06.94-2.06 2.06-.94-2.06-.94-.94-2.06-.94 2.06-2.06.94zm-11 1L8.5 8.5l.94-2.06 2.06-.94-2.06-.94L8.5 2.5l-.94 2.06-2.06.94zm10 10l.94 2.06.94-2.06 2.06-.94-2.06-.94-.94-2.06-.94 2.06-2.06.94z\"/><path d=\"M17.41 7.96l-1.37-1.37c-.4-.4-.92-.59-1.43-.59-.52 0-1.04.2-1.43.59L10.3 9.45l-7.72 7.72c-.78.78-.78 2.05 0 2.83L4 21.41c.39.39.9.59 1.41.59.51 0 1.02-.2 1.41-.59l7.78-7.78 2.81-2.81c.8-.78.8-2.07 0-2.86zM5.41 20L4 18.59l7.72-7.72 1.47 1.35L5.41 20z\"/>\n",
              "  </svg>\n",
              "      </button>\n",
              "      \n",
              "  <style>\n",
              "    .colab-df-container {\n",
              "      display:flex;\n",
              "      flex-wrap:wrap;\n",
              "      gap: 12px;\n",
              "    }\n",
              "\n",
              "    .colab-df-convert {\n",
              "      background-color: #E8F0FE;\n",
              "      border: none;\n",
              "      border-radius: 50%;\n",
              "      cursor: pointer;\n",
              "      display: none;\n",
              "      fill: #1967D2;\n",
              "      height: 32px;\n",
              "      padding: 0 0 0 0;\n",
              "      width: 32px;\n",
              "    }\n",
              "\n",
              "    .colab-df-convert:hover {\n",
              "      background-color: #E2EBFA;\n",
              "      box-shadow: 0px 1px 2px rgba(60, 64, 67, 0.3), 0px 1px 3px 1px rgba(60, 64, 67, 0.15);\n",
              "      fill: #174EA6;\n",
              "    }\n",
              "\n",
              "    [theme=dark] .colab-df-convert {\n",
              "      background-color: #3B4455;\n",
              "      fill: #D2E3FC;\n",
              "    }\n",
              "\n",
              "    [theme=dark] .colab-df-convert:hover {\n",
              "      background-color: #434B5C;\n",
              "      box-shadow: 0px 1px 3px 1px rgba(0, 0, 0, 0.15);\n",
              "      filter: drop-shadow(0px 1px 2px rgba(0, 0, 0, 0.3));\n",
              "      fill: #FFFFFF;\n",
              "    }\n",
              "  </style>\n",
              "\n",
              "      <script>\n",
              "        const buttonEl =\n",
              "          document.querySelector('#df-fac05575-872c-4f15-b825-e7c2f5382672 button.colab-df-convert');\n",
              "        buttonEl.style.display =\n",
              "          google.colab.kernel.accessAllowed ? 'block' : 'none';\n",
              "\n",
              "        async function convertToInteractive(key) {\n",
              "          const element = document.querySelector('#df-fac05575-872c-4f15-b825-e7c2f5382672');\n",
              "          const dataTable =\n",
              "            await google.colab.kernel.invokeFunction('convertToInteractive',\n",
              "                                                     [key], {});\n",
              "          if (!dataTable) return;\n",
              "\n",
              "          const docLinkHtml = 'Like what you see? Visit the ' +\n",
              "            '<a target=\"_blank\" href=https://colab.research.google.com/notebooks/data_table.ipynb>data table notebook</a>'\n",
              "            + ' to learn more about interactive tables.';\n",
              "          element.innerHTML = '';\n",
              "          dataTable['output_type'] = 'display_data';\n",
              "          await google.colab.output.renderOutput(dataTable, element);\n",
              "          const docLink = document.createElement('div');\n",
              "          docLink.innerHTML = docLinkHtml;\n",
              "          element.appendChild(docLink);\n",
              "        }\n",
              "      </script>\n",
              "    </div>\n",
              "  </div>\n",
              "  "
            ]
          },
          "metadata": {},
          "execution_count": 16
        }
      ]
    },
    {
      "cell_type": "code",
      "source": [
        "# Remove Outliers.\n",
        "data = data[~(data[\"total_sqft\"] / data[\"size\"] < 300)]\n",
        "print(data.shape)"
      ],
      "metadata": {
        "id": "lgi14nkcbXOc",
        "colab": {
          "base_uri": "https://localhost:8080/"
        },
        "outputId": "e81fb09b-8cb3-4482-f61f-4490ed8d0865"
      },
      "execution_count": null,
      "outputs": [
        {
          "output_type": "stream",
          "name": "stdout",
          "text": [
            "(12456, 6)\n"
          ]
        }
      ]
    },
    {
      "cell_type": "markdown",
      "source": [
        "#### **Outlier Removal Using Standard Deviation and Mean.**\n",
        "\n",
        "In the below description, we find that the minimum price per sqft. is Rs 267, whereas the maximum is Rs 176470. This shows a wide variation in property prices. We should remove outliers per location using the mean and standard deviation."
      ],
      "metadata": {
        "id": "b0bpHj9Wb8vF"
      }
    },
    {
      "cell_type": "code",
      "source": [
        "data[\"price_per_sqft\"].describe()"
      ],
      "metadata": {
        "id": "5kQbW1QPb5ZE",
        "colab": {
          "base_uri": "https://localhost:8080/"
        },
        "outputId": "c6ebc459-5162-4b76-9686-9f1ed0758598"
      },
      "execution_count": null,
      "outputs": [
        {
          "output_type": "execute_result",
          "data": {
            "text/plain": [
              "count     12456.000000\n",
              "mean       6308.502826\n",
              "std        4168.127339\n",
              "min         267.829813\n",
              "25%        4210.526316\n",
              "50%        5294.117647\n",
              "75%        6916.666667\n",
              "max      176470.588235\n",
              "Name: price_per_sqft, dtype: float64"
            ]
          },
          "metadata": {},
          "execution_count": 18
        }
      ]
    },
    {
      "cell_type": "code",
      "source": [
        "def remove_pps_outliers(df):\n",
        "    df_out = pd.DataFrame()\n",
        "    for key, subdf in df.groupby(\"location\"):\n",
        "        m = np.mean(subdf.price_per_sqft)\n",
        "        st = np.std(subdf.price_per_sqft)\n",
        "        reduced_df = subdf[\n",
        "            (subdf.price_per_sqft > (m - st)) & (subdf.price_per_sqft <= (m + st))\n",
        "        ]\n",
        "        df_out = pd.concat([df_out, reduced_df], ignore_index=True)\n",
        "    return df_out\n",
        "\n",
        "\n",
        "data = remove_pps_outliers(data)\n",
        "print(data.shape)"
      ],
      "metadata": {
        "id": "GZSYpkiUgKye",
        "colab": {
          "base_uri": "https://localhost:8080/"
        },
        "outputId": "fcbdd5d0-ac4a-4567-88f2-4ac100227126"
      },
      "execution_count": null,
      "outputs": [
        {
          "output_type": "stream",
          "name": "stdout",
          "text": [
            "(10431, 6)\n"
          ]
        }
      ]
    },
    {
      "cell_type": "markdown",
      "source": [
        "We also remove the $N$ BHK apartments whose \"**price_per_sqft**\" is less than the mean \"**price_per_sqft**\" of $(N-1)$ BHK apartments. Here $N$ represents the total BHK which is greater than 1. For example, we can remove those 2 BHK apartments whose \"**price_per_sqft**\" is less than the mean \"**price_per_sqft**\" of 1 BHK apartment."
      ],
      "metadata": {
        "id": "3NZy_WeCnjUJ"
      }
    },
    {
      "cell_type": "code",
      "source": [
        "def remove_bhk_outliers(df):\n",
        "    exclude_indices = np.array([])\n",
        "    for location, location_df in df.groupby(\"location\"):\n",
        "        bhk_stats = {}\n",
        "        for bhk, bhk_df in location_df.groupby(\"size\"):\n",
        "            bhk_stats[bhk] = {\n",
        "                \"mean\": np.mean(bhk_df.price_per_sqft),\n",
        "                \"std\": np.std(bhk_df.price_per_sqft),\n",
        "                \"count\": bhk_df.shape[0],\n",
        "            }\n",
        "        for bhk, bhk_df in location_df.groupby(\"size\"):\n",
        "            stats = bhk_stats.get(bhk - 1)\n",
        "            if stats and stats[\"count\"] > 5:\n",
        "                exclude_indices = np.append(\n",
        "                    exclude_indices,\n",
        "                    bhk_df[bhk_df.price_per_sqft < (stats[\"mean\"])].index.values,\n",
        "                )\n",
        "    return df.drop(exclude_indices, axis=\"index\")\n",
        "\n",
        "\n",
        "data = remove_bhk_outliers(data)\n",
        "print(data.shape)"
      ],
      "metadata": {
        "id": "1KrEjx2akfqD",
        "colab": {
          "base_uri": "https://localhost:8080/"
        },
        "outputId": "677ae131-1558-4d97-ca7a-e110bf9dbc62"
      },
      "execution_count": null,
      "outputs": [
        {
          "output_type": "stream",
          "name": "stdout",
          "text": [
            "(6972, 6)\n"
          ]
        }
      ]
    },
    {
      "cell_type": "markdown",
      "source": [
        "#### **Outlier Removal using Bathrooms Features.**"
      ],
      "metadata": {
        "id": "IKIXDz7LoOnK"
      }
    },
    {
      "cell_type": "code",
      "source": [
        "data[\"bath\"].unique()"
      ],
      "metadata": {
        "id": "7MGqfVvZobJU",
        "colab": {
          "base_uri": "https://localhost:8080/"
        },
        "outputId": "e40b02c7-1464-4b1a-c2da-833bcb98910f"
      },
      "execution_count": null,
      "outputs": [
        {
          "output_type": "execute_result",
          "data": {
            "text/plain": [
              "array([ 3,  5,  4,  2,  8,  1,  6,  7,  9, 12, 16, 13])"
            ]
          },
          "metadata": {},
          "execution_count": 21
        }
      ]
    },
    {
      "cell_type": "code",
      "source": [
        "# No. of Bedrooms >= No. of Bathrooms.\n",
        "data = data[data[\"bath\"] < data[\"size\"] + 1]\n",
        "\n",
        "# Remove data points where BHK > 5.\n",
        "data = data[data[\"size\"] < 5]\n",
        "\n",
        "print(data.shape)"
      ],
      "metadata": {
        "id": "gUR2V_JrouME",
        "colab": {
          "base_uri": "https://localhost:8080/"
        },
        "outputId": "4a32f031-2661-4f4f-a752-830cba5bcd04"
      },
      "execution_count": null,
      "outputs": [
        {
          "output_type": "stream",
          "name": "stdout",
          "text": [
            "(6405, 6)\n"
          ]
        }
      ]
    },
    {
      "cell_type": "markdown",
      "source": [
        "**Any location value with less than 20 data points should be tagged as \"Others\" location. This way, the number of categories gets reduced drastically.**"
      ],
      "metadata": {
        "id": "kavULTw0tQLS"
      }
    },
    {
      "cell_type": "code",
      "source": [
        "data[\"location\"] = data[\"location\"].apply(\n",
        "    lambda x: \"Others\"\n",
        "    if x in data[\"location\"].value_counts()[data[\"location\"].value_counts() <= 20]\n",
        "    else x\n",
        ")"
      ],
      "metadata": {
        "id": "t0JAAiqDtQLY"
      },
      "execution_count": null,
      "outputs": []
    },
    {
      "cell_type": "code",
      "source": [
        "# Drop \"price_per_sqft\" Feature.\n",
        "data = data.drop([\"price_per_sqft\", \"bath\"], axis=\"columns\")\n",
        "\n",
        "# Shuffle the dataset rows and Reset the column index.\n",
        "data = data.sample(frac=1).reset_index(drop=True)\n",
        "\n",
        "print(data)"
      ],
      "metadata": {
        "id": "8GAYsANaqz9h",
        "colab": {
          "base_uri": "https://localhost:8080/"
        },
        "outputId": "32fe4041-3417-480a-fd1e-2cc13c0ea9a2"
      },
      "execution_count": null,
      "outputs": [
        {
          "output_type": "stream",
          "name": "stdout",
          "text": [
            "                location  size  total_sqft  price\n",
            "0                 Others     3      1740.0  120.0\n",
            "1     7th Phase JP Nagar     2      1175.0   82.5\n",
            "2                 Others     3      1893.0  115.0\n",
            "3              Bellandur     3      1846.0  135.0\n",
            "4     5th Phase JP Nagar     2      1030.0   57.0\n",
            "...                  ...   ...         ...    ...\n",
            "6400               Hoodi     3      2144.0  140.0\n",
            "6401         Hennur Road     2      1020.0   47.0\n",
            "6402         Hegde Nagar     3      1569.0  101.0\n",
            "6403              Hebbal     2      1440.0  115.0\n",
            "6404              Others     2      1200.0   80.0\n",
            "\n",
            "[6405 rows x 4 columns]\n"
          ]
        }
      ]
    },
    {
      "cell_type": "code",
      "source": [
        "# Save New Dataset.\n",
        "data.to_csv(\"housingprice.csv\")"
      ],
      "metadata": {
        "id": "9LOATbUxwrdB"
      },
      "execution_count": null,
      "outputs": []
    },
    {
      "cell_type": "markdown",
      "source": [
        "# **ML Model Building.**"
      ],
      "metadata": {
        "id": "9eOUe8SCziOZ"
      }
    },
    {
      "cell_type": "code",
      "source": [
        "# Handling Categorical Features: Label Encoding.\n",
        "from sklearn import preprocessing\n",
        "\n",
        "lb = preprocessing.LabelEncoder()\n",
        "data[\"location\"] = lb.fit_transform(data[\"location\"])\n",
        "\n",
        "# Save the Encoder Object.\n",
        "import pickle\n",
        "\n",
        "pickle.dump(lb, open(\"catencoder.pkl\", \"wb\"))\n",
        "\n",
        "# Split Dataset into Feature and Target Set.\n",
        "X = data.iloc[:, :-1]\n",
        "y = data.iloc[:, -1]\n",
        "\n",
        "# Split Dataset into Train and Test Set.\n",
        "from sklearn.model_selection import train_test_split, RandomizedSearchCV\n",
        "\n",
        "X_train, X_test, y_train, y_test = train_test_split(\n",
        "    X, y, test_size=0.2, random_state=42\n",
        ")"
      ],
      "metadata": {
        "id": "X9bRZ1Zmzj93"
      },
      "execution_count": null,
      "outputs": []
    },
    {
      "cell_type": "markdown",
      "source": [
        "## **Train the Random Forest Regressor Model.**\n",
        "\n",
        "> [**sklearn.ensemble.RandomForestRegressor**](https://scikit-learn.org/stable/modules/generated/sklearn.ensemble.RandomForestRegressor.html#sklearn.ensemble.RandomForestRegressor)"
      ],
      "metadata": {
        "id": "xJsGGr7vGofP"
      }
    },
    {
      "cell_type": "code",
      "source": [
        "# Using Random Forest, with manual Hyperparameter Optimization.\n",
        "from sklearn.ensemble import RandomForestRegressor\n",
        "\n",
        "parameters = {\n",
        "    \"n_estimators\": [100, 200, 300, 400],\n",
        "    \"criterion\": [\"squared_error\", \"absolute_error\", \"poisson\"],\n",
        "    \"max_depth\": [None, 2, 3, 4, 5],\n",
        "    \"min_samples_split\": [2, 3, 4, 5],\n",
        "    \"max_features\": [\"auto\", \"sqrt\", \"log2\"],\n",
        "    \"min_samples_leaf\": [1, 2, 3, 4],\n",
        "}\n",
        "\n",
        "clf = RandomForestRegressor()\n",
        "random_search = RandomizedSearchCV(\n",
        "    estimator=clf,\n",
        "    param_distributions=parameters,\n",
        "    n_iter=100,\n",
        "    cv=10,\n",
        "    verbose=2,\n",
        "    random_state=42,\n",
        "    n_jobs=-1,\n",
        ")\n",
        "random_search = random_search.fit(X_train, y_train)"
      ],
      "metadata": {
        "id": "N4F8VFBb4jqy"
      },
      "execution_count": null,
      "outputs": []
    },
    {
      "cell_type": "code",
      "source": [
        "best_random_grid = random_search.best_estimator_\n",
        "print(random_search.best_estimator_)"
      ],
      "metadata": {
        "id": "GLnbgi4S7khA"
      },
      "execution_count": null,
      "outputs": []
    },
    {
      "cell_type": "code",
      "source": [
        "# Predict the Test Set results.\n",
        "y_pred = best_random_grid.predict(X_test)"
      ],
      "metadata": {
        "id": "MA32h8hm7prA"
      },
      "execution_count": null,
      "outputs": []
    },
    {
      "cell_type": "code",
      "source": [
        "# Save the Model in the Pickle File.\n",
        "pickle.dump(best_random_grid, open(\"rf_model.pkl\", \"wb\"))"
      ],
      "metadata": {
        "id": "u6T_8dMp-RSN"
      },
      "execution_count": null,
      "outputs": []
    },
    {
      "cell_type": "code",
      "source": [
        "from sklearn.metrics import mean_absolute_error, mean_squared_error, r2_score\n",
        "\n",
        "print(\"MSE Score {}\".format(mean_squared_error(y_test, y_pred)))\n",
        "print(\"MAE Score {}\".format(mean_absolute_error(y_test, y_pred)))\n",
        "print(\"R2 Score {}\".format(r2_score(y_test, y_pred)))"
      ],
      "metadata": {
        "id": "v8EwHI-39Eig"
      },
      "execution_count": null,
      "outputs": []
    },
    {
      "cell_type": "markdown",
      "source": [
        "## **Train the Decision Tree Regressor Model.**\n",
        "\n",
        "[**sklearn.tree.DecisionTreeRegressor**](https://scikit-learn.org/stable/modules/generated/sklearn.tree.DecisionTreeRegressor.html#sklearn.tree.DecisionTreeRegressor)"
      ],
      "metadata": {
        "id": "_hYD-xYrIL5H"
      }
    },
    {
      "cell_type": "code",
      "source": [
        "# Using Decision Tree, with manual Hyperparameter Optimization.\n",
        "from sklearn.tree import DecisionTreeRegressor\n",
        "\n",
        "parameters = {\n",
        "    \"criterion\": [\"squared_error\", \"absolute_error\", \"poisson\"],\n",
        "    \"max_depth\": [None, 2, 3, 4, 5],\n",
        "    \"min_samples_split\": [2, 3, 4, 5],\n",
        "    \"max_features\": [\"auto\", \"sqrt\", \"log2\"],\n",
        "    \"min_samples_leaf\": [1, 2, 3, 4],\n",
        "}\n",
        "\n",
        "clf = DecisionTreeRegressor()\n",
        "random_search = RandomizedSearchCV(\n",
        "    estimator=clf,\n",
        "    param_distributions=parameters,\n",
        "    n_iter=100,\n",
        "    cv=10,\n",
        "    verbose=2,\n",
        "    random_state=42,\n",
        "    n_jobs=-1,\n",
        ")\n",
        "random_search = random_search.fit(X_train, y_train)"
      ],
      "metadata": {
        "id": "JDdYRrDEIjb9"
      },
      "execution_count": null,
      "outputs": []
    },
    {
      "cell_type": "code",
      "source": [
        "best_random_grid = random_search.best_estimator_\n",
        "print(random_search.best_estimator_)"
      ],
      "metadata": {
        "id": "epHF-U8dJkwT"
      },
      "execution_count": null,
      "outputs": []
    },
    {
      "cell_type": "code",
      "source": [
        "# Predict the Test Set results.\n",
        "y_pred = best_random_grid.predict(X_test)"
      ],
      "metadata": {
        "id": "X_2g-ygyJkwY"
      },
      "execution_count": null,
      "outputs": []
    },
    {
      "cell_type": "code",
      "source": [
        "# Save the Model in the Pickle File.\n",
        "pickle.dump(best_random_grid, open(\"dt_model.pkl\", \"wb\"))"
      ],
      "metadata": {
        "id": "7smGnElKJkwY"
      },
      "execution_count": null,
      "outputs": []
    },
    {
      "cell_type": "code",
      "source": [
        "from sklearn.metrics import mean_absolute_error, mean_squared_error, r2_score\n",
        "\n",
        "print(\"MSE Score {}\".format(mean_squared_error(y_test, y_pred)))\n",
        "print(\"MAE Score {}\".format(mean_absolute_error(y_test, y_pred)))\n",
        "print(\"R2 Score {}\".format(r2_score(y_test, y_pred)))"
      ],
      "metadata": {
        "id": "Wda3zUMmJkwY"
      },
      "execution_count": null,
      "outputs": []
    },
    {
      "cell_type": "markdown",
      "source": [
        "## **Train the Support Vector Regressor Model.**\n",
        "\n",
        "> [**sklearn.svm.SVR**](https://scikit-learn.org/stable/modules/generated/sklearn.svm.SVR.html#sklearn.svm.SVR)"
      ],
      "metadata": {
        "id": "u969MdSTJ_t3"
      }
    },
    {
      "cell_type": "code",
      "source": [
        "# Using SVM, with manual Hyperparameter Optimization.\n",
        "from sklearn.svm import SVR\n",
        "\n",
        "parameters = {\n",
        "    \"kernel\": [\"linear\", \"poly\", \"rbf\", \"sigmoid\"],\n",
        "    \"degree\": [1, 2, 3, 4, 5],\n",
        "    \"gamma\": [\"scale\", \"auto\"],\n",
        "    \"C\": [0.001, 0.01, 0.1, 1, 10],\n",
        "}\n",
        "\n",
        "clf = SVR()\n",
        "random_search = RandomizedSearchCV(\n",
        "    estimator=clf,\n",
        "    param_distributions=parameters,\n",
        "    n_iter=100,\n",
        "    cv=10,\n",
        "    verbose=2,\n",
        "    random_state=42,\n",
        "    n_jobs=-1,\n",
        ")\n",
        "random_search = random_search.fit(X_train, y_train)"
      ],
      "metadata": {
        "id": "JD_SySkPKUc2"
      },
      "execution_count": null,
      "outputs": []
    },
    {
      "cell_type": "code",
      "source": [
        "best_random_grid = random_search.best_estimator_\n",
        "print(random_search.best_estimator_)"
      ],
      "metadata": {
        "id": "IJe0b-J2Mfap"
      },
      "execution_count": null,
      "outputs": []
    },
    {
      "cell_type": "code",
      "source": [
        "# Predict the Test Set results.\n",
        "y_pred = best_random_grid.predict(X_test)"
      ],
      "metadata": {
        "id": "snSD37tOMfav"
      },
      "execution_count": null,
      "outputs": []
    },
    {
      "cell_type": "code",
      "source": [
        "# Save the Model in the Pickle File.\n",
        "pickle.dump(best_random_grid, open(\"svr_model.pkl\", \"wb\"))"
      ],
      "metadata": {
        "id": "FKLFW2HgMfav"
      },
      "execution_count": null,
      "outputs": []
    },
    {
      "cell_type": "code",
      "source": [
        "from sklearn.metrics import mean_absolute_error, mean_squared_error, r2_score\n",
        "\n",
        "print(\"MSE Score {}\".format(mean_squared_error(y_test, y_pred)))\n",
        "print(\"MAE Score {}\".format(mean_absolute_error(y_test, y_pred)))\n",
        "print(\"R2 Score {}\".format(r2_score(y_test, y_pred)))"
      ],
      "metadata": {
        "id": "fL2cb3DgMfav"
      },
      "execution_count": null,
      "outputs": []
    }
  ]
}